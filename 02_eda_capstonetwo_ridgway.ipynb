{
 "cells": [
  {
   "cell_type": "markdown",
   "id": "f73d7a12",
   "metadata": {},
   "source": [
    "# Capstone 2 Exploratory Data Analysis File"
   ]
  },
  {
   "cell_type": "markdown",
   "id": "05d2c53b",
   "metadata": {},
   "source": [
    "The purpose is to import the processed data from the wrangling notebook and create histograms to look for insights\n",
    "\n",
    "**Student Academic Performance Data**\n",
    "- ACT & SAT: scores.csv\n",
    "\n",
    "**Student Operational Data**\n",
    "- Attendance: attendance.csv\n",
    "- Enrollment: enrollment.csv\n"
   ]
  },
  {
   "cell_type": "markdown",
   "id": "2f4c8da6",
   "metadata": {},
   "source": [
    "## Imports"
   ]
  },
  {
   "cell_type": "code",
   "execution_count": 2,
   "id": "1bf83d22",
   "metadata": {},
   "outputs": [],
   "source": [
    "import pandas as pd\n",
    "\n",
    "import matplotlib.pyplot as plt\n",
    "import numpy as np\n",
    "from matplotlib import colors\n",
    "from matplotlib.ticker import PercentFormatter"
   ]
  },
  {
   "cell_type": "markdown",
   "id": "3dbe9a09",
   "metadata": {},
   "source": [
    "## Load the data"
   ]
  },
  {
   "cell_type": "code",
   "execution_count": 3,
   "id": "3958ca3b",
   "metadata": {},
   "outputs": [],
   "source": [
    "scores = pd.read_csv('scores.csv')\n",
    "att = pd.read_csv('attendance.csv')\n",
    "enroll = pd.read_csv('enrollment.csv')"
   ]
  },
  {
   "cell_type": "markdown",
   "id": "758483cc",
   "metadata": {},
   "source": [
    "## Visualize the scores data"
   ]
  },
  {
   "cell_type": "code",
   "execution_count": 4,
   "id": "803b5d47",
   "metadata": {},
   "outputs": [
    {
     "data": {
      "text/html": [
       "<div>\n",
       "<style scoped>\n",
       "    .dataframe tbody tr th:only-of-type {\n",
       "        vertical-align: middle;\n",
       "    }\n",
       "\n",
       "    .dataframe tbody tr th {\n",
       "        vertical-align: top;\n",
       "    }\n",
       "\n",
       "    .dataframe thead th {\n",
       "        text-align: right;\n",
       "    }\n",
       "</style>\n",
       "<table border=\"1\" class=\"dataframe\">\n",
       "  <thead>\n",
       "    <tr style=\"text-align: right;\">\n",
       "      <th></th>\n",
       "      <th>LONG_SCHOOL_YEAR</th>\n",
       "      <th>SCHOOL_DISTRCT_CD</th>\n",
       "      <th>SCHOOL_DSTRCT_NM</th>\n",
       "      <th>INSTN_NUMBER</th>\n",
       "      <th>INSTN_NAME</th>\n",
       "      <th>SUBGRP_DESC_sat</th>\n",
       "      <th>TEST_CMPNT_TYP_CD_sat</th>\n",
       "      <th>NATIONAL_NUM_TESTED_CNT_sat</th>\n",
       "      <th>STATE_NUM_TESTED_CNT_sat</th>\n",
       "      <th>DSTRCT_NUM_TESTED_CNT_sat</th>\n",
       "      <th>...</th>\n",
       "      <th>SUBGRP_DESC_act</th>\n",
       "      <th>TEST_CMPNT_TYP_CD_act</th>\n",
       "      <th>NATIONAL_NUM_TESTED_CNT_act</th>\n",
       "      <th>STATE_NUM_TESTED_CNT_act</th>\n",
       "      <th>DSTRCT_NUM_TESTED_CNT_act</th>\n",
       "      <th>INSTN_NUM_TESTED_CNT_act</th>\n",
       "      <th>NATIONAL_AVG_SCORE_VAL</th>\n",
       "      <th>STATE_AVG_SCORE_VAL_act</th>\n",
       "      <th>DSTRCT_AVG_SCORE_VAL_act</th>\n",
       "      <th>INSTN_AVG_SCORE_VAL_act</th>\n",
       "    </tr>\n",
       "  </thead>\n",
       "  <tbody>\n",
       "    <tr>\n",
       "      <th>0</th>\n",
       "      <td>2019-20</td>\n",
       "      <td>601</td>\n",
       "      <td>Appling County</td>\n",
       "      <td>103</td>\n",
       "      <td>Appling County High School</td>\n",
       "      <td>All Students</td>\n",
       "      <td>Combined Test Score</td>\n",
       "      <td>2198460.0</td>\n",
       "      <td>43074.0</td>\n",
       "      <td>62.0</td>\n",
       "      <td>...</td>\n",
       "      <td>All Students</td>\n",
       "      <td>Composite</td>\n",
       "      <td>1670497.0</td>\n",
       "      <td>26810.0</td>\n",
       "      <td>16</td>\n",
       "      <td>16</td>\n",
       "      <td>20.6</td>\n",
       "      <td>20.8</td>\n",
       "      <td>19.0</td>\n",
       "      <td>19.0</td>\n",
       "    </tr>\n",
       "    <tr>\n",
       "      <th>1</th>\n",
       "      <td>2019-20</td>\n",
       "      <td>605</td>\n",
       "      <td>Baldwin County</td>\n",
       "      <td>189</td>\n",
       "      <td>Baldwin High School</td>\n",
       "      <td>All Students</td>\n",
       "      <td>Combined Test Score</td>\n",
       "      <td>2198460.0</td>\n",
       "      <td>43074.0</td>\n",
       "      <td>83.0</td>\n",
       "      <td>...</td>\n",
       "      <td>All Students</td>\n",
       "      <td>Composite</td>\n",
       "      <td>1670497.0</td>\n",
       "      <td>26810.0</td>\n",
       "      <td>41</td>\n",
       "      <td>41</td>\n",
       "      <td>20.6</td>\n",
       "      <td>20.8</td>\n",
       "      <td>15.6</td>\n",
       "      <td>15.6</td>\n",
       "    </tr>\n",
       "    <tr>\n",
       "      <th>2</th>\n",
       "      <td>2019-20</td>\n",
       "      <td>606</td>\n",
       "      <td>Banks County</td>\n",
       "      <td>199</td>\n",
       "      <td>Banks County High School</td>\n",
       "      <td>All Students</td>\n",
       "      <td>Combined Test Score</td>\n",
       "      <td>2198460.0</td>\n",
       "      <td>43074.0</td>\n",
       "      <td>68.0</td>\n",
       "      <td>...</td>\n",
       "      <td>All Students</td>\n",
       "      <td>Composite</td>\n",
       "      <td>1670497.0</td>\n",
       "      <td>26810.0</td>\n",
       "      <td>28</td>\n",
       "      <td>28</td>\n",
       "      <td>20.6</td>\n",
       "      <td>20.8</td>\n",
       "      <td>20.1</td>\n",
       "      <td>20.1</td>\n",
       "    </tr>\n",
       "    <tr>\n",
       "      <th>3</th>\n",
       "      <td>2019-20</td>\n",
       "      <td>607</td>\n",
       "      <td>Barrow County</td>\n",
       "      <td>101</td>\n",
       "      <td>Apalachee High School</td>\n",
       "      <td>All Students</td>\n",
       "      <td>Combined Test Score</td>\n",
       "      <td>2198460.0</td>\n",
       "      <td>43074.0</td>\n",
       "      <td>362.0</td>\n",
       "      <td>...</td>\n",
       "      <td>All Students</td>\n",
       "      <td>Composite</td>\n",
       "      <td>1670497.0</td>\n",
       "      <td>26810.0</td>\n",
       "      <td>181</td>\n",
       "      <td>99</td>\n",
       "      <td>20.6</td>\n",
       "      <td>20.8</td>\n",
       "      <td>19.3</td>\n",
       "      <td>18.8</td>\n",
       "    </tr>\n",
       "    <tr>\n",
       "      <th>4</th>\n",
       "      <td>2019-20</td>\n",
       "      <td>607</td>\n",
       "      <td>Barrow County</td>\n",
       "      <td>3052</td>\n",
       "      <td>Winder-Barrow High School</td>\n",
       "      <td>All Students</td>\n",
       "      <td>Combined Test Score</td>\n",
       "      <td>2198460.0</td>\n",
       "      <td>43074.0</td>\n",
       "      <td>362.0</td>\n",
       "      <td>...</td>\n",
       "      <td>All Students</td>\n",
       "      <td>Composite</td>\n",
       "      <td>1670497.0</td>\n",
       "      <td>26810.0</td>\n",
       "      <td>181</td>\n",
       "      <td>82</td>\n",
       "      <td>20.6</td>\n",
       "      <td>20.8</td>\n",
       "      <td>19.3</td>\n",
       "      <td>19.9</td>\n",
       "    </tr>\n",
       "  </tbody>\n",
       "</table>\n",
       "<p>5 rows × 25 columns</p>\n",
       "</div>"
      ],
      "text/plain": [
       "  LONG_SCHOOL_YEAR  SCHOOL_DISTRCT_CD SCHOOL_DSTRCT_NM  INSTN_NUMBER  \\\n",
       "0          2019-20                601   Appling County           103   \n",
       "1          2019-20                605   Baldwin County           189   \n",
       "2          2019-20                606     Banks County           199   \n",
       "3          2019-20                607    Barrow County           101   \n",
       "4          2019-20                607    Barrow County          3052   \n",
       "\n",
       "                   INSTN_NAME SUBGRP_DESC_sat TEST_CMPNT_TYP_CD_sat  \\\n",
       "0  Appling County High School    All Students   Combined Test Score   \n",
       "1         Baldwin High School    All Students   Combined Test Score   \n",
       "2    Banks County High School    All Students   Combined Test Score   \n",
       "3       Apalachee High School    All Students   Combined Test Score   \n",
       "4   Winder-Barrow High School    All Students   Combined Test Score   \n",
       "\n",
       "   NATIONAL_NUM_TESTED_CNT_sat  STATE_NUM_TESTED_CNT_sat  \\\n",
       "0                    2198460.0                   43074.0   \n",
       "1                    2198460.0                   43074.0   \n",
       "2                    2198460.0                   43074.0   \n",
       "3                    2198460.0                   43074.0   \n",
       "4                    2198460.0                   43074.0   \n",
       "\n",
       "   DSTRCT_NUM_TESTED_CNT_sat  ...  SUBGRP_DESC_act  TEST_CMPNT_TYP_CD_act  \\\n",
       "0                       62.0  ...     All Students              Composite   \n",
       "1                       83.0  ...     All Students              Composite   \n",
       "2                       68.0  ...     All Students              Composite   \n",
       "3                      362.0  ...     All Students              Composite   \n",
       "4                      362.0  ...     All Students              Composite   \n",
       "\n",
       "   NATIONAL_NUM_TESTED_CNT_act  STATE_NUM_TESTED_CNT_act  \\\n",
       "0                    1670497.0                   26810.0   \n",
       "1                    1670497.0                   26810.0   \n",
       "2                    1670497.0                   26810.0   \n",
       "3                    1670497.0                   26810.0   \n",
       "4                    1670497.0                   26810.0   \n",
       "\n",
       "  DSTRCT_NUM_TESTED_CNT_act INSTN_NUM_TESTED_CNT_act NATIONAL_AVG_SCORE_VAL  \\\n",
       "0                        16                       16                   20.6   \n",
       "1                        41                       41                   20.6   \n",
       "2                        28                       28                   20.6   \n",
       "3                       181                       99                   20.6   \n",
       "4                       181                       82                   20.6   \n",
       "\n",
       "   STATE_AVG_SCORE_VAL_act  DSTRCT_AVG_SCORE_VAL_act  INSTN_AVG_SCORE_VAL_act  \n",
       "0                     20.8                      19.0                     19.0  \n",
       "1                     20.8                      15.6                     15.6  \n",
       "2                     20.8                      20.1                     20.1  \n",
       "3                     20.8                      19.3                     18.8  \n",
       "4                     20.8                      19.3                     19.9  \n",
       "\n",
       "[5 rows x 25 columns]"
      ]
     },
     "execution_count": 4,
     "metadata": {},
     "output_type": "execute_result"
    }
   ],
   "source": [
    "scores.head()"
   ]
  },
  {
   "cell_type": "code",
   "execution_count": 5,
   "id": "77216e03",
   "metadata": {},
   "outputs": [
    {
     "name": "stdout",
     "output_type": "stream",
     "text": [
      "<class 'pandas.core.frame.DataFrame'>\n",
      "RangeIndex: 352 entries, 0 to 351\n",
      "Data columns (total 25 columns):\n",
      " #   Column                       Non-Null Count  Dtype  \n",
      "---  ------                       --------------  -----  \n",
      " 0   LONG_SCHOOL_YEAR             352 non-null    object \n",
      " 1   SCHOOL_DISTRCT_CD            352 non-null    int64  \n",
      " 2   SCHOOL_DSTRCT_NM             352 non-null    object \n",
      " 3   INSTN_NUMBER                 352 non-null    int64  \n",
      " 4   INSTN_NAME                   352 non-null    object \n",
      " 5   SUBGRP_DESC_sat              352 non-null    object \n",
      " 6   TEST_CMPNT_TYP_CD_sat        352 non-null    object \n",
      " 7   NATIONAL_NUM_TESTED_CNT_sat  352 non-null    float64\n",
      " 8   STATE_NUM_TESTED_CNT_sat     352 non-null    float64\n",
      " 9   DSTRCT_NUM_TESTED_CNT_sat    352 non-null    float64\n",
      " 10  INSTN_NUM_TESTED_CNT_sat     352 non-null    float64\n",
      " 11  STATE_AVG_SCORE_VAL_sat      352 non-null    float64\n",
      " 12  DSTRCT_AVG_SCORE_VAL_sat     352 non-null    int64  \n",
      " 13  INSTN_AVG_SCORE_VAL_sat      352 non-null    int64  \n",
      " 14  Identifier                   352 non-null    object \n",
      " 15  SUBGRP_DESC_act              352 non-null    object \n",
      " 16  TEST_CMPNT_TYP_CD_act        352 non-null    object \n",
      " 17  NATIONAL_NUM_TESTED_CNT_act  352 non-null    float64\n",
      " 18  STATE_NUM_TESTED_CNT_act     352 non-null    float64\n",
      " 19  DSTRCT_NUM_TESTED_CNT_act    352 non-null    int64  \n",
      " 20  INSTN_NUM_TESTED_CNT_act     352 non-null    int64  \n",
      " 21  NATIONAL_AVG_SCORE_VAL       352 non-null    float64\n",
      " 22  STATE_AVG_SCORE_VAL_act      352 non-null    float64\n",
      " 23  DSTRCT_AVG_SCORE_VAL_act     352 non-null    float64\n",
      " 24  INSTN_AVG_SCORE_VAL_act      352 non-null    float64\n",
      "dtypes: float64(11), int64(6), object(8)\n",
      "memory usage: 68.9+ KB\n"
     ]
    }
   ],
   "source": [
    "scores.info()"
   ]
  },
  {
   "cell_type": "markdown",
   "id": "2a3ce254",
   "metadata": {},
   "source": [
    "### Visualize the ACT composite score at the school-level"
   ]
  },
  {
   "cell_type": "code",
   "execution_count": 6,
   "id": "7de3f4dc",
   "metadata": {},
   "outputs": [
    {
     "data": {
      "text/plain": [
       "array([[<AxesSubplot:title={'center':'INSTN_AVG_SCORE_VAL_sat'}>]],\n",
       "      dtype=object)"
      ]
     },
     "execution_count": 6,
     "metadata": {},
     "output_type": "execute_result"
    },
    {
     "data": {
      "image/png": "[encoded data removed]",
      "text/plain": [
       "<Figure size 432x288 with 1 Axes>"
      ]
     },
     "metadata": {
      "needs_background": "light"
     },
     "output_type": "display_data"
    }
   ],
   "source": [
    "scores.hist(column='INSTN_AVG_SCORE_VAL_sat')"
   ]
  },
  {
   "cell_type": "code",
   "execution_count": null,
   "id": "b4d13585",
   "metadata": {},
   "outputs": [],
   "source": []
  }
 ],
 "metadata": {
  "kernelspec": {
   "display_name": "Python 3",
   "language": "python",
   "name": "python3"
  },
  "language_info": {
   "codemirror_mode": {
    "name": "ipython",
    "version": 3
   },
   "file_extension": ".py",
   "mimetype": "text/x-python",
   "name": "python",
   "nbconvert_exporter": "python",
   "pygments_lexer": "ipython3",
   "version": "3.8.8"
  },
  "toc": {
   "base_numbering": 1,
   "nav_menu": {},
   "number_sections": true,
   "sideBar": true,
   "skip_h1_title": false,
   "title_cell": "Table of Contents",
   "title_sidebar": "Contents",
   "toc_cell": false,
   "toc_position": {},
   "toc_section_display": true,
   "toc_window_display": true
  }
 },
 "nbformat": 4,
 "nbformat_minor": 5
}
