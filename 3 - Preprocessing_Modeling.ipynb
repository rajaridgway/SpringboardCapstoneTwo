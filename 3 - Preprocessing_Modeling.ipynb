{
 "cells": [
  {
   "cell_type": "markdown",
   "id": "a7aa864f-d06b-45b5-926f-ad5eec589136",
   "metadata": {},
   "source": [
    "# Analyze Telco Customer Churn: Prepocessing, Training, and Fittting Data\n",
    "In preparation for a presentation to Telco executives about customer churn, the CFO is asking for an analysis and predictions for the factors that most impact churn at the company.\n",
    "\n",
    "This notebook will prepare and model the data to predict churn."
   ]
  },
  {
   "cell_type": "markdown",
   "id": "a04a81cb-79b5-48f2-ad4c-de60c34a819a",
   "metadata": {
    "tags": []
   },
   "source": [
    "## Summary of Process\n",
    "1. **Load dataset**: The dataset cleaned in 1-Data_Prep was loaded into a dataframe. \n",
    "2. **Create dummy variables**: Since the vast majority of the variables are categorical, one-hot encoding was used to convert the categories into numerical values. One-hot encoding was used instead of binary encoding because there were a maximum of three values for the categorical variables.\n",
    "3. **Standardize numeric variables**: Give that tenure and monthly/total charges are on different scales, the three numeric values were standardized. Standardization was used instead of min/max scaling as new data might have higher values for all numeric values.\n",
    "4. **Split into training and testing sets**: A 80/20 test/train split was used as a starting point for the split. This was later changed to 67/33.\n",
    "5. **Apply machine learning models**: Five machine learning models were developed: logistic regression, K-Nearest Neighbor, random forest, gradient boosting, and cat boost. \n",
    "6. **Compare models**: The models were compared using accuracy, F1-scores, lift, and mean cross-validation scores. Logistic regression (F1-Score), random forest (balanced), and cat boost (lift) had the best results.\n",
    "7. **Hyper parameter tuning**: The three best models were tuned using GridSearchCV. The results demonstrate that each of the Cat Boost is likely the best model."
   ]
  },
  {
   "cell_type": "markdown",
   "id": "86c95ac1-0c56-4aa2-b4d5-1f1ab755367b",
   "metadata": {},
   "source": [
    "## Data Sources\n",
    "- summary.csv: cleaned dataset from the 1-Data_Prep Notebook"
   ]
  },
  {
   "cell_type": "markdown",
   "id": "3c165f63-67bc-4d95-bfe5-3336889f551f",
   "metadata": {},
   "source": [
    "## Import Libraries"
   ]
  },
  {
   "cell_type": "code",
   "execution_count": 1,
   "id": "67a696ad-66e1-4532-a165-d3b0432708a8",
   "metadata": {},
   "outputs": [],
   "source": [
    "import pandas as pd\n",
    "from pathlib import Path\n",
    "from datetime import datetime\n",
    "import numpy as np\n",
    "import matplotlib.pyplot as plt\n",
    "import seaborn as sns\n",
    "\n",
    "#Processing and Training\n",
    "from sklearn.preprocessing import StandardScaler\n",
    "from sklearn.model_selection import train_test_split\n",
    "\n",
    "#Modeling\n",
    "from sklearn.model_selection import cross_val_score\n",
    "from sklearn.linear_model import LogisticRegression\n",
    "from sklearn.neighbors import KNeighborsClassifier\n",
    "from sklearn.ensemble import RandomForestClassifier\n",
    "from sklearn.ensemble import ExtraTreesClassifier, GradientBoostingClassifier\n",
    "from catboost import CatBoostClassifier\n",
    "from sklearn.metrics import plot_roc_curve\n",
    "from sklearn.model_selection import GridSearchCV\n",
    "from sklearn.metrics import accuracy_score\n",
    "from sklearn.model_selection import validation_curve\n",
    "from sklearn.metrics import confusion_matrix\n",
    "from sklearn.metrics import ConfusionMatrixDisplay\n",
    "from sklearn.metrics import classification_report\n",
    "from sklearn.metrics import f1_score\n",
    "from sklearn.metrics import auc, roc_curve, roc_auc_score\n",
    "from mlxtend.evaluate import lift_score"
   ]
  },
  {
   "cell_type": "markdown",
   "id": "ed59bc61-4f79-4f83-a94e-866a7a40ed03",
   "metadata": {},
   "source": [
    "## File Locations"
   ]
  },
  {
   "cell_type": "code",
   "execution_count": 2,
   "id": "87c80742-e87a-47f9-a1b2-6a11d224425d",
   "metadata": {},
   "outputs": [],
   "source": [
    "summary_file = Path.cwd() / \"data\" / \"processed\" / f\"summary.csv\""
   ]
  },
  {
   "cell_type": "code",
   "execution_count": 3,
   "id": "92d1f350-fbc5-4d7d-a04e-0b019acc24fc",
   "metadata": {},
   "outputs": [],
   "source": [
    "df = pd.read_csv(summary_file)"
   ]
  },
  {
   "cell_type": "code",
   "execution_count": 4,
   "id": "d85a5077-ed51-4334-af7f-ff92b243f86b",
   "metadata": {},
   "outputs": [
    {
     "data": {
      "text/html": [
       "<div>\n",
       "<style scoped>\n",
       "    .dataframe tbody tr th:only-of-type {\n",
       "        vertical-align: middle;\n",
       "    }\n",
       "\n",
       "    .dataframe tbody tr th {\n",
       "        vertical-align: top;\n",
       "    }\n",
       "\n",
       "    .dataframe thead th {\n",
       "        text-align: right;\n",
       "    }\n",
       "</style>\n",
       "<table border=\"1\" class=\"dataframe\">\n",
       "  <thead>\n",
       "    <tr style=\"text-align: right;\">\n",
       "      <th></th>\n",
       "      <th>0</th>\n",
       "      <th>1</th>\n",
       "      <th>2</th>\n",
       "      <th>3</th>\n",
       "      <th>4</th>\n",
       "    </tr>\n",
       "  </thead>\n",
       "  <tbody>\n",
       "    <tr>\n",
       "      <th>gender</th>\n",
       "      <td>Female</td>\n",
       "      <td>Male</td>\n",
       "      <td>Male</td>\n",
       "      <td>Male</td>\n",
       "      <td>Female</td>\n",
       "    </tr>\n",
       "    <tr>\n",
       "      <th>SeniorCitizen</th>\n",
       "      <td>No</td>\n",
       "      <td>No</td>\n",
       "      <td>No</td>\n",
       "      <td>No</td>\n",
       "      <td>No</td>\n",
       "    </tr>\n",
       "    <tr>\n",
       "      <th>Partner</th>\n",
       "      <td>Yes</td>\n",
       "      <td>No</td>\n",
       "      <td>No</td>\n",
       "      <td>No</td>\n",
       "      <td>No</td>\n",
       "    </tr>\n",
       "    <tr>\n",
       "      <th>Dependents</th>\n",
       "      <td>No</td>\n",
       "      <td>No</td>\n",
       "      <td>No</td>\n",
       "      <td>No</td>\n",
       "      <td>No</td>\n",
       "    </tr>\n",
       "    <tr>\n",
       "      <th>tenure</th>\n",
       "      <td>1</td>\n",
       "      <td>34</td>\n",
       "      <td>2</td>\n",
       "      <td>45</td>\n",
       "      <td>2</td>\n",
       "    </tr>\n",
       "    <tr>\n",
       "      <th>PhoneService</th>\n",
       "      <td>No</td>\n",
       "      <td>Yes</td>\n",
       "      <td>Yes</td>\n",
       "      <td>No</td>\n",
       "      <td>Yes</td>\n",
       "    </tr>\n",
       "    <tr>\n",
       "      <th>MultipleLines</th>\n",
       "      <td>No phone service</td>\n",
       "      <td>No</td>\n",
       "      <td>No</td>\n",
       "      <td>No phone service</td>\n",
       "      <td>No</td>\n",
       "    </tr>\n",
       "    <tr>\n",
       "      <th>InternetService</th>\n",
       "      <td>DSL</td>\n",
       "      <td>DSL</td>\n",
       "      <td>DSL</td>\n",
       "      <td>DSL</td>\n",
       "      <td>Fiber optic</td>\n",
       "    </tr>\n",
       "    <tr>\n",
       "      <th>OnlineSecurity</th>\n",
       "      <td>No</td>\n",
       "      <td>Yes</td>\n",
       "      <td>Yes</td>\n",
       "      <td>Yes</td>\n",
       "      <td>No</td>\n",
       "    </tr>\n",
       "    <tr>\n",
       "      <th>OnlineBackup</th>\n",
       "      <td>Yes</td>\n",
       "      <td>No</td>\n",
       "      <td>Yes</td>\n",
       "      <td>No</td>\n",
       "      <td>No</td>\n",
       "    </tr>\n",
       "    <tr>\n",
       "      <th>DeviceProtection</th>\n",
       "      <td>No</td>\n",
       "      <td>Yes</td>\n",
       "      <td>No</td>\n",
       "      <td>Yes</td>\n",
       "      <td>No</td>\n",
       "    </tr>\n",
       "    <tr>\n",
       "      <th>TechSupport</th>\n",
       "      <td>No</td>\n",
       "      <td>No</td>\n",
       "      <td>No</td>\n",
       "      <td>Yes</td>\n",
       "      <td>No</td>\n",
       "    </tr>\n",
       "    <tr>\n",
       "      <th>StreamingTV</th>\n",
       "      <td>No</td>\n",
       "      <td>No</td>\n",
       "      <td>No</td>\n",
       "      <td>No</td>\n",
       "      <td>No</td>\n",
       "    </tr>\n",
       "    <tr>\n",
       "      <th>StreamingMovies</th>\n",
       "      <td>No</td>\n",
       "      <td>No</td>\n",
       "      <td>No</td>\n",
       "      <td>No</td>\n",
       "      <td>No</td>\n",
       "    </tr>\n",
       "    <tr>\n",
       "      <th>Contract</th>\n",
       "      <td>Month-to-month</td>\n",
       "      <td>One year</td>\n",
       "      <td>Month-to-month</td>\n",
       "      <td>One year</td>\n",
       "      <td>Month-to-month</td>\n",
       "    </tr>\n",
       "    <tr>\n",
       "      <th>PaperlessBilling</th>\n",
       "      <td>Yes</td>\n",
       "      <td>No</td>\n",
       "      <td>Yes</td>\n",
       "      <td>No</td>\n",
       "      <td>Yes</td>\n",
       "    </tr>\n",
       "    <tr>\n",
       "      <th>PaymentMethod</th>\n",
       "      <td>Electronic check</td>\n",
       "      <td>Mailed check</td>\n",
       "      <td>Mailed check</td>\n",
       "      <td>Bank transfer (automatic)</td>\n",
       "      <td>Electronic check</td>\n",
       "    </tr>\n",
       "    <tr>\n",
       "      <th>MonthlyCharges</th>\n",
       "      <td>29.85</td>\n",
       "      <td>56.95</td>\n",
       "      <td>53.85</td>\n",
       "      <td>42.3</td>\n",
       "      <td>70.7</td>\n",
       "    </tr>\n",
       "    <tr>\n",
       "      <th>TotalCharges</th>\n",
       "      <td>29.85</td>\n",
       "      <td>1889.5</td>\n",
       "      <td>108.15</td>\n",
       "      <td>1840.75</td>\n",
       "      <td>151.65</td>\n",
       "    </tr>\n",
       "    <tr>\n",
       "      <th>Churn</th>\n",
       "      <td>No</td>\n",
       "      <td>No</td>\n",
       "      <td>Yes</td>\n",
       "      <td>No</td>\n",
       "      <td>Yes</td>\n",
       "    </tr>\n",
       "  </tbody>\n",
       "</table>\n",
       "</div>"
      ],
      "text/plain": [
       "                                 0             1               2  \\\n",
       "gender                      Female          Male            Male   \n",
       "SeniorCitizen                   No            No              No   \n",
       "Partner                        Yes            No              No   \n",
       "Dependents                      No            No              No   \n",
       "tenure                           1            34               2   \n",
       "PhoneService                    No           Yes             Yes   \n",
       "MultipleLines     No phone service            No              No   \n",
       "InternetService                DSL           DSL             DSL   \n",
       "OnlineSecurity                  No           Yes             Yes   \n",
       "OnlineBackup                   Yes            No             Yes   \n",
       "DeviceProtection                No           Yes              No   \n",
       "TechSupport                     No            No              No   \n",
       "StreamingTV                     No            No              No   \n",
       "StreamingMovies                 No            No              No   \n",
       "Contract            Month-to-month      One year  Month-to-month   \n",
       "PaperlessBilling               Yes            No             Yes   \n",
       "PaymentMethod     Electronic check  Mailed check    Mailed check   \n",
       "MonthlyCharges               29.85         56.95           53.85   \n",
       "TotalCharges                 29.85        1889.5          108.15   \n",
       "Churn                           No            No             Yes   \n",
       "\n",
       "                                          3                 4  \n",
       "gender                                 Male            Female  \n",
       "SeniorCitizen                            No                No  \n",
       "Partner                                  No                No  \n",
       "Dependents                               No                No  \n",
       "tenure                                   45                 2  \n",
       "PhoneService                             No               Yes  \n",
       "MultipleLines              No phone service                No  \n",
       "InternetService                         DSL       Fiber optic  \n",
       "OnlineSecurity                          Yes                No  \n",
       "OnlineBackup                             No                No  \n",
       "DeviceProtection                        Yes                No  \n",
       "TechSupport                             Yes                No  \n",
       "StreamingTV                              No                No  \n",
       "StreamingMovies                          No                No  \n",
       "Contract                           One year    Month-to-month  \n",
       "PaperlessBilling                         No               Yes  \n",
       "PaymentMethod     Bank transfer (automatic)  Electronic check  \n",
       "MonthlyCharges                         42.3              70.7  \n",
       "TotalCharges                        1840.75            151.65  \n",
       "Churn                                    No               Yes  "
      ]
     },
     "execution_count": 4,
     "metadata": {},
     "output_type": "execute_result"
    }
   ],
   "source": [
    "df.head().T"
   ]
  },
  {
   "cell_type": "code",
   "execution_count": 5,
   "id": "f4b5ad3e-fff8-46cb-be77-9d9d5447df23",
   "metadata": {},
   "outputs": [
    {
     "name": "stdout",
     "output_type": "stream",
     "text": [
      "<class 'pandas.core.frame.DataFrame'>\n",
      "RangeIndex: 7043 entries, 0 to 7042\n",
      "Data columns (total 20 columns):\n",
      " #   Column            Non-Null Count  Dtype  \n",
      "---  ------            --------------  -----  \n",
      " 0   gender            7043 non-null   object \n",
      " 1   SeniorCitizen     7043 non-null   object \n",
      " 2   Partner           7043 non-null   object \n",
      " 3   Dependents        7043 non-null   object \n",
      " 4   tenure            7043 non-null   int64  \n",
      " 5   PhoneService      7043 non-null   object \n",
      " 6   MultipleLines     7043 non-null   object \n",
      " 7   InternetService   7043 non-null   object \n",
      " 8   OnlineSecurity    7043 non-null   object \n",
      " 9   OnlineBackup      7043 non-null   object \n",
      " 10  DeviceProtection  7043 non-null   object \n",
      " 11  TechSupport       7043 non-null   object \n",
      " 12  StreamingTV       7043 non-null   object \n",
      " 13  StreamingMovies   7043 non-null   object \n",
      " 14  Contract          7043 non-null   object \n",
      " 15  PaperlessBilling  7043 non-null   object \n",
      " 16  PaymentMethod     7043 non-null   object \n",
      " 17  MonthlyCharges    7043 non-null   float64\n",
      " 18  TotalCharges      7043 non-null   float64\n",
      " 19  Churn             7043 non-null   object \n",
      "dtypes: float64(2), int64(1), object(17)\n",
      "memory usage: 1.1+ MB\n"
     ]
    }
   ],
   "source": [
    "df.info()"
   ]
  },
  {
   "cell_type": "markdown",
   "id": "24647ac9-8a05-4ab4-a0a0-fce350ae72aa",
   "metadata": {},
   "source": [
    "## Create dummy features for categorical variables via one-hot encoding"
   ]
  },
  {
   "cell_type": "code",
   "execution_count": 6,
   "id": "c5e4193b-8fa5-4915-80d9-f8a4348a8a1f",
   "metadata": {},
   "outputs": [],
   "source": [
    "X = df"
   ]
  },
  {
   "cell_type": "code",
   "execution_count": 7,
   "id": "a500f9fd-83e8-4549-a519-1e0cb0630123",
   "metadata": {},
   "outputs": [],
   "source": [
    "# Filter for the categorical variables\n",
    "only_objects = X.select_dtypes(include='object')"
   ]
  },
  {
   "cell_type": "code",
   "execution_count": 8,
   "id": "2b9ea8c0-26ce-4c79-9d18-f1e4adc1b683",
   "metadata": {},
   "outputs": [
    {
     "data": {
      "text/html": [
       "<div>\n",
       "<style scoped>\n",
       "    .dataframe tbody tr th:only-of-type {\n",
       "        vertical-align: middle;\n",
       "    }\n",
       "\n",
       "    .dataframe tbody tr th {\n",
       "        vertical-align: top;\n",
       "    }\n",
       "\n",
       "    .dataframe thead th {\n",
       "        text-align: right;\n",
       "    }\n",
       "</style>\n",
       "<table border=\"1\" class=\"dataframe\">\n",
       "  <thead>\n",
       "    <tr style=\"text-align: right;\">\n",
       "      <th></th>\n",
       "      <th>gender</th>\n",
       "      <th>SeniorCitizen</th>\n",
       "      <th>Partner</th>\n",
       "      <th>Dependents</th>\n",
       "      <th>PhoneService</th>\n",
       "      <th>MultipleLines</th>\n",
       "      <th>InternetService</th>\n",
       "      <th>OnlineSecurity</th>\n",
       "      <th>OnlineBackup</th>\n",
       "      <th>DeviceProtection</th>\n",
       "      <th>TechSupport</th>\n",
       "      <th>StreamingTV</th>\n",
       "      <th>StreamingMovies</th>\n",
       "      <th>Contract</th>\n",
       "      <th>PaperlessBilling</th>\n",
       "      <th>PaymentMethod</th>\n",
       "      <th>Churn</th>\n",
       "    </tr>\n",
       "  </thead>\n",
       "  <tbody>\n",
       "    <tr>\n",
       "      <th>0</th>\n",
       "      <td>Female</td>\n",
       "      <td>No</td>\n",
       "      <td>Yes</td>\n",
       "      <td>No</td>\n",
       "      <td>No</td>\n",
       "      <td>No phone service</td>\n",
       "      <td>DSL</td>\n",
       "      <td>No</td>\n",
       "      <td>Yes</td>\n",
       "      <td>No</td>\n",
       "      <td>No</td>\n",
       "      <td>No</td>\n",
       "      <td>No</td>\n",
       "      <td>Month-to-month</td>\n",
       "      <td>Yes</td>\n",
       "      <td>Electronic check</td>\n",
       "      <td>No</td>\n",
       "    </tr>\n",
       "    <tr>\n",
       "      <th>1</th>\n",
       "      <td>Male</td>\n",
       "      <td>No</td>\n",
       "      <td>No</td>\n",
       "      <td>No</td>\n",
       "      <td>Yes</td>\n",
       "      <td>No</td>\n",
       "      <td>DSL</td>\n",
       "      <td>Yes</td>\n",
       "      <td>No</td>\n",
       "      <td>Yes</td>\n",
       "      <td>No</td>\n",
       "      <td>No</td>\n",
       "      <td>No</td>\n",
       "      <td>One year</td>\n",
       "      <td>No</td>\n",
       "      <td>Mailed check</td>\n",
       "      <td>No</td>\n",
       "    </tr>\n",
       "    <tr>\n",
       "      <th>2</th>\n",
       "      <td>Male</td>\n",
       "      <td>No</td>\n",
       "      <td>No</td>\n",
       "      <td>No</td>\n",
       "      <td>Yes</td>\n",
       "      <td>No</td>\n",
       "      <td>DSL</td>\n",
       "      <td>Yes</td>\n",
       "      <td>Yes</td>\n",
       "      <td>No</td>\n",
       "      <td>No</td>\n",
       "      <td>No</td>\n",
       "      <td>No</td>\n",
       "      <td>Month-to-month</td>\n",
       "      <td>Yes</td>\n",
       "      <td>Mailed check</td>\n",
       "      <td>Yes</td>\n",
       "    </tr>\n",
       "    <tr>\n",
       "      <th>3</th>\n",
       "      <td>Male</td>\n",
       "      <td>No</td>\n",
       "      <td>No</td>\n",
       "      <td>No</td>\n",
       "      <td>No</td>\n",
       "      <td>No phone service</td>\n",
       "      <td>DSL</td>\n",
       "      <td>Yes</td>\n",
       "      <td>No</td>\n",
       "      <td>Yes</td>\n",
       "      <td>Yes</td>\n",
       "      <td>No</td>\n",
       "      <td>No</td>\n",
       "      <td>One year</td>\n",
       "      <td>No</td>\n",
       "      <td>Bank transfer (automatic)</td>\n",
       "      <td>No</td>\n",
       "    </tr>\n",
       "    <tr>\n",
       "      <th>4</th>\n",
       "      <td>Female</td>\n",
       "      <td>No</td>\n",
       "      <td>No</td>\n",
       "      <td>No</td>\n",
       "      <td>Yes</td>\n",
       "      <td>No</td>\n",
       "      <td>Fiber optic</td>\n",
       "      <td>No</td>\n",
       "      <td>No</td>\n",
       "      <td>No</td>\n",
       "      <td>No</td>\n",
       "      <td>No</td>\n",
       "      <td>No</td>\n",
       "      <td>Month-to-month</td>\n",
       "      <td>Yes</td>\n",
       "      <td>Electronic check</td>\n",
       "      <td>Yes</td>\n",
       "    </tr>\n",
       "  </tbody>\n",
       "</table>\n",
       "</div>"
      ],
      "text/plain": [
       "   gender SeniorCitizen Partner Dependents PhoneService     MultipleLines  \\\n",
       "0  Female            No     Yes         No           No  No phone service   \n",
       "1    Male            No      No         No          Yes                No   \n",
       "2    Male            No      No         No          Yes                No   \n",
       "3    Male            No      No         No           No  No phone service   \n",
       "4  Female            No      No         No          Yes                No   \n",
       "\n",
       "  InternetService OnlineSecurity OnlineBackup DeviceProtection TechSupport  \\\n",
       "0             DSL             No          Yes               No          No   \n",
       "1             DSL            Yes           No              Yes          No   \n",
       "2             DSL            Yes          Yes               No          No   \n",
       "3             DSL            Yes           No              Yes         Yes   \n",
       "4     Fiber optic             No           No               No          No   \n",
       "\n",
       "  StreamingTV StreamingMovies        Contract PaperlessBilling  \\\n",
       "0          No              No  Month-to-month              Yes   \n",
       "1          No              No        One year               No   \n",
       "2          No              No  Month-to-month              Yes   \n",
       "3          No              No        One year               No   \n",
       "4          No              No  Month-to-month              Yes   \n",
       "\n",
       "               PaymentMethod Churn  \n",
       "0           Electronic check    No  \n",
       "1               Mailed check    No  \n",
       "2               Mailed check   Yes  \n",
       "3  Bank transfer (automatic)    No  \n",
       "4           Electronic check   Yes  "
      ]
     },
     "execution_count": 8,
     "metadata": {},
     "output_type": "execute_result"
    }
   ],
   "source": [
    "# Confirm the object columns remain\n",
    "only_objects.head()"
   ]
  },
  {
   "cell_type": "code",
   "execution_count": 9,
   "id": "bea55610-1aff-44f7-b9bb-a4190869b09c",
   "metadata": {},
   "outputs": [],
   "source": [
    "# Create dummy columns using one-hot encoding\n",
    "X = pd.get_dummies(X, columns=only_objects.columns, drop_first=True)"
   ]
  },
  {
   "cell_type": "code",
   "execution_count": 10,
   "id": "48b637d7-d92f-4fda-8185-bbe787c33523",
   "metadata": {},
   "outputs": [
    {
     "data": {
      "text/html": [
       "<div>\n",
       "<style scoped>\n",
       "    .dataframe tbody tr th:only-of-type {\n",
       "        vertical-align: middle;\n",
       "    }\n",
       "\n",
       "    .dataframe tbody tr th {\n",
       "        vertical-align: top;\n",
       "    }\n",
       "\n",
       "    .dataframe thead th {\n",
       "        text-align: right;\n",
       "    }\n",
       "</style>\n",
       "<table border=\"1\" class=\"dataframe\">\n",
       "  <thead>\n",
       "    <tr style=\"text-align: right;\">\n",
       "      <th></th>\n",
       "      <th>0</th>\n",
       "      <th>1</th>\n",
       "      <th>2</th>\n",
       "      <th>3</th>\n",
       "      <th>4</th>\n",
       "      <th>5</th>\n",
       "      <th>6</th>\n",
       "      <th>7</th>\n",
       "      <th>8</th>\n",
       "      <th>9</th>\n",
       "    </tr>\n",
       "  </thead>\n",
       "  <tbody>\n",
       "    <tr>\n",
       "      <th>tenure</th>\n",
       "      <td>1.00</td>\n",
       "      <td>34.00</td>\n",
       "      <td>2.00</td>\n",
       "      <td>45.00</td>\n",
       "      <td>2.00</td>\n",
       "      <td>8.00</td>\n",
       "      <td>22.0</td>\n",
       "      <td>10.00</td>\n",
       "      <td>28.00</td>\n",
       "      <td>62.00</td>\n",
       "    </tr>\n",
       "    <tr>\n",
       "      <th>MonthlyCharges</th>\n",
       "      <td>29.85</td>\n",
       "      <td>56.95</td>\n",
       "      <td>53.85</td>\n",
       "      <td>42.30</td>\n",
       "      <td>70.70</td>\n",
       "      <td>99.65</td>\n",
       "      <td>89.1</td>\n",
       "      <td>29.75</td>\n",
       "      <td>104.80</td>\n",
       "      <td>56.15</td>\n",
       "    </tr>\n",
       "    <tr>\n",
       "      <th>TotalCharges</th>\n",
       "      <td>29.85</td>\n",
       "      <td>1889.50</td>\n",
       "      <td>108.15</td>\n",
       "      <td>1840.75</td>\n",
       "      <td>151.65</td>\n",
       "      <td>820.50</td>\n",
       "      <td>1949.4</td>\n",
       "      <td>301.90</td>\n",
       "      <td>3046.05</td>\n",
       "      <td>3487.95</td>\n",
       "    </tr>\n",
       "    <tr>\n",
       "      <th>gender_Male</th>\n",
       "      <td>0.00</td>\n",
       "      <td>1.00</td>\n",
       "      <td>1.00</td>\n",
       "      <td>1.00</td>\n",
       "      <td>0.00</td>\n",
       "      <td>0.00</td>\n",
       "      <td>1.0</td>\n",
       "      <td>0.00</td>\n",
       "      <td>0.00</td>\n",
       "      <td>1.00</td>\n",
       "    </tr>\n",
       "    <tr>\n",
       "      <th>SeniorCitizen_Yes</th>\n",
       "      <td>0.00</td>\n",
       "      <td>0.00</td>\n",
       "      <td>0.00</td>\n",
       "      <td>0.00</td>\n",
       "      <td>0.00</td>\n",
       "      <td>0.00</td>\n",
       "      <td>0.0</td>\n",
       "      <td>0.00</td>\n",
       "      <td>0.00</td>\n",
       "      <td>0.00</td>\n",
       "    </tr>\n",
       "    <tr>\n",
       "      <th>Partner_Yes</th>\n",
       "      <td>1.00</td>\n",
       "      <td>0.00</td>\n",
       "      <td>0.00</td>\n",
       "      <td>0.00</td>\n",
       "      <td>0.00</td>\n",
       "      <td>0.00</td>\n",
       "      <td>0.0</td>\n",
       "      <td>0.00</td>\n",
       "      <td>1.00</td>\n",
       "      <td>0.00</td>\n",
       "    </tr>\n",
       "    <tr>\n",
       "      <th>Dependents_Yes</th>\n",
       "      <td>0.00</td>\n",
       "      <td>0.00</td>\n",
       "      <td>0.00</td>\n",
       "      <td>0.00</td>\n",
       "      <td>0.00</td>\n",
       "      <td>0.00</td>\n",
       "      <td>1.0</td>\n",
       "      <td>0.00</td>\n",
       "      <td>0.00</td>\n",
       "      <td>1.00</td>\n",
       "    </tr>\n",
       "    <tr>\n",
       "      <th>PhoneService_Yes</th>\n",
       "      <td>0.00</td>\n",
       "      <td>1.00</td>\n",
       "      <td>1.00</td>\n",
       "      <td>0.00</td>\n",
       "      <td>1.00</td>\n",
       "      <td>1.00</td>\n",
       "      <td>1.0</td>\n",
       "      <td>0.00</td>\n",
       "      <td>1.00</td>\n",
       "      <td>1.00</td>\n",
       "    </tr>\n",
       "    <tr>\n",
       "      <th>MultipleLines_No phone service</th>\n",
       "      <td>1.00</td>\n",
       "      <td>0.00</td>\n",
       "      <td>0.00</td>\n",
       "      <td>1.00</td>\n",
       "      <td>0.00</td>\n",
       "      <td>0.00</td>\n",
       "      <td>0.0</td>\n",
       "      <td>1.00</td>\n",
       "      <td>0.00</td>\n",
       "      <td>0.00</td>\n",
       "    </tr>\n",
       "    <tr>\n",
       "      <th>MultipleLines_Yes</th>\n",
       "      <td>0.00</td>\n",
       "      <td>0.00</td>\n",
       "      <td>0.00</td>\n",
       "      <td>0.00</td>\n",
       "      <td>0.00</td>\n",
       "      <td>1.00</td>\n",
       "      <td>1.0</td>\n",
       "      <td>0.00</td>\n",
       "      <td>1.00</td>\n",
       "      <td>0.00</td>\n",
       "    </tr>\n",
       "    <tr>\n",
       "      <th>InternetService_Fiber optic</th>\n",
       "      <td>0.00</td>\n",
       "      <td>0.00</td>\n",
       "      <td>0.00</td>\n",
       "      <td>0.00</td>\n",
       "      <td>1.00</td>\n",
       "      <td>1.00</td>\n",
       "      <td>1.0</td>\n",
       "      <td>0.00</td>\n",
       "      <td>1.00</td>\n",
       "      <td>0.00</td>\n",
       "    </tr>\n",
       "    <tr>\n",
       "      <th>InternetService_No</th>\n",
       "      <td>0.00</td>\n",
       "      <td>0.00</td>\n",
       "      <td>0.00</td>\n",
       "      <td>0.00</td>\n",
       "      <td>0.00</td>\n",
       "      <td>0.00</td>\n",
       "      <td>0.0</td>\n",
       "      <td>0.00</td>\n",
       "      <td>0.00</td>\n",
       "      <td>0.00</td>\n",
       "    </tr>\n",
       "    <tr>\n",
       "      <th>OnlineSecurity_No internet service</th>\n",
       "      <td>0.00</td>\n",
       "      <td>0.00</td>\n",
       "      <td>0.00</td>\n",
       "      <td>0.00</td>\n",
       "      <td>0.00</td>\n",
       "      <td>0.00</td>\n",
       "      <td>0.0</td>\n",
       "      <td>0.00</td>\n",
       "      <td>0.00</td>\n",
       "      <td>0.00</td>\n",
       "    </tr>\n",
       "    <tr>\n",
       "      <th>OnlineSecurity_Yes</th>\n",
       "      <td>0.00</td>\n",
       "      <td>1.00</td>\n",
       "      <td>1.00</td>\n",
       "      <td>1.00</td>\n",
       "      <td>0.00</td>\n",
       "      <td>0.00</td>\n",
       "      <td>0.0</td>\n",
       "      <td>1.00</td>\n",
       "      <td>0.00</td>\n",
       "      <td>1.00</td>\n",
       "    </tr>\n",
       "    <tr>\n",
       "      <th>OnlineBackup_No internet service</th>\n",
       "      <td>0.00</td>\n",
       "      <td>0.00</td>\n",
       "      <td>0.00</td>\n",
       "      <td>0.00</td>\n",
       "      <td>0.00</td>\n",
       "      <td>0.00</td>\n",
       "      <td>0.0</td>\n",
       "      <td>0.00</td>\n",
       "      <td>0.00</td>\n",
       "      <td>0.00</td>\n",
       "    </tr>\n",
       "    <tr>\n",
       "      <th>OnlineBackup_Yes</th>\n",
       "      <td>1.00</td>\n",
       "      <td>0.00</td>\n",
       "      <td>1.00</td>\n",
       "      <td>0.00</td>\n",
       "      <td>0.00</td>\n",
       "      <td>0.00</td>\n",
       "      <td>1.0</td>\n",
       "      <td>0.00</td>\n",
       "      <td>0.00</td>\n",
       "      <td>1.00</td>\n",
       "    </tr>\n",
       "    <tr>\n",
       "      <th>DeviceProtection_No internet service</th>\n",
       "      <td>0.00</td>\n",
       "      <td>0.00</td>\n",
       "      <td>0.00</td>\n",
       "      <td>0.00</td>\n",
       "      <td>0.00</td>\n",
       "      <td>0.00</td>\n",
       "      <td>0.0</td>\n",
       "      <td>0.00</td>\n",
       "      <td>0.00</td>\n",
       "      <td>0.00</td>\n",
       "    </tr>\n",
       "    <tr>\n",
       "      <th>DeviceProtection_Yes</th>\n",
       "      <td>0.00</td>\n",
       "      <td>1.00</td>\n",
       "      <td>0.00</td>\n",
       "      <td>1.00</td>\n",
       "      <td>0.00</td>\n",
       "      <td>1.00</td>\n",
       "      <td>0.0</td>\n",
       "      <td>0.00</td>\n",
       "      <td>1.00</td>\n",
       "      <td>0.00</td>\n",
       "    </tr>\n",
       "    <tr>\n",
       "      <th>TechSupport_No internet service</th>\n",
       "      <td>0.00</td>\n",
       "      <td>0.00</td>\n",
       "      <td>0.00</td>\n",
       "      <td>0.00</td>\n",
       "      <td>0.00</td>\n",
       "      <td>0.00</td>\n",
       "      <td>0.0</td>\n",
       "      <td>0.00</td>\n",
       "      <td>0.00</td>\n",
       "      <td>0.00</td>\n",
       "    </tr>\n",
       "    <tr>\n",
       "      <th>TechSupport_Yes</th>\n",
       "      <td>0.00</td>\n",
       "      <td>0.00</td>\n",
       "      <td>0.00</td>\n",
       "      <td>1.00</td>\n",
       "      <td>0.00</td>\n",
       "      <td>0.00</td>\n",
       "      <td>0.0</td>\n",
       "      <td>0.00</td>\n",
       "      <td>1.00</td>\n",
       "      <td>0.00</td>\n",
       "    </tr>\n",
       "    <tr>\n",
       "      <th>StreamingTV_No internet service</th>\n",
       "      <td>0.00</td>\n",
       "      <td>0.00</td>\n",
       "      <td>0.00</td>\n",
       "      <td>0.00</td>\n",
       "      <td>0.00</td>\n",
       "      <td>0.00</td>\n",
       "      <td>0.0</td>\n",
       "      <td>0.00</td>\n",
       "      <td>0.00</td>\n",
       "      <td>0.00</td>\n",
       "    </tr>\n",
       "    <tr>\n",
       "      <th>StreamingTV_Yes</th>\n",
       "      <td>0.00</td>\n",
       "      <td>0.00</td>\n",
       "      <td>0.00</td>\n",
       "      <td>0.00</td>\n",
       "      <td>0.00</td>\n",
       "      <td>1.00</td>\n",
       "      <td>1.0</td>\n",
       "      <td>0.00</td>\n",
       "      <td>1.00</td>\n",
       "      <td>0.00</td>\n",
       "    </tr>\n",
       "    <tr>\n",
       "      <th>StreamingMovies_No internet service</th>\n",
       "      <td>0.00</td>\n",
       "      <td>0.00</td>\n",
       "      <td>0.00</td>\n",
       "      <td>0.00</td>\n",
       "      <td>0.00</td>\n",
       "      <td>0.00</td>\n",
       "      <td>0.0</td>\n",
       "      <td>0.00</td>\n",
       "      <td>0.00</td>\n",
       "      <td>0.00</td>\n",
       "    </tr>\n",
       "    <tr>\n",
       "      <th>StreamingMovies_Yes</th>\n",
       "      <td>0.00</td>\n",
       "      <td>0.00</td>\n",
       "      <td>0.00</td>\n",
       "      <td>0.00</td>\n",
       "      <td>0.00</td>\n",
       "      <td>1.00</td>\n",
       "      <td>0.0</td>\n",
       "      <td>0.00</td>\n",
       "      <td>1.00</td>\n",
       "      <td>0.00</td>\n",
       "    </tr>\n",
       "    <tr>\n",
       "      <th>Contract_One year</th>\n",
       "      <td>0.00</td>\n",
       "      <td>1.00</td>\n",
       "      <td>0.00</td>\n",
       "      <td>1.00</td>\n",
       "      <td>0.00</td>\n",
       "      <td>0.00</td>\n",
       "      <td>0.0</td>\n",
       "      <td>0.00</td>\n",
       "      <td>0.00</td>\n",
       "      <td>1.00</td>\n",
       "    </tr>\n",
       "    <tr>\n",
       "      <th>Contract_Two year</th>\n",
       "      <td>0.00</td>\n",
       "      <td>0.00</td>\n",
       "      <td>0.00</td>\n",
       "      <td>0.00</td>\n",
       "      <td>0.00</td>\n",
       "      <td>0.00</td>\n",
       "      <td>0.0</td>\n",
       "      <td>0.00</td>\n",
       "      <td>0.00</td>\n",
       "      <td>0.00</td>\n",
       "    </tr>\n",
       "    <tr>\n",
       "      <th>PaperlessBilling_Yes</th>\n",
       "      <td>1.00</td>\n",
       "      <td>0.00</td>\n",
       "      <td>1.00</td>\n",
       "      <td>0.00</td>\n",
       "      <td>1.00</td>\n",
       "      <td>1.00</td>\n",
       "      <td>1.0</td>\n",
       "      <td>0.00</td>\n",
       "      <td>1.00</td>\n",
       "      <td>0.00</td>\n",
       "    </tr>\n",
       "    <tr>\n",
       "      <th>PaymentMethod_Credit card (automatic)</th>\n",
       "      <td>0.00</td>\n",
       "      <td>0.00</td>\n",
       "      <td>0.00</td>\n",
       "      <td>0.00</td>\n",
       "      <td>0.00</td>\n",
       "      <td>0.00</td>\n",
       "      <td>1.0</td>\n",
       "      <td>0.00</td>\n",
       "      <td>0.00</td>\n",
       "      <td>0.00</td>\n",
       "    </tr>\n",
       "    <tr>\n",
       "      <th>PaymentMethod_Electronic check</th>\n",
       "      <td>1.00</td>\n",
       "      <td>0.00</td>\n",
       "      <td>0.00</td>\n",
       "      <td>0.00</td>\n",
       "      <td>1.00</td>\n",
       "      <td>1.00</td>\n",
       "      <td>0.0</td>\n",
       "      <td>0.00</td>\n",
       "      <td>1.00</td>\n",
       "      <td>0.00</td>\n",
       "    </tr>\n",
       "    <tr>\n",
       "      <th>PaymentMethod_Mailed check</th>\n",
       "      <td>0.00</td>\n",
       "      <td>1.00</td>\n",
       "      <td>1.00</td>\n",
       "      <td>0.00</td>\n",
       "      <td>0.00</td>\n",
       "      <td>0.00</td>\n",
       "      <td>0.0</td>\n",
       "      <td>1.00</td>\n",
       "      <td>0.00</td>\n",
       "      <td>0.00</td>\n",
       "    </tr>\n",
       "    <tr>\n",
       "      <th>Churn_Yes</th>\n",
       "      <td>0.00</td>\n",
       "      <td>0.00</td>\n",
       "      <td>1.00</td>\n",
       "      <td>0.00</td>\n",
       "      <td>1.00</td>\n",
       "      <td>1.00</td>\n",
       "      <td>0.0</td>\n",
       "      <td>0.00</td>\n",
       "      <td>1.00</td>\n",
       "      <td>0.00</td>\n",
       "    </tr>\n",
       "  </tbody>\n",
       "</table>\n",
       "</div>"
      ],
      "text/plain": [
       "                                           0        1       2        3  \\\n",
       "tenure                                  1.00    34.00    2.00    45.00   \n",
       "MonthlyCharges                         29.85    56.95   53.85    42.30   \n",
       "TotalCharges                           29.85  1889.50  108.15  1840.75   \n",
       "gender_Male                             0.00     1.00    1.00     1.00   \n",
       "SeniorCitizen_Yes                       0.00     0.00    0.00     0.00   \n",
       "Partner_Yes                             1.00     0.00    0.00     0.00   \n",
       "Dependents_Yes                          0.00     0.00    0.00     0.00   \n",
       "PhoneService_Yes                        0.00     1.00    1.00     0.00   \n",
       "MultipleLines_No phone service          1.00     0.00    0.00     1.00   \n",
       "MultipleLines_Yes                       0.00     0.00    0.00     0.00   \n",
       "InternetService_Fiber optic             0.00     0.00    0.00     0.00   \n",
       "InternetService_No                      0.00     0.00    0.00     0.00   \n",
       "OnlineSecurity_No internet service      0.00     0.00    0.00     0.00   \n",
       "OnlineSecurity_Yes                      0.00     1.00    1.00     1.00   \n",
       "OnlineBackup_No internet service        0.00     0.00    0.00     0.00   \n",
       "OnlineBackup_Yes                        1.00     0.00    1.00     0.00   \n",
       "DeviceProtection_No internet service    0.00     0.00    0.00     0.00   \n",
       "DeviceProtection_Yes                    0.00     1.00    0.00     1.00   \n",
       "TechSupport_No internet service         0.00     0.00    0.00     0.00   \n",
       "TechSupport_Yes                         0.00     0.00    0.00     1.00   \n",
       "StreamingTV_No internet service         0.00     0.00    0.00     0.00   \n",
       "StreamingTV_Yes                         0.00     0.00    0.00     0.00   \n",
       "StreamingMovies_No internet service     0.00     0.00    0.00     0.00   \n",
       "StreamingMovies_Yes                     0.00     0.00    0.00     0.00   \n",
       "Contract_One year                       0.00     1.00    0.00     1.00   \n",
       "Contract_Two year                       0.00     0.00    0.00     0.00   \n",
       "PaperlessBilling_Yes                    1.00     0.00    1.00     0.00   \n",
       "PaymentMethod_Credit card (automatic)   0.00     0.00    0.00     0.00   \n",
       "PaymentMethod_Electronic check          1.00     0.00    0.00     0.00   \n",
       "PaymentMethod_Mailed check              0.00     1.00    1.00     0.00   \n",
       "Churn_Yes                               0.00     0.00    1.00     0.00   \n",
       "\n",
       "                                            4       5       6       7  \\\n",
       "tenure                                   2.00    8.00    22.0   10.00   \n",
       "MonthlyCharges                          70.70   99.65    89.1   29.75   \n",
       "TotalCharges                           151.65  820.50  1949.4  301.90   \n",
       "gender_Male                              0.00    0.00     1.0    0.00   \n",
       "SeniorCitizen_Yes                        0.00    0.00     0.0    0.00   \n",
       "Partner_Yes                              0.00    0.00     0.0    0.00   \n",
       "Dependents_Yes                           0.00    0.00     1.0    0.00   \n",
       "PhoneService_Yes                         1.00    1.00     1.0    0.00   \n",
       "MultipleLines_No phone service           0.00    0.00     0.0    1.00   \n",
       "MultipleLines_Yes                        0.00    1.00     1.0    0.00   \n",
       "InternetService_Fiber optic              1.00    1.00     1.0    0.00   \n",
       "InternetService_No                       0.00    0.00     0.0    0.00   \n",
       "OnlineSecurity_No internet service       0.00    0.00     0.0    0.00   \n",
       "OnlineSecurity_Yes                       0.00    0.00     0.0    1.00   \n",
       "OnlineBackup_No internet service         0.00    0.00     0.0    0.00   \n",
       "OnlineBackup_Yes                         0.00    0.00     1.0    0.00   \n",
       "DeviceProtection_No internet service     0.00    0.00     0.0    0.00   \n",
       "DeviceProtection_Yes                     0.00    1.00     0.0    0.00   \n",
       "TechSupport_No internet service          0.00    0.00     0.0    0.00   \n",
       "TechSupport_Yes                          0.00    0.00     0.0    0.00   \n",
       "StreamingTV_No internet service          0.00    0.00     0.0    0.00   \n",
       "StreamingTV_Yes                          0.00    1.00     1.0    0.00   \n",
       "StreamingMovies_No internet service      0.00    0.00     0.0    0.00   \n",
       "StreamingMovies_Yes                      0.00    1.00     0.0    0.00   \n",
       "Contract_One year                        0.00    0.00     0.0    0.00   \n",
       "Contract_Two year                        0.00    0.00     0.0    0.00   \n",
       "PaperlessBilling_Yes                     1.00    1.00     1.0    0.00   \n",
       "PaymentMethod_Credit card (automatic)    0.00    0.00     1.0    0.00   \n",
       "PaymentMethod_Electronic check           1.00    1.00     0.0    0.00   \n",
       "PaymentMethod_Mailed check               0.00    0.00     0.0    1.00   \n",
       "Churn_Yes                                1.00    1.00     0.0    0.00   \n",
       "\n",
       "                                             8        9  \n",
       "tenure                                   28.00    62.00  \n",
       "MonthlyCharges                          104.80    56.15  \n",
       "TotalCharges                           3046.05  3487.95  \n",
       "gender_Male                               0.00     1.00  \n",
       "SeniorCitizen_Yes                         0.00     0.00  \n",
       "Partner_Yes                               1.00     0.00  \n",
       "Dependents_Yes                            0.00     1.00  \n",
       "PhoneService_Yes                          1.00     1.00  \n",
       "MultipleLines_No phone service            0.00     0.00  \n",
       "MultipleLines_Yes                         1.00     0.00  \n",
       "InternetService_Fiber optic               1.00     0.00  \n",
       "InternetService_No                        0.00     0.00  \n",
       "OnlineSecurity_No internet service        0.00     0.00  \n",
       "OnlineSecurity_Yes                        0.00     1.00  \n",
       "OnlineBackup_No internet service          0.00     0.00  \n",
       "OnlineBackup_Yes                          0.00     1.00  \n",
       "DeviceProtection_No internet service      0.00     0.00  \n",
       "DeviceProtection_Yes                      1.00     0.00  \n",
       "TechSupport_No internet service           0.00     0.00  \n",
       "TechSupport_Yes                           1.00     0.00  \n",
       "StreamingTV_No internet service           0.00     0.00  \n",
       "StreamingTV_Yes                           1.00     0.00  \n",
       "StreamingMovies_No internet service       0.00     0.00  \n",
       "StreamingMovies_Yes                       1.00     0.00  \n",
       "Contract_One year                         0.00     1.00  \n",
       "Contract_Two year                         0.00     0.00  \n",
       "PaperlessBilling_Yes                      1.00     0.00  \n",
       "PaymentMethod_Credit card (automatic)     0.00     0.00  \n",
       "PaymentMethod_Electronic check            1.00     0.00  \n",
       "PaymentMethod_Mailed check                0.00     0.00  \n",
       "Churn_Yes                                 1.00     0.00  "
      ]
     },
     "execution_count": 10,
     "metadata": {},
     "output_type": "execute_result"
    }
   ],
   "source": [
    "X.head(10).T"
   ]
  },
  {
   "cell_type": "code",
   "execution_count": 11,
   "id": "4996b2ad-af7e-4fff-8c2b-a5ed116baef8",
   "metadata": {},
   "outputs": [],
   "source": [
    "# Drop the target variable: churn\n",
    "y = X['Churn_Yes']\n",
    "X = X.drop(['Churn_Yes'], axis=1)"
   ]
  },
  {
   "cell_type": "markdown",
   "id": "6ccb80b0-6eac-47fe-bf87-687158aed9ea",
   "metadata": {},
   "source": [
    "## Standardize the numeric variables"
   ]
  },
  {
   "cell_type": "code",
   "execution_count": 12,
   "id": "3d7a5302-62ce-44ba-92e7-bad24a0adebe",
   "metadata": {},
   "outputs": [],
   "source": [
    "# Filter for the numeric variables\n",
    "only_nums = X.select_dtypes(include=['int', 'float'])"
   ]
  },
  {
   "cell_type": "code",
   "execution_count": 13,
   "id": "3b0e0ad3-acd2-41ee-a2fe-6f9faf271ee4",
   "metadata": {},
   "outputs": [
    {
     "data": {
      "text/html": [
       "<div>\n",
       "<style scoped>\n",
       "    .dataframe tbody tr th:only-of-type {\n",
       "        vertical-align: middle;\n",
       "    }\n",
       "\n",
       "    .dataframe tbody tr th {\n",
       "        vertical-align: top;\n",
       "    }\n",
       "\n",
       "    .dataframe thead th {\n",
       "        text-align: right;\n",
       "    }\n",
       "</style>\n",
       "<table border=\"1\" class=\"dataframe\">\n",
       "  <thead>\n",
       "    <tr style=\"text-align: right;\">\n",
       "      <th></th>\n",
       "      <th>tenure</th>\n",
       "      <th>MonthlyCharges</th>\n",
       "      <th>TotalCharges</th>\n",
       "    </tr>\n",
       "  </thead>\n",
       "  <tbody>\n",
       "    <tr>\n",
       "      <th>0</th>\n",
       "      <td>1</td>\n",
       "      <td>29.85</td>\n",
       "      <td>29.85</td>\n",
       "    </tr>\n",
       "    <tr>\n",
       "      <th>1</th>\n",
       "      <td>34</td>\n",
       "      <td>56.95</td>\n",
       "      <td>1889.50</td>\n",
       "    </tr>\n",
       "    <tr>\n",
       "      <th>2</th>\n",
       "      <td>2</td>\n",
       "      <td>53.85</td>\n",
       "      <td>108.15</td>\n",
       "    </tr>\n",
       "    <tr>\n",
       "      <th>3</th>\n",
       "      <td>45</td>\n",
       "      <td>42.30</td>\n",
       "      <td>1840.75</td>\n",
       "    </tr>\n",
       "    <tr>\n",
       "      <th>4</th>\n",
       "      <td>2</td>\n",
       "      <td>70.70</td>\n",
       "      <td>151.65</td>\n",
       "    </tr>\n",
       "  </tbody>\n",
       "</table>\n",
       "</div>"
      ],
      "text/plain": [
       "   tenure  MonthlyCharges  TotalCharges\n",
       "0       1           29.85         29.85\n",
       "1      34           56.95       1889.50\n",
       "2       2           53.85        108.15\n",
       "3      45           42.30       1840.75\n",
       "4       2           70.70        151.65"
      ]
     },
     "execution_count": 13,
     "metadata": {},
     "output_type": "execute_result"
    }
   ],
   "source": [
    "# Confirm the numeric columns remain\n",
    "only_nums.head()"
   ]
  },
  {
   "cell_type": "code",
   "execution_count": 14,
   "id": "15a73dd5-f223-42dc-89b8-86d538a10e83",
   "metadata": {},
   "outputs": [],
   "source": [
    "# Instantiate StandardScaler (adapted from DataCamp's Feature Engineering for Machine Learning in Python course)\n",
    "SS_scaler = StandardScaler()"
   ]
  },
  {
   "cell_type": "code",
   "execution_count": 15,
   "id": "cf5df246-cfd1-4860-aa48-8f3838db7620",
   "metadata": {},
   "outputs": [],
   "source": [
    "# Standarize the numeric variables\n",
    "X['tenure_ss'] = SS_scaler.fit_transform(df[['tenure']])\n",
    "X['MonthlyCharges_ss'] = SS_scaler.fit_transform(df[['MonthlyCharges']])\n",
    "X['TotalCharges_ss'] = SS_scaler.fit_transform(df[['TotalCharges']])"
   ]
  },
  {
   "cell_type": "code",
   "execution_count": 16,
   "id": "29f6b8e4-d138-42ac-b538-0bc4e558ac44",
   "metadata": {},
   "outputs": [],
   "source": [
    "# Drop the non-standardized columns\n",
    "X = X.drop(['tenure', 'MonthlyCharges', 'TotalCharges'], axis=1)"
   ]
  },
  {
   "cell_type": "code",
   "execution_count": 17,
   "id": "6fd88f54-278e-4c9b-b443-3115141d811b",
   "metadata": {},
   "outputs": [
    {
     "data": {
      "text/html": [
       "<div>\n",
       "<style scoped>\n",
       "    .dataframe tbody tr th:only-of-type {\n",
       "        vertical-align: middle;\n",
       "    }\n",
       "\n",
       "    .dataframe tbody tr th {\n",
       "        vertical-align: top;\n",
       "    }\n",
       "\n",
       "    .dataframe thead th {\n",
       "        text-align: right;\n",
       "    }\n",
       "</style>\n",
       "<table border=\"1\" class=\"dataframe\">\n",
       "  <thead>\n",
       "    <tr style=\"text-align: right;\">\n",
       "      <th></th>\n",
       "      <th>0</th>\n",
       "      <th>1</th>\n",
       "      <th>2</th>\n",
       "      <th>3</th>\n",
       "      <th>4</th>\n",
       "    </tr>\n",
       "  </thead>\n",
       "  <tbody>\n",
       "    <tr>\n",
       "      <th>gender_Male</th>\n",
       "      <td>0.000000</td>\n",
       "      <td>1.000000</td>\n",
       "      <td>1.000000</td>\n",
       "      <td>1.000000</td>\n",
       "      <td>0.000000</td>\n",
       "    </tr>\n",
       "    <tr>\n",
       "      <th>SeniorCitizen_Yes</th>\n",
       "      <td>0.000000</td>\n",
       "      <td>0.000000</td>\n",
       "      <td>0.000000</td>\n",
       "      <td>0.000000</td>\n",
       "      <td>0.000000</td>\n",
       "    </tr>\n",
       "    <tr>\n",
       "      <th>Partner_Yes</th>\n",
       "      <td>1.000000</td>\n",
       "      <td>0.000000</td>\n",
       "      <td>0.000000</td>\n",
       "      <td>0.000000</td>\n",
       "      <td>0.000000</td>\n",
       "    </tr>\n",
       "    <tr>\n",
       "      <th>Dependents_Yes</th>\n",
       "      <td>0.000000</td>\n",
       "      <td>0.000000</td>\n",
       "      <td>0.000000</td>\n",
       "      <td>0.000000</td>\n",
       "      <td>0.000000</td>\n",
       "    </tr>\n",
       "    <tr>\n",
       "      <th>PhoneService_Yes</th>\n",
       "      <td>0.000000</td>\n",
       "      <td>1.000000</td>\n",
       "      <td>1.000000</td>\n",
       "      <td>0.000000</td>\n",
       "      <td>1.000000</td>\n",
       "    </tr>\n",
       "    <tr>\n",
       "      <th>MultipleLines_No phone service</th>\n",
       "      <td>1.000000</td>\n",
       "      <td>0.000000</td>\n",
       "      <td>0.000000</td>\n",
       "      <td>1.000000</td>\n",
       "      <td>0.000000</td>\n",
       "    </tr>\n",
       "    <tr>\n",
       "      <th>MultipleLines_Yes</th>\n",
       "      <td>0.000000</td>\n",
       "      <td>0.000000</td>\n",
       "      <td>0.000000</td>\n",
       "      <td>0.000000</td>\n",
       "      <td>0.000000</td>\n",
       "    </tr>\n",
       "    <tr>\n",
       "      <th>InternetService_Fiber optic</th>\n",
       "      <td>0.000000</td>\n",
       "      <td>0.000000</td>\n",
       "      <td>0.000000</td>\n",
       "      <td>0.000000</td>\n",
       "      <td>1.000000</td>\n",
       "    </tr>\n",
       "    <tr>\n",
       "      <th>InternetService_No</th>\n",
       "      <td>0.000000</td>\n",
       "      <td>0.000000</td>\n",
       "      <td>0.000000</td>\n",
       "      <td>0.000000</td>\n",
       "      <td>0.000000</td>\n",
       "    </tr>\n",
       "    <tr>\n",
       "      <th>OnlineSecurity_No internet service</th>\n",
       "      <td>0.000000</td>\n",
       "      <td>0.000000</td>\n",
       "      <td>0.000000</td>\n",
       "      <td>0.000000</td>\n",
       "      <td>0.000000</td>\n",
       "    </tr>\n",
       "    <tr>\n",
       "      <th>OnlineSecurity_Yes</th>\n",
       "      <td>0.000000</td>\n",
       "      <td>1.000000</td>\n",
       "      <td>1.000000</td>\n",
       "      <td>1.000000</td>\n",
       "      <td>0.000000</td>\n",
       "    </tr>\n",
       "    <tr>\n",
       "      <th>OnlineBackup_No internet service</th>\n",
       "      <td>0.000000</td>\n",
       "      <td>0.000000</td>\n",
       "      <td>0.000000</td>\n",
       "      <td>0.000000</td>\n",
       "      <td>0.000000</td>\n",
       "    </tr>\n",
       "    <tr>\n",
       "      <th>OnlineBackup_Yes</th>\n",
       "      <td>1.000000</td>\n",
       "      <td>0.000000</td>\n",
       "      <td>1.000000</td>\n",
       "      <td>0.000000</td>\n",
       "      <td>0.000000</td>\n",
       "    </tr>\n",
       "    <tr>\n",
       "      <th>DeviceProtection_No internet service</th>\n",
       "      <td>0.000000</td>\n",
       "      <td>0.000000</td>\n",
       "      <td>0.000000</td>\n",
       "      <td>0.000000</td>\n",
       "      <td>0.000000</td>\n",
       "    </tr>\n",
       "    <tr>\n",
       "      <th>DeviceProtection_Yes</th>\n",
       "      <td>0.000000</td>\n",
       "      <td>1.000000</td>\n",
       "      <td>0.000000</td>\n",
       "      <td>1.000000</td>\n",
       "      <td>0.000000</td>\n",
       "    </tr>\n",
       "    <tr>\n",
       "      <th>TechSupport_No internet service</th>\n",
       "      <td>0.000000</td>\n",
       "      <td>0.000000</td>\n",
       "      <td>0.000000</td>\n",
       "      <td>0.000000</td>\n",
       "      <td>0.000000</td>\n",
       "    </tr>\n",
       "    <tr>\n",
       "      <th>TechSupport_Yes</th>\n",
       "      <td>0.000000</td>\n",
       "      <td>0.000000</td>\n",
       "      <td>0.000000</td>\n",
       "      <td>1.000000</td>\n",
       "      <td>0.000000</td>\n",
       "    </tr>\n",
       "    <tr>\n",
       "      <th>StreamingTV_No internet service</th>\n",
       "      <td>0.000000</td>\n",
       "      <td>0.000000</td>\n",
       "      <td>0.000000</td>\n",
       "      <td>0.000000</td>\n",
       "      <td>0.000000</td>\n",
       "    </tr>\n",
       "    <tr>\n",
       "      <th>StreamingTV_Yes</th>\n",
       "      <td>0.000000</td>\n",
       "      <td>0.000000</td>\n",
       "      <td>0.000000</td>\n",
       "      <td>0.000000</td>\n",
       "      <td>0.000000</td>\n",
       "    </tr>\n",
       "    <tr>\n",
       "      <th>StreamingMovies_No internet service</th>\n",
       "      <td>0.000000</td>\n",
       "      <td>0.000000</td>\n",
       "      <td>0.000000</td>\n",
       "      <td>0.000000</td>\n",
       "      <td>0.000000</td>\n",
       "    </tr>\n",
       "    <tr>\n",
       "      <th>StreamingMovies_Yes</th>\n",
       "      <td>0.000000</td>\n",
       "      <td>0.000000</td>\n",
       "      <td>0.000000</td>\n",
       "      <td>0.000000</td>\n",
       "      <td>0.000000</td>\n",
       "    </tr>\n",
       "    <tr>\n",
       "      <th>Contract_One year</th>\n",
       "      <td>0.000000</td>\n",
       "      <td>1.000000</td>\n",
       "      <td>0.000000</td>\n",
       "      <td>1.000000</td>\n",
       "      <td>0.000000</td>\n",
       "    </tr>\n",
       "    <tr>\n",
       "      <th>Contract_Two year</th>\n",
       "      <td>0.000000</td>\n",
       "      <td>0.000000</td>\n",
       "      <td>0.000000</td>\n",
       "      <td>0.000000</td>\n",
       "      <td>0.000000</td>\n",
       "    </tr>\n",
       "    <tr>\n",
       "      <th>PaperlessBilling_Yes</th>\n",
       "      <td>1.000000</td>\n",
       "      <td>0.000000</td>\n",
       "      <td>1.000000</td>\n",
       "      <td>0.000000</td>\n",
       "      <td>1.000000</td>\n",
       "    </tr>\n",
       "    <tr>\n",
       "      <th>PaymentMethod_Credit card (automatic)</th>\n",
       "      <td>0.000000</td>\n",
       "      <td>0.000000</td>\n",
       "      <td>0.000000</td>\n",
       "      <td>0.000000</td>\n",
       "      <td>0.000000</td>\n",
       "    </tr>\n",
       "    <tr>\n",
       "      <th>PaymentMethod_Electronic check</th>\n",
       "      <td>1.000000</td>\n",
       "      <td>0.000000</td>\n",
       "      <td>0.000000</td>\n",
       "      <td>0.000000</td>\n",
       "      <td>1.000000</td>\n",
       "    </tr>\n",
       "    <tr>\n",
       "      <th>PaymentMethod_Mailed check</th>\n",
       "      <td>0.000000</td>\n",
       "      <td>1.000000</td>\n",
       "      <td>1.000000</td>\n",
       "      <td>0.000000</td>\n",
       "      <td>0.000000</td>\n",
       "    </tr>\n",
       "    <tr>\n",
       "      <th>tenure_ss</th>\n",
       "      <td>-1.277445</td>\n",
       "      <td>0.066327</td>\n",
       "      <td>-1.236724</td>\n",
       "      <td>0.514251</td>\n",
       "      <td>-1.236724</td>\n",
       "    </tr>\n",
       "    <tr>\n",
       "      <th>MonthlyCharges_ss</th>\n",
       "      <td>-1.160323</td>\n",
       "      <td>-0.259629</td>\n",
       "      <td>-0.362660</td>\n",
       "      <td>-0.746535</td>\n",
       "      <td>0.197365</td>\n",
       "    </tr>\n",
       "    <tr>\n",
       "      <th>TotalCharges_ss</th>\n",
       "      <td>-0.992611</td>\n",
       "      <td>-0.172165</td>\n",
       "      <td>-0.958066</td>\n",
       "      <td>-0.193672</td>\n",
       "      <td>-0.938874</td>\n",
       "    </tr>\n",
       "  </tbody>\n",
       "</table>\n",
       "</div>"
      ],
      "text/plain": [
       "                                              0         1         2         3  \\\n",
       "gender_Male                            0.000000  1.000000  1.000000  1.000000   \n",
       "SeniorCitizen_Yes                      0.000000  0.000000  0.000000  0.000000   \n",
       "Partner_Yes                            1.000000  0.000000  0.000000  0.000000   \n",
       "Dependents_Yes                         0.000000  0.000000  0.000000  0.000000   \n",
       "PhoneService_Yes                       0.000000  1.000000  1.000000  0.000000   \n",
       "MultipleLines_No phone service         1.000000  0.000000  0.000000  1.000000   \n",
       "MultipleLines_Yes                      0.000000  0.000000  0.000000  0.000000   \n",
       "InternetService_Fiber optic            0.000000  0.000000  0.000000  0.000000   \n",
       "InternetService_No                     0.000000  0.000000  0.000000  0.000000   \n",
       "OnlineSecurity_No internet service     0.000000  0.000000  0.000000  0.000000   \n",
       "OnlineSecurity_Yes                     0.000000  1.000000  1.000000  1.000000   \n",
       "OnlineBackup_No internet service       0.000000  0.000000  0.000000  0.000000   \n",
       "OnlineBackup_Yes                       1.000000  0.000000  1.000000  0.000000   \n",
       "DeviceProtection_No internet service   0.000000  0.000000  0.000000  0.000000   \n",
       "DeviceProtection_Yes                   0.000000  1.000000  0.000000  1.000000   \n",
       "TechSupport_No internet service        0.000000  0.000000  0.000000  0.000000   \n",
       "TechSupport_Yes                        0.000000  0.000000  0.000000  1.000000   \n",
       "StreamingTV_No internet service        0.000000  0.000000  0.000000  0.000000   \n",
       "StreamingTV_Yes                        0.000000  0.000000  0.000000  0.000000   \n",
       "StreamingMovies_No internet service    0.000000  0.000000  0.000000  0.000000   \n",
       "StreamingMovies_Yes                    0.000000  0.000000  0.000000  0.000000   \n",
       "Contract_One year                      0.000000  1.000000  0.000000  1.000000   \n",
       "Contract_Two year                      0.000000  0.000000  0.000000  0.000000   \n",
       "PaperlessBilling_Yes                   1.000000  0.000000  1.000000  0.000000   \n",
       "PaymentMethod_Credit card (automatic)  0.000000  0.000000  0.000000  0.000000   \n",
       "PaymentMethod_Electronic check         1.000000  0.000000  0.000000  0.000000   \n",
       "PaymentMethod_Mailed check             0.000000  1.000000  1.000000  0.000000   \n",
       "tenure_ss                             -1.277445  0.066327 -1.236724  0.514251   \n",
       "MonthlyCharges_ss                     -1.160323 -0.259629 -0.362660 -0.746535   \n",
       "TotalCharges_ss                       -0.992611 -0.172165 -0.958066 -0.193672   \n",
       "\n",
       "                                              4  \n",
       "gender_Male                            0.000000  \n",
       "SeniorCitizen_Yes                      0.000000  \n",
       "Partner_Yes                            0.000000  \n",
       "Dependents_Yes                         0.000000  \n",
       "PhoneService_Yes                       1.000000  \n",
       "MultipleLines_No phone service         0.000000  \n",
       "MultipleLines_Yes                      0.000000  \n",
       "InternetService_Fiber optic            1.000000  \n",
       "InternetService_No                     0.000000  \n",
       "OnlineSecurity_No internet service     0.000000  \n",
       "OnlineSecurity_Yes                     0.000000  \n",
       "OnlineBackup_No internet service       0.000000  \n",
       "OnlineBackup_Yes                       0.000000  \n",
       "DeviceProtection_No internet service   0.000000  \n",
       "DeviceProtection_Yes                   0.000000  \n",
       "TechSupport_No internet service        0.000000  \n",
       "TechSupport_Yes                        0.000000  \n",
       "StreamingTV_No internet service        0.000000  \n",
       "StreamingTV_Yes                        0.000000  \n",
       "StreamingMovies_No internet service    0.000000  \n",
       "StreamingMovies_Yes                    0.000000  \n",
       "Contract_One year                      0.000000  \n",
       "Contract_Two year                      0.000000  \n",
       "PaperlessBilling_Yes                   1.000000  \n",
       "PaymentMethod_Credit card (automatic)  0.000000  \n",
       "PaymentMethod_Electronic check         1.000000  \n",
       "PaymentMethod_Mailed check             0.000000  \n",
       "tenure_ss                             -1.236724  \n",
       "MonthlyCharges_ss                      0.197365  \n",
       "TotalCharges_ss                       -0.938874  "
      ]
     },
     "execution_count": 17,
     "metadata": {},
     "output_type": "execute_result"
    }
   ],
   "source": [
    "X.head().T"
   ]
  },
  {
   "cell_type": "markdown",
   "id": "ba87dbde-b28b-4246-8643-e0f752fe48a9",
   "metadata": {},
   "source": [
    "## Split into testing and training datasets"
   ]
  },
  {
   "cell_type": "code",
   "execution_count": 18,
   "id": "bce6223a-1646-4b85-b6b5-de7fc8414789",
   "metadata": {},
   "outputs": [],
   "source": [
    "#Split into testing and training\n",
    "X_train, X_test, y_train, y_test = train_test_split(X, y, test_size=0.33, random_state=0)"
   ]
  },
  {
   "cell_type": "code",
   "execution_count": 19,
   "id": "439ed867-4994-4fe0-849d-50386de1d861",
   "metadata": {},
   "outputs": [
    {
     "data": {
      "text/plain": [
       "((4718, 30), (2325, 30))"
      ]
     },
     "execution_count": 19,
     "metadata": {},
     "output_type": "execute_result"
    }
   ],
   "source": [
    "# Confirm size of X_train and X_test\n",
    "X_train.shape, X_test.shape"
   ]
  },
  {
   "cell_type": "markdown",
   "id": "5a397206-a8ed-4243-909a-ae3e160de7d0",
   "metadata": {},
   "source": [
    "## Applying Machine Learning Models\n",
    "Adapted from https://github.com/debisree/Springboard-Data-Science-Career-Track/blob/master/Capstone_1_predicting_cab_booking_cancellation/predicting-cab-booking-cancellations-ML.ipynb"
   ]
  },
  {
   "cell_type": "markdown",
   "id": "3766aeb9-58cb-48c6-a9b1-9b8dca915b66",
   "metadata": {},
   "source": [
    "### Logistic Regression"
   ]
  },
  {
   "cell_type": "code",
   "execution_count": 20,
   "id": "3bc7fdf9-e14b-4ffa-b8cb-ead8bdb42bcb",
   "metadata": {},
   "outputs": [
    {
     "data": {
      "text/html": [
       "<div>\n",
       "<style scoped>\n",
       "    .dataframe tbody tr th:only-of-type {\n",
       "        vertical-align: middle;\n",
       "    }\n",
       "\n",
       "    .dataframe tbody tr th {\n",
       "        vertical-align: top;\n",
       "    }\n",
       "\n",
       "    .dataframe thead th {\n",
       "        text-align: right;\n",
       "    }\n",
       "</style>\n",
       "<table border=\"1\" class=\"dataframe\">\n",
       "  <thead>\n",
       "    <tr style=\"text-align: right;\">\n",
       "      <th></th>\n",
       "      <th>C_parameter</th>\n",
       "      <th>Accuracy</th>\n",
       "    </tr>\n",
       "  </thead>\n",
       "  <tbody>\n",
       "    <tr>\n",
       "      <th>0</th>\n",
       "      <td>0.001</td>\n",
       "      <td>0.733763</td>\n",
       "    </tr>\n",
       "    <tr>\n",
       "      <th>1</th>\n",
       "      <td>0.010</td>\n",
       "      <td>0.747097</td>\n",
       "    </tr>\n",
       "    <tr>\n",
       "      <th>2</th>\n",
       "      <td>0.100</td>\n",
       "      <td>0.744946</td>\n",
       "    </tr>\n",
       "    <tr>\n",
       "      <th>3</th>\n",
       "      <td>1.000</td>\n",
       "      <td>0.743226</td>\n",
       "    </tr>\n",
       "    <tr>\n",
       "      <th>4</th>\n",
       "      <td>10.000</td>\n",
       "      <td>0.743656</td>\n",
       "    </tr>\n",
       "    <tr>\n",
       "      <th>5</th>\n",
       "      <td>100.000</td>\n",
       "      <td>0.743226</td>\n",
       "    </tr>\n",
       "  </tbody>\n",
       "</table>\n",
       "</div>"
      ],
      "text/plain": [
       "   C_parameter  Accuracy\n",
       "0        0.001  0.733763\n",
       "1        0.010  0.747097\n",
       "2        0.100  0.744946\n",
       "3        1.000  0.743226\n",
       "4       10.000  0.743656\n",
       "5      100.000  0.743226"
      ]
     },
     "execution_count": 20,
     "metadata": {},
     "output_type": "execute_result"
    }
   ],
   "source": [
    "#Utilize several c parameters with a max iterations of 1000\n",
    "C_param_range = [0.001,0.01,0.1,1,10,100]\n",
    "\n",
    "table = pd.DataFrame(columns = ['C_parameter','Accuracy'])\n",
    "table['C_parameter'] = C_param_range\n",
    "\n",
    "\n",
    "j = 0\n",
    "for i in C_param_range:\n",
    "    \n",
    "    # Apply logistic regression model to training data\n",
    "    Logreg = LogisticRegression(penalty = 'l2', max_iter = 1000, C = i,random_state = 42, class_weight='balanced')\n",
    "    Logreg.fit(X_train,y_train)\n",
    "    \n",
    "    # Predict using model\n",
    "    y_pred_lr = Logreg.predict(X_test)\n",
    "    \n",
    "    # Saving accuracy score in table\n",
    "    table.iloc[j,1] = accuracy_score(y_test,y_pred_lr)\n",
    "    j += 1\n",
    "    \n",
    "table"
   ]
  },
  {
   "cell_type": "code",
   "execution_count": 21,
   "id": "99d7ce04-cfe8-48d3-99da-160a526717e3",
   "metadata": {},
   "outputs": [
    {
     "name": "stdout",
     "output_type": "stream",
     "text": [
      "Accuracy of Logistic Regression: 0.743225806451613\n",
      "F1-Score of Logistic Regression: 0.6219126029132362\n",
      "Lift Score of Logistic Regression: 1.9278216286869383\n"
     ]
    },
    {
     "data": {
      "image/png": "[encoded data removed]",
      "text/plain": [
       "<Figure size 432x288 with 2 Axes>"
      ]
     },
     "metadata": {
      "needs_background": "light"
     },
     "output_type": "display_data"
    }
   ],
   "source": [
    "#Create the confusion/classification matrix and find the accuracy\n",
    "cm= confusion_matrix(y_test,y_pred_lr)\n",
    "cm_display = ConfusionMatrixDisplay(cm).plot()\n",
    "Accuracy_lr=Logreg.score(X_test,y_test)\n",
    "f1_lr = f1_score(y_test, y_pred_lr)\n",
    "lift_lr = lift_score(y_test, y_pred_lr)\n",
    "\n",
    "print('Accuracy of Logistic Regression:', Accuracy_lr)\n",
    "print('F1-Score of Logistic Regression:', f1_lr)\n",
    "print('Lift Score of Logistic Regression:', lift_lr)\n",
    "plt.show()"
   ]
  },
  {
   "cell_type": "code",
   "execution_count": 22,
   "id": "dbcffd25-2722-48b1-b94c-9a20e838ff70",
   "metadata": {},
   "outputs": [
    {
     "data": {
      "text/html": [
       "<div>\n",
       "<style scoped>\n",
       "    .dataframe tbody tr th:only-of-type {\n",
       "        vertical-align: middle;\n",
       "    }\n",
       "\n",
       "    .dataframe tbody tr th {\n",
       "        vertical-align: top;\n",
       "    }\n",
       "\n",
       "    .dataframe thead th {\n",
       "        text-align: right;\n",
       "    }\n",
       "</style>\n",
       "<table border=\"1\" class=\"dataframe\">\n",
       "  <thead>\n",
       "    <tr style=\"text-align: right;\">\n",
       "      <th>Predicted</th>\n",
       "      <th>0</th>\n",
       "      <th>1</th>\n",
       "      <th>All</th>\n",
       "    </tr>\n",
       "    <tr>\n",
       "      <th>True</th>\n",
       "      <th></th>\n",
       "      <th></th>\n",
       "      <th></th>\n",
       "    </tr>\n",
       "  </thead>\n",
       "  <tbody>\n",
       "    <tr>\n",
       "      <th>0</th>\n",
       "      <td>1237</td>\n",
       "      <td>475</td>\n",
       "      <td>1712</td>\n",
       "    </tr>\n",
       "    <tr>\n",
       "      <th>1</th>\n",
       "      <td>122</td>\n",
       "      <td>491</td>\n",
       "      <td>613</td>\n",
       "    </tr>\n",
       "    <tr>\n",
       "      <th>All</th>\n",
       "      <td>1359</td>\n",
       "      <td>966</td>\n",
       "      <td>2325</td>\n",
       "    </tr>\n",
       "  </tbody>\n",
       "</table>\n",
       "</div>"
      ],
      "text/plain": [
       "Predicted     0    1   All\n",
       "True                      \n",
       "0          1237  475  1712\n",
       "1           122  491   613\n",
       "All        1359  966  2325"
      ]
     },
     "execution_count": 22,
     "metadata": {},
     "output_type": "execute_result"
    }
   ],
   "source": [
    "#View the confusion matrix in a simplier format\n",
    "pd.crosstab(y_test, y_pred_lr, rownames=['True'], colnames=['Predicted'], margins=True)"
   ]
  },
  {
   "cell_type": "code",
   "execution_count": 23,
   "id": "9e9fefd3-32d8-4841-889c-2ad17f61ad76",
   "metadata": {},
   "outputs": [
    {
     "name": "stdout",
     "output_type": "stream",
     "text": [
      "              precision    recall  f1-score   support\n",
      "\n",
      "           0       0.91      0.72      0.81      1712\n",
      "           1       0.51      0.80      0.62       613\n",
      "\n",
      "    accuracy                           0.74      2325\n",
      "   macro avg       0.71      0.76      0.71      2325\n",
      "weighted avg       0.80      0.74      0.76      2325\n",
      "\n"
     ]
    }
   ],
   "source": [
    "#Print the classification report to see the precision, recall, and f1 scores along with weighted averages\n",
    "print(classification_report(y_test,y_pred_lr))"
   ]
  },
  {
   "cell_type": "code",
   "execution_count": 24,
   "id": "ef3b8441-0ee7-437b-b5dd-c9f6934d6c63",
   "metadata": {},
   "outputs": [
    {
     "name": "stdout",
     "output_type": "stream",
     "text": [
      "[0.80645701 0.84681929 0.83851567 0.83487852 0.8612894 ]\n",
      "Mean cross validation test score: 0.8375919782519764\n",
      "Mean cross validation train score: 0.8471534796014335\n",
      "Standard deviation in cv test scores: 0.01802394811085045\n"
     ]
    }
   ],
   "source": [
    "#Cross validation\n",
    "cv_scores_test= cross_val_score(Logreg,X_test,y_test,cv=5,scoring='roc_auc')\n",
    "cv_scores_train= cross_val_score(Logreg,X_train,y_train,cv=5,scoring='roc_auc')\n",
    "print(cv_scores_test)\n",
    "cv_scores_lr_test= cv_scores_test.mean()\n",
    "cv_scores_lr_train= cv_scores_train.mean()\n",
    "cv_scores_std_test_lr= cv_scores_test.std()\n",
    "print ('Mean cross validation test score: ' +str(cv_scores_lr_test))\n",
    "print ('Mean cross validation train score: ' +str(cv_scores_lr_train))\n",
    "print ('Standard deviation in cv test scores: ' +str(cv_scores_std_test_lr))"
   ]
  },
  {
   "cell_type": "markdown",
   "id": "be5b5d18-9eb8-4018-9359-abea108394c9",
   "metadata": {},
   "source": [
    "### K-Nearest Neighbor"
   ]
  },
  {
   "cell_type": "code",
   "execution_count": 25,
   "id": "5a82058a-d649-4d47-b0b8-e0262613f1f8",
   "metadata": {},
   "outputs": [],
   "source": [
    "#Fit model for K from 1-10\n",
    "test_scores = []\n",
    "train_scores = []\n",
    "\n",
    "for i in range(1,11):\n",
    "\n",
    "    knn = KNeighborsClassifier(i)\n",
    "    knn.fit(X_train,y_train)\n",
    "    \n",
    "    train_scores.append(knn.score(X_train,y_train))\n",
    "    test_scores.append(knn.score(X_test,y_test))"
   ]
  },
  {
   "cell_type": "code",
   "execution_count": 26,
   "id": "215d1292-3a22-4752-aece-a90986dbe537",
   "metadata": {},
   "outputs": [
    {
     "name": "stdout",
     "output_type": "stream",
     "text": [
      "KNN: 1 \tTrain Score: 0.9970326409495549 \tTest Score: 0.7161290322580646\n",
      "KNN: 2 \tTrain Score: 0.8749470114455278 \tTest Score: 0.7488172043010752\n",
      "KNN: 3 \tTrain Score: 0.8658329800763035 \tTest Score: 0.7458064516129033\n",
      "KNN: 4 \tTrain Score: 0.8427299703264095 \tTest Score: 0.7608602150537634\n",
      "KNN: 5 \tTrain Score: 0.8357354811360747 \tTest Score: 0.7677419354838709\n",
      "KNN: 6 \tTrain Score: 0.8329800763035184 \tTest Score: 0.7763440860215054\n",
      "KNN: 7 \tTrain Score: 0.8266214497668504 \tTest Score: 0.7746236559139785\n",
      "KNN: 8 \tTrain Score: 0.821534548537516 \tTest Score: 0.781505376344086\n",
      "KNN: 9 \tTrain Score: 0.8228062738448495 \tTest Score: 0.7789247311827957\n",
      "KNN: 10 \tTrain Score: 0.8200508690122933 \tTest Score: 0.789247311827957\n"
     ]
    }
   ],
   "source": [
    "#Print train and test scores for each iteration\n",
    "for i in range(1,11):\n",
    "    print('KNN:', i, '\\tTrain Score:', train_scores[i-1], '\\tTest Score:', test_scores[i-1])"
   ]
  },
  {
   "cell_type": "code",
   "execution_count": 27,
   "id": "7ee77518-3296-4fdf-b15d-b553c316fc33",
   "metadata": {},
   "outputs": [
    {
     "name": "stdout",
     "output_type": "stream",
     "text": [
      "Max train score 99.70326409495549 % and k = [1]\n",
      "Max test score 78.92473118279571 % and k = [10]\n"
     ]
    }
   ],
   "source": [
    "# Determine max and min training scores (Adapted from https://www.kaggle.com/shrutimechlearn/step-by-step-diabetes-classification-knn-detailed)\n",
    "max_train_score = max(train_scores)\n",
    "train_scores_ind = [i for i, v in enumerate(train_scores) if v == max_train_score]\n",
    "print('Max train score {} % and k = {}'.format(max_train_score*100,list(map(lambda x: x+1, train_scores_ind))))\n",
    "\n",
    "max_test_score = max(test_scores)\n",
    "test_scores_ind = [i for i, v in enumerate(test_scores) if v == max_test_score]\n",
    "print('Max test score {} % and k = {}'.format(max_test_score*100,list(map(lambda x: x+1, test_scores_ind))))"
   ]
  },
  {
   "cell_type": "code",
   "execution_count": 28,
   "id": "4f115738-d4eb-4336-91ec-27f584c72e07",
   "metadata": {},
   "outputs": [
    {
     "data": {
      "image/png": "[encoded data removed]",
      "text/plain": [
       "<Figure size 864x360 with 1 Axes>"
      ]
     },
     "metadata": {},
     "output_type": "display_data"
    }
   ],
   "source": [
    "# Plot and test performance by number of neighbors\n",
    "sns.set()\n",
    "plt.figure(figsize=(12,5))\n",
    "p = sns.lineplot(x= range(1,11),y = train_scores,marker='*',label='Train Score')\n",
    "p = sns.lineplot(x = range(1,11),y = test_scores,marker='o',label='Test Score')"
   ]
  },
  {
   "cell_type": "code",
   "execution_count": 29,
   "id": "5dbb4cd4-48de-4c1a-b3b6-ff5dbf400c61",
   "metadata": {},
   "outputs": [],
   "source": [
    "# Fit the model using n_neighbors = 10\n",
    "knn = KNeighborsClassifier(n_neighbors=10)\n",
    "knn.fit(X_train,y_train)\n",
    "y_pred_knn=knn.predict(X_test)"
   ]
  },
  {
   "cell_type": "code",
   "execution_count": 30,
   "id": "6b02b758-b856-4112-b436-7458bbbaad86",
   "metadata": {},
   "outputs": [
    {
     "name": "stdout",
     "output_type": "stream",
     "text": [
      "Accuracy of K-Nearest Neighbors: 0.789247311827957\n",
      "F1-Score of K-Nearest Neighbors: 0.5537340619307833\n",
      "Lift Score of K-Nearest Neighbors: 2.377356586670255\n"
     ]
    },
    {
     "data": {
      "image/png": "[encoded data removed]",
      "text/plain": [
       "<Figure size 432x288 with 2 Axes>"
      ]
     },
     "metadata": {},
     "output_type": "display_data"
    }
   ],
   "source": [
    "#Create the confusion/classification matrix and find the accuracy\n",
    "cm_matrix = confusion_matrix(y_test, y_pred_knn)\n",
    "cm_display = ConfusionMatrixDisplay(cm).plot()\n",
    "Accuracy_knn=knn.score(X_test,y_test)\n",
    "f1_knn = f1_score(y_test, y_pred_knn)\n",
    "lift_knn = lift_score(y_test, y_pred_knn)\n",
    "\n",
    "print('Accuracy of K-Nearest Neighbors:', Accuracy_knn)\n",
    "print('F1-Score of K-Nearest Neighbors:', f1_knn)\n",
    "print('Lift Score of K-Nearest Neighbors:', lift_knn)\n",
    "plt.show()"
   ]
  },
  {
   "cell_type": "code",
   "execution_count": 31,
   "id": "9e077338-65c2-4a4d-b28d-274ac70c5df4",
   "metadata": {},
   "outputs": [
    {
     "data": {
      "text/html": [
       "<div>\n",
       "<style scoped>\n",
       "    .dataframe tbody tr th:only-of-type {\n",
       "        vertical-align: middle;\n",
       "    }\n",
       "\n",
       "    .dataframe tbody tr th {\n",
       "        vertical-align: top;\n",
       "    }\n",
       "\n",
       "    .dataframe thead th {\n",
       "        text-align: right;\n",
       "    }\n",
       "</style>\n",
       "<table border=\"1\" class=\"dataframe\">\n",
       "  <thead>\n",
       "    <tr style=\"text-align: right;\">\n",
       "      <th>Predicted</th>\n",
       "      <th>0</th>\n",
       "      <th>1</th>\n",
       "      <th>All</th>\n",
       "    </tr>\n",
       "    <tr>\n",
       "      <th>True</th>\n",
       "      <th></th>\n",
       "      <th></th>\n",
       "      <th></th>\n",
       "    </tr>\n",
       "  </thead>\n",
       "  <tbody>\n",
       "    <tr>\n",
       "      <th>0</th>\n",
       "      <td>1531</td>\n",
       "      <td>181</td>\n",
       "      <td>1712</td>\n",
       "    </tr>\n",
       "    <tr>\n",
       "      <th>1</th>\n",
       "      <td>309</td>\n",
       "      <td>304</td>\n",
       "      <td>613</td>\n",
       "    </tr>\n",
       "    <tr>\n",
       "      <th>All</th>\n",
       "      <td>1840</td>\n",
       "      <td>485</td>\n",
       "      <td>2325</td>\n",
       "    </tr>\n",
       "  </tbody>\n",
       "</table>\n",
       "</div>"
      ],
      "text/plain": [
       "Predicted     0    1   All\n",
       "True                      \n",
       "0          1531  181  1712\n",
       "1           309  304   613\n",
       "All        1840  485  2325"
      ]
     },
     "execution_count": 31,
     "metadata": {},
     "output_type": "execute_result"
    }
   ],
   "source": [
    "#View the confusion matrix in a simplier format\n",
    "pd.crosstab(y_test, y_pred_knn, rownames=['True'], colnames=['Predicted'], margins=True)"
   ]
  },
  {
   "cell_type": "code",
   "execution_count": 32,
   "id": "94d5e815-b3f5-4b06-8b0e-08fef1a4e88a",
   "metadata": {},
   "outputs": [
    {
     "name": "stdout",
     "output_type": "stream",
     "text": [
      "              precision    recall  f1-score   support\n",
      "\n",
      "           0       0.83      0.89      0.86      1712\n",
      "           1       0.63      0.50      0.55       613\n",
      "\n",
      "    accuracy                           0.79      2325\n",
      "   macro avg       0.73      0.70      0.71      2325\n",
      "weighted avg       0.78      0.79      0.78      2325\n",
      "\n"
     ]
    }
   ],
   "source": [
    "#Print the classification report to see the precision, recall, and f1 scores along with weighted averages\n",
    "print(classification_report(y_test,y_pred_knn))"
   ]
  },
  {
   "cell_type": "code",
   "execution_count": 33,
   "id": "9f4eb04d-3fc4-496f-a431-a5383dc216f6",
   "metadata": {},
   "outputs": [
    {
     "name": "stdout",
     "output_type": "stream",
     "text": [
      "[0.78614443 0.79388711 0.80301193 0.80524652 0.82342034]\n",
      "Mean cross validation test score: 0.8023420669411468\n",
      "Mean cross validation train score: 0.8134012160534683\n",
      "Standard deviation in cv scores: 0.01254613666992908\n"
     ]
    }
   ],
   "source": [
    "#Cross validation\n",
    "cv_scores_test= cross_val_score(knn,X_test,y_test,cv=5,scoring='roc_auc')\n",
    "cv_scores_train= cross_val_score(knn,X_train,y_train,cv=5,scoring='roc_auc')\n",
    "print(cv_scores_test)\n",
    "cv_scores_knn_test= cv_scores_test.mean()\n",
    "cv_scores_knn_train= cv_scores_train.mean()\n",
    "cv_scores_std_knn= cv_scores_test.std()\n",
    "print ('Mean cross validation test score: ' +str(cv_scores_knn_test))\n",
    "print ('Mean cross validation train score: ' +str(cv_scores_knn_train))\n",
    "print ('Standard deviation in cv scores: ' +str(cv_scores_std_knn))"
   ]
  },
  {
   "cell_type": "markdown",
   "id": "0fd14ea8-194a-4921-879d-d053619d615e",
   "metadata": {},
   "source": [
    "### Random Forest"
   ]
  },
  {
   "cell_type": "code",
   "execution_count": 34,
   "id": "16dcaf23-a718-4efc-b241-6824b1ece31f",
   "metadata": {},
   "outputs": [],
   "source": [
    "#Fit the model\n",
    "rf = RandomForestClassifier(bootstrap=True,n_estimators=100,criterion='entropy')\n",
    "rf.fit(X_train, y_train)\n",
    "\n",
    "y_pred_rf = rf.predict(X_test)\n"
   ]
  },
  {
   "cell_type": "code",
   "execution_count": 35,
   "id": "7e0ec1d6-bba0-4e9d-8537-8acd26b181a7",
   "metadata": {},
   "outputs": [
    {
     "name": "stdout",
     "output_type": "stream",
     "text": [
      "Accuracy of Random Forest: 0.7896774193548387\n",
      "F1-Score of Random Forest: 0.5598559855985598\n",
      "Lift Score of Random Forest: 2.368609839029855\n"
     ]
    },
    {
     "data": {
      "image/png": "[encoded data removed]",
      "text/plain": [
       "<Figure size 432x288 with 2 Axes>"
      ]
     },
     "metadata": {},
     "output_type": "display_data"
    }
   ],
   "source": [
    "#Create the confusion/classification matrix and find the accuracy\n",
    "cm_matrix = confusion_matrix(y_test, y_pred_rf)\n",
    "cm_display = ConfusionMatrixDisplay(cm).plot()\n",
    "Accuracy_rf=rf.score(X_test,y_test)\n",
    "f1_rf = f1_score(y_test, y_pred_rf)\n",
    "lift_rf = lift_score(y_test, y_pred_rf)\n",
    "\n",
    "print('Accuracy of Random Forest:', Accuracy_rf)\n",
    "print('F1-Score of Random Forest:', f1_rf)\n",
    "print('Lift Score of Random Forest:', lift_rf)\n",
    "plt.show()"
   ]
  },
  {
   "cell_type": "code",
   "execution_count": 36,
   "id": "c0a806cb-7bdf-4ffd-bbd2-fb78784eb24d",
   "metadata": {},
   "outputs": [
    {
     "data": {
      "text/html": [
       "<div>\n",
       "<style scoped>\n",
       "    .dataframe tbody tr th:only-of-type {\n",
       "        vertical-align: middle;\n",
       "    }\n",
       "\n",
       "    .dataframe tbody tr th {\n",
       "        vertical-align: top;\n",
       "    }\n",
       "\n",
       "    .dataframe thead th {\n",
       "        text-align: right;\n",
       "    }\n",
       "</style>\n",
       "<table border=\"1\" class=\"dataframe\">\n",
       "  <thead>\n",
       "    <tr style=\"text-align: right;\">\n",
       "      <th>Predicted</th>\n",
       "      <th>0</th>\n",
       "      <th>1</th>\n",
       "      <th>All</th>\n",
       "    </tr>\n",
       "    <tr>\n",
       "      <th>True</th>\n",
       "      <th></th>\n",
       "      <th></th>\n",
       "      <th></th>\n",
       "    </tr>\n",
       "  </thead>\n",
       "  <tbody>\n",
       "    <tr>\n",
       "      <th>0</th>\n",
       "      <td>1525</td>\n",
       "      <td>187</td>\n",
       "      <td>1712</td>\n",
       "    </tr>\n",
       "    <tr>\n",
       "      <th>1</th>\n",
       "      <td>302</td>\n",
       "      <td>311</td>\n",
       "      <td>613</td>\n",
       "    </tr>\n",
       "    <tr>\n",
       "      <th>All</th>\n",
       "      <td>1827</td>\n",
       "      <td>498</td>\n",
       "      <td>2325</td>\n",
       "    </tr>\n",
       "  </tbody>\n",
       "</table>\n",
       "</div>"
      ],
      "text/plain": [
       "Predicted     0    1   All\n",
       "True                      \n",
       "0          1525  187  1712\n",
       "1           302  311   613\n",
       "All        1827  498  2325"
      ]
     },
     "execution_count": 36,
     "metadata": {},
     "output_type": "execute_result"
    }
   ],
   "source": [
    "#View the confusion matrix in a simplier format\n",
    "pd.crosstab(y_test, y_pred_rf, rownames=['True'], colnames=['Predicted'], margins=True)"
   ]
  },
  {
   "cell_type": "code",
   "execution_count": 37,
   "id": "040244e0-e563-47c1-ad65-8ae19bf10f58",
   "metadata": {},
   "outputs": [
    {
     "name": "stdout",
     "output_type": "stream",
     "text": [
      "              precision    recall  f1-score   support\n",
      "\n",
      "           0       0.83      0.89      0.86      1712\n",
      "           1       0.62      0.51      0.56       613\n",
      "\n",
      "    accuracy                           0.79      2325\n",
      "   macro avg       0.73      0.70      0.71      2325\n",
      "weighted avg       0.78      0.79      0.78      2325\n",
      "\n"
     ]
    }
   ],
   "source": [
    "#Print the classification report to see the precision, recall, and f1 scores along with weighted averages\n",
    "print(classification_report(y_test,y_pred_rf))"
   ]
  },
  {
   "cell_type": "code",
   "execution_count": 38,
   "id": "3df9099a-b5fc-406b-8b84-081bb5471fae",
   "metadata": {},
   "outputs": [
    {
     "name": "stdout",
     "output_type": "stream",
     "text": [
      "[0.79634852 0.80779525 0.82380069 0.81701374 0.84410213]\n",
      "Mean cross validation test score: 0.8178120649852687\n",
      "Mean cross validation train score: 0.8260211352456533\n",
      "Standard deviation in cv scores: 0.01605421316919936\n"
     ]
    }
   ],
   "source": [
    "#Cross validation\n",
    "cv_scores_test= cross_val_score(rf,X_test,y_test,cv=5,scoring='roc_auc')\n",
    "cv_scores_train= cross_val_score(rf,X_train,y_train,cv=5,scoring='roc_auc')\n",
    "print(cv_scores_test)\n",
    "cv_scores_rf_test= cv_scores_test.mean()\n",
    "cv_scores_rf_train= cv_scores_train.mean()\n",
    "cv_scores_std_rf= cv_scores_test.std()\n",
    "print ('Mean cross validation test score: ' +str(cv_scores_rf_test))\n",
    "print ('Mean cross validation train score: ' +str(cv_scores_rf_train))\n",
    "print ('Standard deviation in cv scores: ' +str(cv_scores_std_rf))"
   ]
  },
  {
   "cell_type": "markdown",
   "id": "b5db777c-5e42-49be-9f21-84a6c3ecd543",
   "metadata": {},
   "source": [
    "### Gradient Boosting"
   ]
  },
  {
   "cell_type": "code",
   "execution_count": 39,
   "id": "a89e8c02-42f2-4ecf-8dbb-234fc1a07833",
   "metadata": {},
   "outputs": [],
   "source": [
    "# Fit the model\n",
    "gbc = GradientBoostingClassifier(subsample=0.8, learning_rate=0.05 , n_estimators=160, random_state=42, max_depth=9, max_leaf_nodes=100)\n",
    "gbc.fit(X_train, y_train)\n",
    "\n",
    "y_pred_gbc = gbc.predict(X_test)"
   ]
  },
  {
   "cell_type": "code",
   "execution_count": 40,
   "id": "f4424395-722b-4c41-ba23-3f01d0307db0",
   "metadata": {},
   "outputs": [
    {
     "name": "stdout",
     "output_type": "stream",
     "text": [
      "Accuracy of Gradient Boosting: 0.7956989247311828\n",
      "F1-Score of Gradient Boosting: 0.5777777777777778\n",
      "Lift Score of Gradient Boosting: 2.4075531453915167\n"
     ]
    },
    {
     "data": {
      "image/png": "[encoded data removed]",
      "text/plain": [
       "<Figure size 432x288 with 2 Axes>"
      ]
     },
     "metadata": {},
     "output_type": "display_data"
    }
   ],
   "source": [
    "#Create the confusion/classification matrix and find the accuracy\n",
    "cm_matrix = confusion_matrix(y_test, y_pred_gbc)\n",
    "cm_display = ConfusionMatrixDisplay(cm).plot()\n",
    "Accuracy_gbc=gbc.score(X_test,y_test)\n",
    "f1_gbc = f1_score(y_test, y_pred_gbc)\n",
    "lift_gbc = lift_score(y_test, y_pred_gbc)\n",
    "\n",
    "print('Accuracy of Gradient Boosting:', Accuracy_gbc)\n",
    "print('F1-Score of Gradient Boosting:', f1_gbc)\n",
    "print('Lift Score of Gradient Boosting:', lift_gbc)\n",
    "plt.show()"
   ]
  },
  {
   "cell_type": "code",
   "execution_count": 41,
   "id": "52588261-1559-4b18-89dc-effe5507eb4e",
   "metadata": {},
   "outputs": [
    {
     "data": {
      "text/html": [
       "<div>\n",
       "<style scoped>\n",
       "    .dataframe tbody tr th:only-of-type {\n",
       "        vertical-align: middle;\n",
       "    }\n",
       "\n",
       "    .dataframe tbody tr th {\n",
       "        vertical-align: top;\n",
       "    }\n",
       "\n",
       "    .dataframe thead th {\n",
       "        text-align: right;\n",
       "    }\n",
       "</style>\n",
       "<table border=\"1\" class=\"dataframe\">\n",
       "  <thead>\n",
       "    <tr style=\"text-align: right;\">\n",
       "      <th>Predicted</th>\n",
       "      <th>0</th>\n",
       "      <th>1</th>\n",
       "      <th>All</th>\n",
       "    </tr>\n",
       "    <tr>\n",
       "      <th>True</th>\n",
       "      <th></th>\n",
       "      <th></th>\n",
       "      <th></th>\n",
       "    </tr>\n",
       "  </thead>\n",
       "  <tbody>\n",
       "    <tr>\n",
       "      <th>0</th>\n",
       "      <td>1525</td>\n",
       "      <td>187</td>\n",
       "      <td>1712</td>\n",
       "    </tr>\n",
       "    <tr>\n",
       "      <th>1</th>\n",
       "      <td>288</td>\n",
       "      <td>325</td>\n",
       "      <td>613</td>\n",
       "    </tr>\n",
       "    <tr>\n",
       "      <th>All</th>\n",
       "      <td>1813</td>\n",
       "      <td>512</td>\n",
       "      <td>2325</td>\n",
       "    </tr>\n",
       "  </tbody>\n",
       "</table>\n",
       "</div>"
      ],
      "text/plain": [
       "Predicted     0    1   All\n",
       "True                      \n",
       "0          1525  187  1712\n",
       "1           288  325   613\n",
       "All        1813  512  2325"
      ]
     },
     "execution_count": 41,
     "metadata": {},
     "output_type": "execute_result"
    }
   ],
   "source": [
    "#View the confusion matrix in a simplier format\n",
    "pd.crosstab(y_test, y_pred_gbc, rownames=['True'], colnames=['Predicted'], margins=True)"
   ]
  },
  {
   "cell_type": "code",
   "execution_count": 42,
   "id": "b1369be4-d2a1-4259-97ad-6e84fb904bc3",
   "metadata": {},
   "outputs": [
    {
     "name": "stdout",
     "output_type": "stream",
     "text": [
      "              precision    recall  f1-score   support\n",
      "\n",
      "           0       0.84      0.89      0.87      1712\n",
      "           1       0.63      0.53      0.58       613\n",
      "\n",
      "    accuracy                           0.80      2325\n",
      "   macro avg       0.74      0.71      0.72      2325\n",
      "weighted avg       0.79      0.80      0.79      2325\n",
      "\n"
     ]
    }
   ],
   "source": [
    "#Print the classification report to see the precision, recall, and f1 scores along with weighted averages\n",
    "print(classification_report(y_test,y_pred_gbc))"
   ]
  },
  {
   "cell_type": "code",
   "execution_count": 43,
   "id": "bbcab8ee-dc51-4a77-8486-964514cd4640",
   "metadata": {},
   "outputs": [
    {
     "name": "stdout",
     "output_type": "stream",
     "text": [
      "[0.79724466 0.80325479 0.81315076 0.81652641 0.81864213]\n",
      "Mean cross validation test score: 0.8097637516240216\n",
      "Mean cross validation train score: 0.8277348076685408\n",
      "Standard deviation in cv scores: 0.008186883663978423\n"
     ]
    }
   ],
   "source": [
    "#Cross validation\n",
    "cv_scores_test= cross_val_score(gbc,X_test,y_test,cv=5,scoring='roc_auc')\n",
    "cv_scores_train= cross_val_score(gbc,X_train,y_train,cv=5,scoring='roc_auc')\n",
    "print(cv_scores_test)\n",
    "cv_scores_gbc_test= cv_scores_test.mean()\n",
    "cv_scores_gbc_train= cv_scores_train.mean()\n",
    "cv_scores_std_gbc= cv_scores_test.std()\n",
    "print ('Mean cross validation test score: ' +str(cv_scores_gbc_test))\n",
    "print ('Mean cross validation train score: ' +str(cv_scores_gbc_train))\n",
    "print ('Standard deviation in cv scores: ' +str(cv_scores_std_gbc))"
   ]
  },
  {
   "cell_type": "markdown",
   "id": "5b48afd3-b56b-45d0-a834-1d6857682daa",
   "metadata": {},
   "source": [
    "### Cat Boost"
   ]
  },
  {
   "cell_type": "code",
   "execution_count": 44,
   "id": "7b109b90-4663-4c4f-9401-6609cef1a30a",
   "metadata": {},
   "outputs": [
    {
     "name": "stdout",
     "output_type": "stream",
     "text": [
      "0:\tlearn: 0.6326633\ttotal: 62.3ms\tremaining: 249ms\n",
      "1:\tlearn: 0.5866200\ttotal: 64.3ms\tremaining: 96.4ms\n",
      "2:\tlearn: 0.5492257\ttotal: 66.1ms\tremaining: 44.1ms\n",
      "3:\tlearn: 0.5153644\ttotal: 68ms\tremaining: 17ms\n",
      "4:\tlearn: 0.4952900\ttotal: 69.7ms\tremaining: 0us\n"
     ]
    }
   ],
   "source": [
    "# Fit the model (adapted from https://www.kaggle.com/prashant111/catboost-classifier-in-python)\n",
    "cbc = CatBoostClassifier(iterations=5, learning_rate=0.1)\n",
    "cbc.fit(X_train, y_train)\n",
    "\n",
    "y_pred_cbc = cbc.predict(X_test)"
   ]
  },
  {
   "cell_type": "code",
   "execution_count": 45,
   "id": "52707915-49ad-48b9-9583-d5178699a901",
   "metadata": {},
   "outputs": [
    {
     "name": "stdout",
     "output_type": "stream",
     "text": [
      "Accuracy of Cat Boosting: 0.7961290322580645\n",
      "F1-Score of Cat Boosting: 0.5406976744186047\n",
      "Lift Score of Cat Boosting: 2.5255307634506146\n"
     ]
    },
    {
     "data": {
      "image/png": "[encoded data removed]",
      "text/plain": [
       "<Figure size 432x288 with 2 Axes>"
      ]
     },
     "metadata": {},
     "output_type": "display_data"
    }
   ],
   "source": [
    "#Create the confusion/classification matrix and find the accuracy\n",
    "cm_matrix = confusion_matrix(y_test, y_pred_cbc)\n",
    "cm_display = ConfusionMatrixDisplay(cm).plot()\n",
    "Accuracy_cbc=cbc.score(X_test,y_test)\n",
    "f1_cbc = f1_score(y_test, y_pred_cbc)\n",
    "lift_cbc = lift_score(y_test, y_pred_cbc)\n",
    "\n",
    "print('Accuracy of Cat Boosting:', Accuracy_cbc)\n",
    "print('F1-Score of Cat Boosting:', f1_cbc)\n",
    "print('Lift Score of Cat Boosting:', lift_cbc)\n",
    "plt.show()"
   ]
  },
  {
   "cell_type": "code",
   "execution_count": 46,
   "id": "fa10ada9-1e6a-4ff7-b436-3e54728c8426",
   "metadata": {},
   "outputs": [
    {
     "data": {
      "text/html": [
       "<div>\n",
       "<style scoped>\n",
       "    .dataframe tbody tr th:only-of-type {\n",
       "        vertical-align: middle;\n",
       "    }\n",
       "\n",
       "    .dataframe tbody tr th {\n",
       "        vertical-align: top;\n",
       "    }\n",
       "\n",
       "    .dataframe thead th {\n",
       "        text-align: right;\n",
       "    }\n",
       "</style>\n",
       "<table border=\"1\" class=\"dataframe\">\n",
       "  <thead>\n",
       "    <tr style=\"text-align: right;\">\n",
       "      <th>Predicted</th>\n",
       "      <th>0</th>\n",
       "      <th>1</th>\n",
       "      <th>All</th>\n",
       "    </tr>\n",
       "    <tr>\n",
       "      <th>True</th>\n",
       "      <th></th>\n",
       "      <th></th>\n",
       "      <th></th>\n",
       "    </tr>\n",
       "  </thead>\n",
       "  <tbody>\n",
       "    <tr>\n",
       "      <th>0</th>\n",
       "      <td>1572</td>\n",
       "      <td>140</td>\n",
       "      <td>1712</td>\n",
       "    </tr>\n",
       "    <tr>\n",
       "      <th>1</th>\n",
       "      <td>334</td>\n",
       "      <td>279</td>\n",
       "      <td>613</td>\n",
       "    </tr>\n",
       "    <tr>\n",
       "      <th>All</th>\n",
       "      <td>1906</td>\n",
       "      <td>419</td>\n",
       "      <td>2325</td>\n",
       "    </tr>\n",
       "  </tbody>\n",
       "</table>\n",
       "</div>"
      ],
      "text/plain": [
       "Predicted     0    1   All\n",
       "True                      \n",
       "0          1572  140  1712\n",
       "1           334  279   613\n",
       "All        1906  419  2325"
      ]
     },
     "execution_count": 46,
     "metadata": {},
     "output_type": "execute_result"
    }
   ],
   "source": [
    "#View the confusion matrix in a simplier format\n",
    "pd.crosstab(y_test, y_pred_cbc, rownames=['True'], colnames=['Predicted'], margins=True)"
   ]
  },
  {
   "cell_type": "code",
   "execution_count": 47,
   "id": "6a805bb2-9720-4774-8b2b-bead02eea326",
   "metadata": {},
   "outputs": [
    {
     "name": "stdout",
     "output_type": "stream",
     "text": [
      "              precision    recall  f1-score   support\n",
      "\n",
      "           0       0.82      0.92      0.87      1712\n",
      "           1       0.67      0.46      0.54       613\n",
      "\n",
      "    accuracy                           0.80      2325\n",
      "   macro avg       0.75      0.69      0.70      2325\n",
      "weighted avg       0.78      0.80      0.78      2325\n",
      "\n"
     ]
    }
   ],
   "source": [
    "#Print the classification report to see the precision, recall, and f1 scores along with weighted averages\n",
    "print(classification_report(y_test,y_pred_cbc))"
   ]
  },
  {
   "cell_type": "code",
   "execution_count": 69,
   "id": "7f0956b7-02f1-4541-9239-1fff91a8a3fe",
   "metadata": {},
   "outputs": [
    {
     "name": "stdout",
     "output_type": "stream",
     "text": [
      "[0.80139081 0.83574296 0.83939524 0.84231921 0.86851614]\n",
      "Mean cross validation test score: 0.8374728732504634\n",
      "Mean cross validation train score: 0.8477869805964939\n",
      "Standard deviation in cv scores: 0.02142790037329674\n"
     ]
    }
   ],
   "source": [
    "#Cross validation\n",
    "cv_scores_test= cross_val_score(cbc,X_test,y_test,cv=5,scoring='roc_auc')\n",
    "cv_scores_train= cross_val_score(cbc,X_train,y_train,cv=5,scoring='roc_auc')\n",
    "print(cv_scores_test)\n",
    "cv_scores_cbc_test= cv_scores_test.mean()\n",
    "cv_scores_cbc_train= cv_scores_train.mean()\n",
    "cv_scores_std_cbc= cv_scores_test.std()\n",
    "print ('Mean cross validation test score: ' +str(cv_scores_cbc_test))\n",
    "print ('Mean cross validation train score: ' +str(cv_scores_cbc_train))\n",
    "print ('Standard deviation in cv scores: ' +str(cv_scores_std_cbc))"
   ]
  },
  {
   "cell_type": "markdown",
   "id": "2a1e573c-7537-4aaa-a972-e3607503f103",
   "metadata": {},
   "source": [
    "## Model Comparison"
   ]
  },
  {
   "cell_type": "code",
   "execution_count": 49,
   "id": "bd7d07eb-7557-4ec4-8e82-ea59a32a94dc",
   "metadata": {},
   "outputs": [
    {
     "data": {
      "text/html": [
       "<div>\n",
       "<style scoped>\n",
       "    .dataframe tbody tr th:only-of-type {\n",
       "        vertical-align: middle;\n",
       "    }\n",
       "\n",
       "    .dataframe tbody tr th {\n",
       "        vertical-align: top;\n",
       "    }\n",
       "\n",
       "    .dataframe thead th {\n",
       "        text-align: right;\n",
       "    }\n",
       "</style>\n",
       "<table border=\"1\" class=\"dataframe\">\n",
       "  <thead>\n",
       "    <tr style=\"text-align: right;\">\n",
       "      <th></th>\n",
       "      <th>Algorithm</th>\n",
       "      <th>Model accuracy score</th>\n",
       "      <th>Model F1 score</th>\n",
       "      <th>Model Lift score</th>\n",
       "      <th>ROC-AUC train score</th>\n",
       "      <th>ROC-AUC test score</th>\n",
       "    </tr>\n",
       "  </thead>\n",
       "  <tbody>\n",
       "    <tr>\n",
       "      <th>0</th>\n",
       "      <td>Logistic Regression</td>\n",
       "      <td>0.743226</td>\n",
       "      <td>0.621913</td>\n",
       "      <td>1.927822</td>\n",
       "      <td>0.847153</td>\n",
       "      <td>0.837592</td>\n",
       "    </tr>\n",
       "    <tr>\n",
       "      <th>1</th>\n",
       "      <td>KNN</td>\n",
       "      <td>0.789247</td>\n",
       "      <td>0.553734</td>\n",
       "      <td>2.377357</td>\n",
       "      <td>0.813401</td>\n",
       "      <td>0.802342</td>\n",
       "    </tr>\n",
       "    <tr>\n",
       "      <th>2</th>\n",
       "      <td>Random Forest</td>\n",
       "      <td>0.789677</td>\n",
       "      <td>0.559856</td>\n",
       "      <td>2.368610</td>\n",
       "      <td>0.826021</td>\n",
       "      <td>0.817812</td>\n",
       "    </tr>\n",
       "    <tr>\n",
       "      <th>3</th>\n",
       "      <td>Gradient Boost</td>\n",
       "      <td>0.795699</td>\n",
       "      <td>0.577778</td>\n",
       "      <td>2.407553</td>\n",
       "      <td>0.827735</td>\n",
       "      <td>0.809764</td>\n",
       "    </tr>\n",
       "    <tr>\n",
       "      <th>4</th>\n",
       "      <td>Cat Boost</td>\n",
       "      <td>0.796129</td>\n",
       "      <td>0.540698</td>\n",
       "      <td>2.525531</td>\n",
       "      <td>0.831309</td>\n",
       "      <td>0.818722</td>\n",
       "    </tr>\n",
       "  </tbody>\n",
       "</table>\n",
       "</div>"
      ],
      "text/plain": [
       "             Algorithm  Model accuracy score  Model F1 score  \\\n",
       "0  Logistic Regression              0.743226        0.621913   \n",
       "1                  KNN              0.789247        0.553734   \n",
       "2        Random Forest              0.789677        0.559856   \n",
       "3       Gradient Boost              0.795699        0.577778   \n",
       "4            Cat Boost              0.796129        0.540698   \n",
       "\n",
       "   Model Lift score  ROC-AUC train score  ROC-AUC test score  \n",
       "0          1.927822             0.847153            0.837592  \n",
       "1          2.377357             0.813401            0.802342  \n",
       "2          2.368610             0.826021            0.817812  \n",
       "3          2.407553             0.827735            0.809764  \n",
       "4          2.525531             0.831309            0.818722  "
      ]
     },
     "execution_count": 49,
     "metadata": {},
     "output_type": "execute_result"
    }
   ],
   "source": [
    "#Compare model by score and accuracy\n",
    "myLabels = ['Logistic Regression','KNN', 'Random Forest', 'Gradient Boost', 'Cat Boost']\n",
    "score_test= [cv_scores_lr_test, cv_scores_knn_test, cv_scores_rf_test, cv_scores_gbc_test, cv_scores_cbc_test]\n",
    "score_train= [cv_scores_lr_train, cv_scores_knn_train, cv_scores_rf_train, cv_scores_gbc_train, cv_scores_cbc_train]\n",
    "Accuracy_score = [Accuracy_lr, Accuracy_knn, Accuracy_rf, Accuracy_gbc, Accuracy_cbc]\n",
    "F1_score = [f1_lr, f1_knn, f1_rf, f1_gbc, f1_cbc]\n",
    "Lift_score = [lift_lr, lift_knn, lift_rf, lift_gbc, lift_cbc]\n",
    "\n",
    "score_tab_acc = pd.DataFrame(list(zip(myLabels, Accuracy_score)), \n",
    "               columns =['Algorithm', 'Model accuracy score']) \n",
    "\n",
    "score_tab_f1 = pd.DataFrame(list(zip(myLabels, F1_score)), \n",
    "               columns =['Algorithm', 'Model F1 score']) \n",
    "\n",
    "score_tab_lift = pd.DataFrame(list(zip(myLabels, Lift_score)), \n",
    "               columns =['Algorithm', 'Model Lift score']) \n",
    "\n",
    "\n",
    "score_tab = pd.DataFrame(list(zip(myLabels, score_train, score_test)), \n",
    "               columns =['Algorithm', 'ROC-AUC train score', 'ROC-AUC test score' ]) \n",
    "\n",
    "\n",
    "combined_score_tabs = score_tab_acc.merge(score_tab_f1,on='Algorithm').merge(score_tab_lift,on='Algorithm').merge(score_tab,on='Algorithm')\n",
    "combined_score_tabs"
   ]
  },
  {
   "cell_type": "code",
   "execution_count": 50,
   "id": "2797a608-20e3-4ac1-8e1f-44e324a429f6",
   "metadata": {},
   "outputs": [
    {
     "data": {
      "image/png": "[encoded data removed]",
      "text/plain": [
       "<Figure size 720x360 with 1 Axes>"
      ]
     },
     "metadata": {},
     "output_type": "display_data"
    },
    {
     "data": {
      "image/png": "[encoded data removed]",
      "text/plain": [
       "<Figure size 720x360 with 1 Axes>"
      ]
     },
     "metadata": {},
     "output_type": "display_data"
    },
    {
     "data": {
      "image/png": "[encoded data removed]",
      "text/plain": [
       "<Figure size 720x360 with 1 Axes>"
      ]
     },
     "metadata": {},
     "output_type": "display_data"
    },
    {
     "data": {
      "image/png": "[encoded data removed]",
      "text/plain": [
       "<Figure size 720x360 with 1 Axes>"
      ]
     },
     "metadata": {},
     "output_type": "display_data"
    }
   ],
   "source": [
    "#Plot the accuracy scores:\n",
    "index=[1, 2, 3, 4, 5]\n",
    "index_acc=[1.2,2.2,3.2,4.2, 5.2]\n",
    "plt.figure(figsize=(10,5))\n",
    "plt.xlabel('Models',fontsize=15)\n",
    "plt.ylabel ('Model accuracy scores',fontsize=15)\n",
    "plt.title('Comparison of the algorithms',fontsize=15)\n",
    "_=plt.bar(index_acc,Accuracy_score,color='coral',alpha=0.8,label='Accuracy score',edgecolor='k',width=0.3)\n",
    "plt.xticks([1, 2, 3, 4, 5], myLabels)\n",
    "plt.show()\n",
    "\n",
    "#Plot the F1 scores:\n",
    "index=[1, 2, 3, 4, 5]\n",
    "index_acc=[1.2,2.2,3.2,4.2, 5.2]\n",
    "plt.figure(figsize=(10,5))\n",
    "plt.xlabel('Models',fontsize=15)\n",
    "plt.ylabel ('Model F1 scores',fontsize=15)\n",
    "plt.title('Comparison of the algorithms',fontsize=15)\n",
    "_=plt.bar(index_acc,F1_score,color='coral',alpha=0.8,label='F1 score',edgecolor='k',width=0.3)\n",
    "plt.xticks([1, 2, 3, 4, 5], myLabels)\n",
    "\n",
    "plt.show()\n",
    "\n",
    "#Plott the Lift scores:\n",
    "index=[1, 2, 3, 4, 5]\n",
    "index_acc=[1.2,2.2,3.2,4.2, 5.2]\n",
    "plt.figure(figsize=(10,5))\n",
    "plt.xlabel('Models',fontsize=15)\n",
    "plt.ylabel ('Model Lift scores',fontsize=15)\n",
    "plt.title('Comparison of the algorithms',fontsize=15)\n",
    "_=plt.bar(index_acc,Lift_score,color='coral',alpha=0.8,label='Lift score',edgecolor='k',width=0.3)\n",
    "plt.xticks([1, 2, 3, 4, 5], myLabels)\n",
    "\n",
    "plt.show()\n",
    "\n",
    "#Plot the ROC-AUC train/test scores:\n",
    "\n",
    "index=[1, 2, 3, 4, 5]\n",
    "index_acc=[1.2,2.2,3.2,4.2, 5.2]\n",
    "plt.figure(figsize=(10,5))\n",
    "plt.xlabel('Models',fontsize=15)\n",
    "plt.ylabel ('ROC-AUC scores',fontsize=15)\n",
    "plt.title('Comparison of the algorithms',fontsize=15)\n",
    "_=plt.bar(index,score_train,color='b',alpha=0.6,label='Training score',edgecolor='k',width=0.2)\n",
    "_=plt.bar(index_acc,score_test,color='cyan',alpha=0.8,label='Test score',edgecolor='k',width=0.2)\n",
    "plt.xticks([1, 2, 3, 4, 5], myLabels)\n",
    "plt.legend()\n",
    "plt.show()"
   ]
  },
  {
   "cell_type": "markdown",
   "id": "b3949d53-7f35-4d83-9713-e4bc13d1f2d4",
   "metadata": {},
   "source": [
    "## Hyper Parameter Tuning"
   ]
  },
  {
   "cell_type": "markdown",
   "id": "e6c765e6-03b4-4191-b19f-16f0ae149f93",
   "metadata": {},
   "source": [
    "### Logistic Regression"
   ]
  },
  {
   "cell_type": "code",
   "execution_count": 51,
   "id": "23c412e9-aa37-47c5-b288-546378a285b9",
   "metadata": {},
   "outputs": [
    {
     "name": "stdout",
     "output_type": "stream",
     "text": [
      "LogisticRegression(C=0.1, max_iter=1000)\n",
      "0.8022478296816866\n"
     ]
    }
   ],
   "source": [
    "# Do a grid search\n",
    "lr = LogisticRegression(penalty='l2', max_iter = 1000)\n",
    "\n",
    "param_grid = {'C': [0.001, 0.01, 0.1, 1, 10, 100, 1000] }\n",
    "\n",
    "gs = GridSearchCV(estimator=lr, param_grid=param_grid)\n",
    "\n",
    "gs = gs.fit(X_train, y_train)\n",
    "\n",
    "print(gs.best_estimator_) \n",
    "print(gs.best_score_)"
   ]
  },
  {
   "cell_type": "code",
   "execution_count": 52,
   "id": "8e067f11-0169-4046-9d5f-5ccbeca3d69a",
   "metadata": {},
   "outputs": [
    {
     "name": "stdout",
     "output_type": "stream",
     "text": [
      "Accuracy: 0.8025806451612904\n",
      "F1-Score: 0.5883408071748878\n",
      "Lift Score: 1.9278216286869383\n",
      "CV Score: 0.8357484735292795\n"
     ]
    }
   ],
   "source": [
    "# Fit the model using the grid search parameters\n",
    "lr = LogisticRegression(C=0.1, penalty='l2', max_iter = 1000)\n",
    "lr.fit(X_train, y_train)\n",
    "y_predictions_lr = lr.predict(X_test)\n",
    "acc_lr = accuracy_score(y_test, y_predictions_lr)\n",
    "f1_lr = f1_score(y_test, y_predictions_lr)\n",
    "lift_lr = lift_score(y_test, y_pred_lr)\n",
    "cv_lr = cross_val_score(lr, X_test, y_test,scoring='roc_auc').mean()\n",
    "print('Accuracy:', acc_lr)\n",
    "print('F1-Score:', f1_lr)\n",
    "print('Lift Score:', lift_lr)\n",
    "print('CV Score:', cv_lr)"
   ]
  },
  {
   "cell_type": "code",
   "execution_count": 73,
   "id": "b9cbf657-0bb5-41b4-bff6-85f84c43d4a6",
   "metadata": {},
   "outputs": [
    {
     "name": "stdout",
     "output_type": "stream",
     "text": [
      "                                 Features  Importance scores\n",
      "0                             gender_Male           0.004929\n",
      "1                       SeniorCitizen_Yes           0.010815\n",
      "2                             Partner_Yes           0.046984\n",
      "3                          Dependents_Yes           0.058881\n",
      "4                        PhoneService_Yes           0.059218\n",
      "5          MultipleLines_No phone service           0.086302\n",
      "6                       MultipleLines_Yes           0.086302\n",
      "7             InternetService_Fiber optic           0.086302\n",
      "8                      InternetService_No           0.086302\n",
      "9      OnlineSecurity_No internet service           0.086302\n",
      "10                     OnlineSecurity_Yes           0.086302\n",
      "11       OnlineBackup_No internet service           0.086302\n",
      "12                       OnlineBackup_Yes           0.156254\n",
      "13   DeviceProtection_No internet service           0.165868\n",
      "14                   DeviceProtection_Yes           0.202656\n",
      "15        TechSupport_No internet service           0.213563\n",
      "16                        TechSupport_Yes           0.266764\n",
      "17        StreamingTV_No internet service           0.270722\n",
      "18                        StreamingTV_Yes           0.272309\n",
      "19    StreamingMovies_No internet service           0.295918\n",
      "20                    StreamingMovies_Yes           0.297634\n",
      "21                      Contract_One year           0.315220\n",
      "22                      Contract_Two year           0.321290\n",
      "23                   PaperlessBilling_Yes           0.329758\n",
      "24  PaymentMethod_Credit card (automatic)           0.332603\n",
      "25         PaymentMethod_Electronic check           0.400465\n",
      "26             PaymentMethod_Mailed check           0.540432\n",
      "27                              tenure_ss           0.673936\n",
      "28                      MonthlyCharges_ss           1.028449\n",
      "29                        TotalCharges_ss           1.097454\n"
     ]
    },
    {
     "data": {
      "image/png": "[encoded data removed]",
      "text/plain": [
       "<Figure size 720x720 with 1 Axes>"
      ]
     },
     "metadata": {},
     "output_type": "display_data"
    }
   ],
   "source": [
    "#Feature importances and visual comparison (adapted from: https://stackoverflow.com/questions/66750706/sklearn-important-features-error-when-using-logistic-regression)\n",
    "imp = abs(lr.coef_[0])\n",
    "imp = np.sort(imp)\n",
    "features = X\n",
    "feat_importances = pd.Series(imp)\n",
    "tab=pd.DataFrame(list(zip(X,imp)),columns =['Features', 'Importance scores']) \n",
    "print(tab)\n",
    "index = list(range(1,31))\n",
    "plt.figure(figsize=(10,10))\n",
    "_=plt.barh(index,imp, align='center',color='b')\n",
    "plt.xlabel('Relative Importance',fontsize=15)\n",
    "plt.ylabel('Features',fontsize=15)\n",
    "plt.yticks(index, features)\n",
    "plt.title('Feature Importances for Logistic regression classifier model',fontsize=15)\n",
    "plt.show()"
   ]
  },
  {
   "cell_type": "code",
   "execution_count": 75,
   "id": "cca0d052-6e0f-452b-b775-ef05873f2f93",
   "metadata": {},
   "outputs": [],
   "source": [
    "tab.to_csv('tab.csv', index=False)"
   ]
  },
  {
   "cell_type": "code",
   "execution_count": 54,
   "id": "d7b326e1-a0f8-49d4-9e59-7b3f72548e3f",
   "metadata": {},
   "outputs": [
    {
     "name": "stdout",
     "output_type": "stream",
     "text": [
      "ROC-AUC Score: 0.8365214930402037\n"
     ]
    }
   ],
   "source": [
    "#Calculate the ROC-AUC score\n",
    "y_scores_lr = lr.predict_proba(X_test)\n",
    "y_scores_lr = y_scores_lr[:,1]\n",
    "auroc = roc_auc_score(y_test, y_scores_lr)\n",
    "print(\"ROC-AUC Score:\", auroc)"
   ]
  },
  {
   "cell_type": "code",
   "execution_count": 55,
   "id": "497e9c69-e51b-4dff-8e13-5b2572531d4f",
   "metadata": {},
   "outputs": [
    {
     "data": {
      "image/png": "[encoded data removed]",
      "text/plain": [
       "<Figure size 720x360 with 1 Axes>"
      ]
     },
     "metadata": {},
     "output_type": "display_data"
    }
   ],
   "source": [
    "#Create the ROC curve\n",
    "false_positive_rate, true_positive_rate, thresholds = roc_curve(y_test, y_scores_lr)\n",
    "def plot_roc_curve(false_positive_rate, true_positive_rate, label=None):\n",
    "    plt.plot(false_positive_rate, true_positive_rate, linewidth=2, label=label)\n",
    "    plt.plot([0, 1], [0, 1], 'r', linewidth=4)\n",
    "    plt.axis([0, 1, 0, 1])\n",
    "    plt.xlabel('False Positive Rate (FPR)', fontsize=15)\n",
    "    plt.ylabel('True Positive Rate (TPR)', fontsize=15)\n",
    "    plt.title('ROC curve (LR)',fontsize=15)\n",
    "\n",
    "plt.figure(figsize=(10, 5))\n",
    "plot_roc_curve(false_positive_rate, true_positive_rate)\n",
    "plt.show()"
   ]
  },
  {
   "cell_type": "markdown",
   "id": "59b03b60-1094-406b-bb73-682a31d9b23f",
   "metadata": {},
   "source": [
    "### Random Forest"
   ]
  },
  {
   "cell_type": "code",
   "execution_count": 56,
   "id": "ce4702a4-4725-445a-b08d-ff7b03857807",
   "metadata": {},
   "outputs": [
    {
     "name": "stdout",
     "output_type": "stream",
     "text": [
      "RandomForestClassifier(min_samples_leaf=10, n_jobs=-1, random_state=1)\n",
      "0.8018234175416689\n"
     ]
    }
   ],
   "source": [
    "# Do a grid search\n",
    "rf = RandomForestClassifier(max_features='auto',random_state=1, n_jobs=-1)\n",
    "\n",
    "param_grid = { \"criterion\" : [\"gini\", \"entropy\"], \n",
    "              \"min_samples_leaf\" : [1, 5, 10], \n",
    "              \"min_samples_split\" : [2, 4, 10,12,16], \n",
    "              \"n_estimators\": [50, 100,400,700,1000]}\n",
    "\n",
    "gs = GridSearchCV(estimator=rf, param_grid=param_grid, scoring='accuracy', cv=3, n_jobs=-1)\n",
    "\n",
    "gs = gs.fit(X_train, y_train)\n",
    "\n",
    "print(gs.best_estimator_) \n",
    "print(gs.best_score_)"
   ]
  },
  {
   "cell_type": "code",
   "execution_count": 57,
   "id": "4376f5c9-e8e2-4e33-9669-1a3759316b09",
   "metadata": {},
   "outputs": [
    {
     "name": "stdout",
     "output_type": "stream",
     "text": [
      "Accuracy: 0.7982795698924732\n",
      "F1-Score: 0.567741935483871\n",
      "Lift Score: 2.368609839029855\n",
      "CV Score: 0.836930185103483\n"
     ]
    }
   ],
   "source": [
    "# Fit the model using the grid search parameters\n",
    "rf = RandomForestClassifier(min_samples_leaf=10, n_jobs=-1, random_state=1)\n",
    "rf.fit(X_train, y_train)\n",
    "y_predictions_rf = rf.predict(X_test)\n",
    "acc_rf = accuracy_score(y_test, y_predictions_rf)\n",
    "f1_rf = f1_score(y_test, y_predictions_rf)\n",
    "cv_rf = cross_val_score(rf, X_test, y_test,scoring='roc_auc').mean()\n",
    "lift_rf = lift_score(y_test, y_pred_rf)\n",
    "print('Accuracy:', acc_rf)\n",
    "print('F1-Score:', f1_rf)\n",
    "print('Lift Score:', lift_rf)\n",
    "print('CV Score:', cv_rf)"
   ]
  },
  {
   "cell_type": "code",
   "execution_count": 58,
   "id": "53a114ad-72e7-41b3-bcd9-1052288d9b81",
   "metadata": {},
   "outputs": [
    {
     "name": "stdout",
     "output_type": "stream",
     "text": [
      "                                 Features  Importance scores\n",
      "0                             gender_Male           0.002443\n",
      "1                       SeniorCitizen_Yes           0.002547\n",
      "2                             Partner_Yes           0.005396\n",
      "3                          Dependents_Yes           0.005446\n",
      "4                        PhoneService_Yes           0.007510\n",
      "5          MultipleLines_No phone service           0.007571\n",
      "6                       MultipleLines_Yes           0.008937\n",
      "7             InternetService_Fiber optic           0.009133\n",
      "8                      InternetService_No           0.009155\n",
      "9      OnlineSecurity_No internet service           0.009167\n",
      "10                     OnlineSecurity_Yes           0.009485\n",
      "11       OnlineBackup_No internet service           0.010307\n",
      "12                       OnlineBackup_Yes           0.010761\n",
      "13   DeviceProtection_No internet service           0.011401\n",
      "14                   DeviceProtection_Yes           0.011828\n",
      "15        TechSupport_No internet service           0.013312\n",
      "16                        TechSupport_Yes           0.013576\n",
      "17        StreamingTV_No internet service           0.014996\n",
      "18                        StreamingTV_Yes           0.015792\n",
      "19    StreamingMovies_No internet service           0.016405\n",
      "20                    StreamingMovies_Yes           0.018713\n",
      "21                      Contract_One year           0.027225\n",
      "22                      Contract_Two year           0.027268\n",
      "23                   PaperlessBilling_Yes           0.041734\n",
      "24  PaymentMethod_Credit card (automatic)           0.066961\n",
      "25         PaymentMethod_Electronic check           0.085168\n",
      "26             PaymentMethod_Mailed check           0.085718\n",
      "27                              tenure_ss           0.095985\n",
      "28                      MonthlyCharges_ss           0.158216\n",
      "29                        TotalCharges_ss           0.197847\n"
     ]
    },
    {
     "data": {
      "image/png": "[encoded data removed]",
      "text/plain": [
       "<Figure size 720x720 with 1 Axes>"
      ]
     },
     "metadata": {},
     "output_type": "display_data"
    }
   ],
   "source": [
    "#Feature importances:\n",
    "features = X\n",
    "importances = list(rf.feature_importances_)\n",
    "imp=np.sort(importances)\n",
    "tab=pd.DataFrame(list(zip(X,imp)),columns =['Features', 'Importance scores']) \n",
    "print(tab)\n",
    "\n",
    "#Visual comparison:\n",
    "plt.figure(figsize=(10,10))\n",
    "#indices = np.argsort(importances)\n",
    "index = list(range(1,31))\n",
    "_=plt.barh(index,imp, align='center',color='b')\n",
    "plt.xlabel('Relative Importance',fontsize=15)\n",
    "plt.ylabel('Features',fontsize=15)\n",
    "plt.yticks(index, features)\n",
    "plt.title('Feature Importances for Random Forest classifier model',fontsize=15)\n",
    "plt.show()"
   ]
  },
  {
   "cell_type": "code",
   "execution_count": 59,
   "id": "009db91a-f7a3-4d89-a271-e4cabbbaa39d",
   "metadata": {},
   "outputs": [
    {
     "name": "stdout",
     "output_type": "stream",
     "text": [
      "ROC-AUC Score: 0.8425307969081124\n"
     ]
    }
   ],
   "source": [
    "#Calculate the ROC-AUC score\n",
    "y_scores_rf = rf.predict_proba(X_test)\n",
    "y_scores_rf = y_scores_rf[:,1]\n",
    "auroc = roc_auc_score(y_test, y_scores_rf)\n",
    "print(\"ROC-AUC Score:\", auroc)"
   ]
  },
  {
   "cell_type": "code",
   "execution_count": 60,
   "id": "38fcd59d-27d4-4c11-9f9b-e27c06575f03",
   "metadata": {},
   "outputs": [
    {
     "data": {
      "image/png": "[encoded data removed]",
      "text/plain": [
       "<Figure size 720x360 with 1 Axes>"
      ]
     },
     "metadata": {},
     "output_type": "display_data"
    }
   ],
   "source": [
    "#Create the ROC curve\n",
    "false_positive_rate, true_positive_rate, thresholds = roc_curve(y_test, y_scores_rf)\n",
    "def plot_roc_curve(false_positive_rate, true_positive_rate, label=None):\n",
    "    plt.plot(false_positive_rate, true_positive_rate, linewidth=2, label=label)\n",
    "    plt.plot([0, 1], [0, 1], 'r', linewidth=4)\n",
    "    plt.axis([0, 1, 0, 1])\n",
    "    plt.xlabel('False Positive Rate (FPR)', fontsize=15)\n",
    "    plt.ylabel('True Positive Rate (TPR)', fontsize=15)\n",
    "    plt.title('ROC curve (RF)',fontsize=15)\n",
    "\n",
    "plt.figure(figsize=(10, 5))\n",
    "plot_roc_curve(false_positive_rate, true_positive_rate)\n",
    "plt.show()"
   ]
  },
  {
   "cell_type": "markdown",
   "id": "cdfaac37-d804-46f0-b7b8-59f99b902754",
   "metadata": {},
   "source": [
    "### Cat Boost"
   ]
  },
  {
   "cell_type": "code",
   "execution_count": 61,
   "id": "68805794-995c-499b-83f3-892540ee273d",
   "metadata": {},
   "outputs": [
    {
     "name": "stdout",
     "output_type": "stream",
     "text": [
      "{'depth': 7, 'iterations': 80, 'learning_rate': 0.04}\n",
      "0.8045794516995072\n"
     ]
    }
   ],
   "source": [
    "# Use Grid Search\n",
    "cbc = CatBoostClassifier(verbose=False)\n",
    "\n",
    "# Parameter grid from https://www.projectpro.io/recipes/find-optimal-parameters-for-catboost-using-gridsearchcv-for-classification\n",
    "param_grid = {'depth': [4,5,6,7,8,9, 10],\n",
    "              'learning_rate': [0.01,0.02,0.03,0.04],\n",
    "              'iterations': [10,20,30,40,50,60,70,80,90,100]\n",
    "                 }\n",
    "\n",
    "gs = GridSearchCV(estimator=cbc, param_grid=param_grid, scoring='accuracy', cv=3, n_jobs=-1)\n",
    "\n",
    "gs = gs.fit(X_train, y_train)\n",
    "\n",
    "print(gs.best_params_) \n",
    "print(gs.best_score_)\n"
   ]
  },
  {
   "cell_type": "code",
   "execution_count": 62,
   "id": "f7e06950-e789-44a4-9751-54e6a997ef52",
   "metadata": {},
   "outputs": [
    {
     "name": "stdout",
     "output_type": "stream",
     "text": [
      "Accuracy: 0.803010752688172\n",
      "F1-Score: 0.5743494423791821\n",
      "Lift Score: 2.5255307634506146\n",
      "CV Score: 0.8374728732504634\n"
     ]
    }
   ],
   "source": [
    "# Fit the model using the grid search parameters\n",
    "cbc = CatBoostClassifier(depth = 7, iterations = 80, learning_rate = 0.04, verbose=False)\n",
    "cbc.fit(X_train, y_train)\n",
    "y_predictions_cbc = cbc.predict(X_test)\n",
    "acc_cbc = accuracy_score(y_test, y_predictions_cbc)\n",
    "f1_cbc = f1_score(y_test, y_predictions_cbc)\n",
    "cv_cbc = cross_val_score(cbc, X_test, y_test,scoring='roc_auc').mean()\n",
    "lift_cbc = lift_score(y_test, y_pred_cbc)\n",
    "print('Accuracy:', acc_cbc)\n",
    "print('F1-Score:', f1_cbc)\n",
    "print('Lift Score:', lift_cbc)\n",
    "print('CV Score:', cv_cbc)"
   ]
  },
  {
   "cell_type": "code",
   "execution_count": 63,
   "id": "70440e16-e7a4-4267-b530-6607d2185105",
   "metadata": {},
   "outputs": [
    {
     "name": "stdout",
     "output_type": "stream",
     "text": [
      "                                 Features  Importance scores\n",
      "0                             gender_Male           0.000000\n",
      "1                       SeniorCitizen_Yes           0.099697\n",
      "2                             Partner_Yes           0.206676\n",
      "3                          Dependents_Yes           0.222266\n",
      "4                        PhoneService_Yes           0.399958\n",
      "5          MultipleLines_No phone service           0.589318\n",
      "6                       MultipleLines_Yes           0.637494\n",
      "7             InternetService_Fiber optic           0.938698\n",
      "8                      InternetService_No           1.256228\n",
      "9      OnlineSecurity_No internet service           1.371303\n",
      "10                     OnlineSecurity_Yes           1.421351\n",
      "11       OnlineBackup_No internet service           1.518571\n",
      "12                       OnlineBackup_Yes           1.633179\n",
      "13   DeviceProtection_No internet service           1.815217\n",
      "14                   DeviceProtection_Yes           2.018611\n",
      "15        TechSupport_No internet service           2.289548\n",
      "16                        TechSupport_Yes           2.438838\n",
      "17        StreamingTV_No internet service           2.566448\n",
      "18                        StreamingTV_Yes           2.688791\n",
      "19    StreamingMovies_No internet service           2.732289\n",
      "20                    StreamingMovies_Yes           3.619574\n",
      "21                      Contract_One year           3.796506\n",
      "22                      Contract_Two year           3.798128\n",
      "23                   PaperlessBilling_Yes           5.462655\n",
      "24  PaymentMethod_Credit card (automatic)           6.528080\n",
      "25         PaymentMethod_Electronic check           7.070061\n",
      "26             PaymentMethod_Mailed check           7.579734\n",
      "27                              tenure_ss           8.500288\n",
      "28                      MonthlyCharges_ss           9.158759\n",
      "29                        TotalCharges_ss          17.641734\n"
     ]
    },
    {
     "data": {
      "image/png": "[encoded data removed]",
      "text/plain": [
       "<Figure size 720x720 with 1 Axes>"
      ]
     },
     "metadata": {},
     "output_type": "display_data"
    }
   ],
   "source": [
    "#Feature importances:\n",
    "features = X\n",
    "importances = list(cbc.feature_importances_)\n",
    "imp=np.sort(importances)\n",
    "tab=pd.DataFrame(list(zip(X,imp)),columns =['Features', 'Importance scores']) \n",
    "print(tab)\n",
    "\n",
    "#Visual comparison:\n",
    "plt.figure(figsize=(10,10))\n",
    "index = list(range(1,31))\n",
    "_=plt.barh(index,imp, align='center',color='b')\n",
    "plt.xlabel('Relative Importance',fontsize=15)\n",
    "plt.ylabel('Features',fontsize=15)\n",
    "plt.yticks(index, features)\n",
    "plt.title('Feature Importances for Cat Boost classifier model',fontsize=15)\n",
    "plt.show()"
   ]
  },
  {
   "cell_type": "code",
   "execution_count": 64,
   "id": "aea063eb-f973-4fba-a290-707aaea81d86",
   "metadata": {},
   "outputs": [
    {
     "name": "stdout",
     "output_type": "stream",
     "text": [
      "ROC-AUC Score: 0.8418938002164932\n"
     ]
    }
   ],
   "source": [
    "#Calculate the ROC-AUC score\n",
    "y_scores_cbc = cbc.predict_proba(X_test, verbose=None)\n",
    "y_scores_cbc = y_scores_cbc[:,1]\n",
    "auroc = roc_auc_score(y_test, y_scores_cbc)\n",
    "print(\"ROC-AUC Score:\", auroc)"
   ]
  },
  {
   "cell_type": "code",
   "execution_count": 65,
   "id": "93807319-f8fa-4393-80a5-4aae983dcd96",
   "metadata": {},
   "outputs": [
    {
     "data": {
      "image/png": "[encoded data removed]",
      "text/plain": [
       "<Figure size 720x360 with 1 Axes>"
      ]
     },
     "metadata": {},
     "output_type": "display_data"
    }
   ],
   "source": [
    "#Create the ROC curve\n",
    "false_positive_rate, true_positive_rate, thresholds = roc_curve(y_test, y_scores_cbc)\n",
    "def plot_roc_curve(false_positive_rate, true_positive_rate, label=None):\n",
    "    plt.plot(false_positive_rate, true_positive_rate, linewidth=2, label=label)\n",
    "    plt.plot([0, 1], [0, 1], 'r', linewidth=4)\n",
    "    plt.axis([0, 1, 0, 1])\n",
    "    plt.xlabel('False Positive Rate (FPR)', fontsize=15)\n",
    "    plt.ylabel('True Positive Rate (TPR)', fontsize=15)\n",
    "    plt.title('ROC curve (RF)',fontsize=15)\n",
    "\n",
    "plt.figure(figsize=(10, 5))\n",
    "plot_roc_curve(false_positive_rate, true_positive_rate)\n",
    "plt.show()"
   ]
  },
  {
   "cell_type": "code",
   "execution_count": 66,
   "id": "1c868388-1605-41f1-a329-ffcfbd43ed04",
   "metadata": {},
   "outputs": [],
   "source": [
    "#Compare model by score and accuracy\n",
    "myLabels = ['Logistic Regression','Random Forest','Cat Boost']\n",
    "accuracy = [acc_lr, acc_rf, acc_cbc]\n",
    "f1 = [f1_lr, f1_rf, f1_cbc]\n",
    "cv = [cv_lr, cv_rf, cv_cbc]\n",
    "lift = [lift_lr, lift_rf, lift_cbc]\n",
    "\n",
    "score_tab_acc = pd.DataFrame(list(zip(myLabels, accuracy)), \n",
    "               columns =['Algorithm', 'Accuracy']) \n",
    "\n",
    "score_tab_f1 = pd.DataFrame(list(zip(myLabels, f1)), \n",
    "               columns =['Algorithm', 'F1']) \n",
    "\n",
    "score_tab_lift = pd.DataFrame(list(zip(myLabels, lift)), \n",
    "               columns =['Algorithm', 'Lift']) \n",
    "\n",
    "score_tab_cv = pd.DataFrame(list(zip(myLabels, cv)), \n",
    "               columns =['Algorithm', 'CV']) "
   ]
  },
  {
   "cell_type": "code",
   "execution_count": 67,
   "id": "54a0cdb1-0ddd-4be8-b96c-a6c4b489a96d",
   "metadata": {},
   "outputs": [
    {
     "data": {
      "text/html": [
       "<div>\n",
       "<style scoped>\n",
       "    .dataframe tbody tr th:only-of-type {\n",
       "        vertical-align: middle;\n",
       "    }\n",
       "\n",
       "    .dataframe tbody tr th {\n",
       "        vertical-align: top;\n",
       "    }\n",
       "\n",
       "    .dataframe thead th {\n",
       "        text-align: right;\n",
       "    }\n",
       "</style>\n",
       "<table border=\"1\" class=\"dataframe\">\n",
       "  <thead>\n",
       "    <tr style=\"text-align: right;\">\n",
       "      <th></th>\n",
       "      <th>Algorithm</th>\n",
       "      <th>Accuracy</th>\n",
       "      <th>F1</th>\n",
       "      <th>Lift</th>\n",
       "      <th>CV</th>\n",
       "    </tr>\n",
       "  </thead>\n",
       "  <tbody>\n",
       "    <tr>\n",
       "      <th>0</th>\n",
       "      <td>Logistic Regression</td>\n",
       "      <td>0.802581</td>\n",
       "      <td>0.588341</td>\n",
       "      <td>1.927822</td>\n",
       "      <td>0.835748</td>\n",
       "    </tr>\n",
       "    <tr>\n",
       "      <th>1</th>\n",
       "      <td>Random Forest</td>\n",
       "      <td>0.798280</td>\n",
       "      <td>0.567742</td>\n",
       "      <td>2.368610</td>\n",
       "      <td>0.836930</td>\n",
       "    </tr>\n",
       "    <tr>\n",
       "      <th>2</th>\n",
       "      <td>Cat Boost</td>\n",
       "      <td>0.803011</td>\n",
       "      <td>0.574349</td>\n",
       "      <td>2.525531</td>\n",
       "      <td>0.837473</td>\n",
       "    </tr>\n",
       "  </tbody>\n",
       "</table>\n",
       "</div>"
      ],
      "text/plain": [
       "             Algorithm  Accuracy        F1      Lift        CV\n",
       "0  Logistic Regression  0.802581  0.588341  1.927822  0.835748\n",
       "1        Random Forest  0.798280  0.567742  2.368610  0.836930\n",
       "2            Cat Boost  0.803011  0.574349  2.525531  0.837473"
      ]
     },
     "execution_count": 67,
     "metadata": {},
     "output_type": "execute_result"
    }
   ],
   "source": [
    "combined_scores = score_tab_acc.merge(score_tab_f1,on='Algorithm').merge(score_tab_lift,on='Algorithm').merge(score_tab_cv,on='Algorithm')\n",
    "combined_scores"
   ]
  },
  {
   "cell_type": "code",
   "execution_count": null,
   "id": "c9124e84-81af-4e4d-adcb-3a9f3fbd7552",
   "metadata": {},
   "outputs": [],
   "source": []
  }
 ],
 "metadata": {
  "kernelspec": {
   "display_name": "Python 3 (ipykernel)",
   "language": "python",
   "name": "python3"
  },
  "language_info": {
   "codemirror_mode": {
    "name": "ipython",
    "version": 3
   },
   "file_extension": ".py",
   "mimetype": "text/x-python",
   "name": "python",
   "nbconvert_exporter": "python",
   "pygments_lexer": "ipython3",
   "version": "3.9.9"
  }
 },
 "nbformat": 4,
 "nbformat_minor": 5
}
