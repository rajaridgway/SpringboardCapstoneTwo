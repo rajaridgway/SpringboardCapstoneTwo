{
 "cells": [
  {
   "cell_type": "markdown",
   "id": "db5f5911",
   "metadata": {},
   "source": [
    "# Webscraping GOSA Data"
   ]
  },
  {
   "cell_type": "markdown",
   "id": "0450f38a",
   "metadata": {},
   "source": [
    "The goal of webscraping the GOSA website is to retrieve the urls needed to download relevant datasets.\n",
    "\n",
    "The urls are located in the \"DATA AVAILABLE FOR DOWNLOAD\" column of the table on the GOSA Downloadable Data website.\n",
    "\n",
    "Code adapted from https://towardsdatascience.com/web-scraping-scraping-table-data-1665b6b2271c"
   ]
  },
  {
   "cell_type": "markdown",
   "id": "b4534082",
   "metadata": {},
   "source": [
    "## Import packages"
   ]
  },
  {
   "cell_type": "code",
   "execution_count": 1,
   "id": "edf8cdfd",
   "metadata": {},
   "outputs": [],
   "source": [
    "from bs4 import BeautifulSoup\n",
    "import requests\n",
    "import pandas as pd\n",
    "import re"
   ]
  },
  {
   "cell_type": "markdown",
   "id": "dd5c36dd",
   "metadata": {},
   "source": [
    "## Use BeautifulSoup to Scrape and Review HTML"
   ]
  },
  {
   "cell_type": "code",
   "execution_count": 2,
   "id": "cf9de962",
   "metadata": {},
   "outputs": [],
   "source": [
    "# GOSA Downloadable Data site URL\n",
    "url = 'https://gosa.georgia.gov/dashboards-data-report-card/downloadable-data'"
   ]
  },
  {
   "cell_type": "code",
   "execution_count": 3,
   "id": "3da3bd5d",
   "metadata": {},
   "outputs": [],
   "source": [
    "# Make a GET request to fetch the raw HTML content\n",
    "html_content = requests.get(url).text"
   ]
  },
  {
   "cell_type": "code",
   "execution_count": 4,
   "id": "22ec6697",
   "metadata": {},
   "outputs": [],
   "source": [
    "# Parse HTML code for the entire site\n",
    "soup = BeautifulSoup(html_content, \"lxml\")\n",
    "#print(soup.prettify()) # print the parsed data of html"
   ]
  },
  {
   "cell_type": "code",
   "execution_count": 5,
   "id": "fbc49617",
   "metadata": {},
   "outputs": [],
   "source": [
    "#print(soup.prettify())"
   ]
  },
  {
   "cell_type": "markdown",
   "id": "360e41b9",
   "metadata": {},
   "source": [
    "In reviewing the HTML above, it looks like the table class needed is \"stacked-row-plus\" and the columns needed are the first \"DATA CATEGORY\" and the third \"DATA AVAILABLE FOR DOWNLOAD\""
   ]
  },
  {
   "cell_type": "code",
   "execution_count": 6,
   "id": "d3a87cb6",
   "metadata": {},
   "outputs": [
    {
     "name": "stdout",
     "output_type": "stream",
     "text": [
      "Number of tables on site:  1\n"
     ]
    }
   ],
   "source": [
    "# On site there are 1 tables with the class \"stacked-row-plus\"\n",
    "# The following line will generate a list of HTML content for each table\n",
    "gdp = soup.find_all(\"table\", attrs={\"class\": \"stacked-row-plus\"})\n",
    "print(\"Number of tables on site: \",len(gdp))"
   ]
  },
  {
   "cell_type": "markdown",
   "id": "4bbdd038",
   "metadata": {},
   "source": [
    "## Determine Headers for Single Table"
   ]
  },
  {
   "cell_type": "code",
   "execution_count": 7,
   "id": "c948a73b",
   "metadata": {},
   "outputs": [
    {
     "name": "stdout",
     "output_type": "stream",
     "text": [
      "['DATA CATEGORY', 'DESCRIPTION', 'DATA AVAILABLE FOR DOWNLOAD']\n"
     ]
    }
   ],
   "source": [
    "# Lets go ahead and scrape first table with HTML code gdp[0]\n",
    "table1 = gdp[0]\n",
    "# the head will form our column names\n",
    "body = table1.find_all(\"tr\")\n",
    "# Head values (Column names) are the first items of the body list\n",
    "head = body[0] # 0th item is the header row\n",
    "body_rows = body[1:] # All other items becomes the rest of the rows\n",
    "\n",
    "# Lets now iterate through the head HTML code and make list of clean headings\n",
    "\n",
    "# Declare empty list to keep Columns names\n",
    "headings = []\n",
    "for item in head.find_all(\"th\"): # loop through all th elements\n",
    "    # convert the th elements to text and strip \"\\n\"\n",
    "    item = (item.text).rstrip(\"\\n\")\n",
    "    # append the clean column name to headings\n",
    "    headings.append(item)\n",
    "print(headings)"
   ]
  },
  {
   "cell_type": "markdown",
   "id": "406875b5",
   "metadata": {},
   "source": [
    "## Create a Dataframe for Relevant Data"
   ]
  },
  {
   "cell_type": "code",
   "execution_count": 8,
   "id": "4e3c41de",
   "metadata": {},
   "outputs": [],
   "source": [
    "# Loop through all body rows \n",
    "\n",
    "all_rows = [] #list for all body rows\n",
    "for row_num in range(len(body_rows)): # One row at a time\n",
    "    row = [] # this will old entries for one row\n",
    "    for row_item in body_rows[row_num].find_all(\"td\"): #loop through all row entries\n",
    "        aa = row_item \n",
    "        row.append(aa)\n",
    "    all_rows.append(row)"
   ]
  },
  {
   "cell_type": "code",
   "execution_count": 9,
   "id": "dcd7e1ce",
   "metadata": {},
   "outputs": [],
   "source": [
    "# Create a dataframe using the rows and three column headers\n",
    "df = pd.DataFrame(all_rows, columns=headings)"
   ]
  },
  {
   "cell_type": "code",
   "execution_count": 10,
   "id": "abc8f71d",
   "metadata": {},
   "outputs": [
    {
     "data": {
      "text/html": [
       "<div>\n",
       "<style scoped>\n",
       "    .dataframe tbody tr th:only-of-type {\n",
       "        vertical-align: middle;\n",
       "    }\n",
       "\n",
       "    .dataframe tbody tr th {\n",
       "        vertical-align: top;\n",
       "    }\n",
       "\n",
       "    .dataframe thead th {\n",
       "        text-align: right;\n",
       "    }\n",
       "</style>\n",
       "<table border=\"1\" class=\"dataframe\">\n",
       "  <thead>\n",
       "    <tr style=\"text-align: right;\">\n",
       "      <th></th>\n",
       "      <th>DATA CATEGORY</th>\n",
       "      <th>DESCRIPTION</th>\n",
       "      <th>DATA AVAILABLE FOR DOWNLOAD</th>\n",
       "    </tr>\n",
       "  </thead>\n",
       "  <tbody>\n",
       "    <tr>\n",
       "      <th>0</th>\n",
       "      <td>[\\n, [[ACT Scores (Highest)]], \\n]</td>\n",
       "      <td>[\\n, [ACT testing counts and average composite...</td>\n",
       "      <td>[\\n, [ ], \\n, [[2019-20], [], [2018-19],  , []...</td>\n",
       "    </tr>\n",
       "    <tr>\n",
       "      <th>1</th>\n",
       "      <td>[[ACT Scores (Recent)]]</td>\n",
       "      <td>[\\n, [ACT testing counts and average composite...</td>\n",
       "      <td>[[2019-20]]</td>\n",
       "    </tr>\n",
       "    <tr>\n",
       "      <th>2</th>\n",
       "      <td>[[Advanced Placement (AP) Scores]]</td>\n",
       "      <td>[\\n, [Number of students tested, number of AP ...</td>\n",
       "      <td>[\\n, [ ], \\n, [[2019-20], [], [2018-19],  , []...</td>\n",
       "    </tr>\n",
       "    <tr>\n",
       "      <th>3</th>\n",
       "      <td>[[Attendance]]</td>\n",
       "      <td>[\\n, [Collected from the Student Record showin...</td>\n",
       "      <td>[\\n, [ ], \\n, [[2019-20], [], [2018-19], [], [...</td>\n",
       "    </tr>\n",
       "    <tr>\n",
       "      <th>4</th>\n",
       "      <td>[[Certified Personnel]]</td>\n",
       "      <td>[Certified Personnel data are compiled from in...</td>\n",
       "      <td>[\\n, [ ], \\n, [[2019-20], [], [2018-19], [], [...</td>\n",
       "    </tr>\n",
       "  </tbody>\n",
       "</table>\n",
       "</div>"
      ],
      "text/plain": [
       "                        DATA CATEGORY  \\\n",
       "0  [\\n, [[ACT Scores (Highest)]], \\n]   \n",
       "1             [[ACT Scores (Recent)]]   \n",
       "2  [[Advanced Placement (AP) Scores]]   \n",
       "3                      [[Attendance]]   \n",
       "4             [[Certified Personnel]]   \n",
       "\n",
       "                                         DESCRIPTION  \\\n",
       "0  [\\n, [ACT testing counts and average composite...   \n",
       "1  [\\n, [ACT testing counts and average composite...   \n",
       "2  [\\n, [Number of students tested, number of AP ...   \n",
       "3  [\\n, [Collected from the Student Record showin...   \n",
       "4  [Certified Personnel data are compiled from in...   \n",
       "\n",
       "                         DATA AVAILABLE FOR DOWNLOAD  \n",
       "0  [\\n, [ ], \\n, [[2019-20], [], [2018-19],  , []...  \n",
       "1                                        [[2019-20]]  \n",
       "2  [\\n, [ ], \\n, [[2019-20], [], [2018-19],  , []...  \n",
       "3  [\\n, [ ], \\n, [[2019-20], [], [2018-19], [], [...  \n",
       "4  [\\n, [ ], \\n, [[2019-20], [], [2018-19], [], [...  "
      ]
     },
     "execution_count": 10,
     "metadata": {},
     "output_type": "execute_result"
    }
   ],
   "source": [
    "# Review the dataframe\n",
    "df.head()"
   ]
  },
  {
   "cell_type": "markdown",
   "id": "d42d4221",
   "metadata": {},
   "source": [
    "## Reformat the Data Available for Download Column"
   ]
  },
  {
   "cell_type": "code",
   "execution_count": 11,
   "id": "d3b62e32",
   "metadata": {},
   "outputs": [
    {
     "data": {
      "text/plain": [
       "<td>\n",
       "<p> </p>\n",
       "<p><a href=\"https://download.gosa.ga.gov/2020/ACT_HIGHEST_2020_JUN_21_2021.csv\">2019-20</a><br/><a href=\"https://download.gosa.ga.gov/2019/ACT_HIGHEST_2019_FEB_24_2020.csv\">2018-19</a> <br/><a href=\"https://download.gosa.ga.gov/2018/ACT_HIGHEST_2018_FEB_24_2020.csv\">2017-18</a><br/><a href=\"https://download.gosa.ga.gov/2017/ACT_HIGHEST_2017_FEB_24_2020.csv\">2016-17</a><br/><a href=\"https://download.gosa.ga.gov/2016/ACT_HIGHEST_2016_FEB_24_2020.csv\">2015-16</a><br/><a href=\"https://download.gosa.ga.gov/2015/ACT_HIGHEST_2015_FEB_24_2020.csv\">2014-15</a><br/><a href=\"https://download.gosa.ga.gov/2014/ACT_HIGHEST_2014_FEB_24_2020.csv\">2013-14</a><br/><a href=\"https://download.gosa.ga.gov/2013/ACT_HIGHEST_2013_FEB_24_2020.csv\">2012-13</a><br/><a href=\"https://download.gosa.ga.gov/2012/ACT_HIGHEST_2012_FEB_24_2020.csv\">2011-12</a><br/><a href=\"https://download.gosa.ga.gov/2011/ACT_HIGHEST_2011_FEB_24_2020.csv\">2010-11</a></p>\n",
       "<p> </p>\n",
       "</td>"
      ]
     },
     "execution_count": 11,
     "metadata": {},
     "output_type": "execute_result"
    }
   ],
   "source": [
    "# Check to see what is available in the data for download column\n",
    "df['DATA AVAILABLE FOR DOWNLOAD'][0]"
   ]
  },
  {
   "cell_type": "code",
   "execution_count": 12,
   "id": "fe57115f",
   "metadata": {},
   "outputs": [
    {
     "data": {
      "text/plain": [
       "[<a href=\"https://download.gosa.ga.gov/2020/ACT_HIGHEST_2020_JUN_21_2021.csv\">2019-20</a>,\n",
       " <a href=\"https://download.gosa.ga.gov/2019/ACT_HIGHEST_2019_FEB_24_2020.csv\">2018-19</a>,\n",
       " <a href=\"https://download.gosa.ga.gov/2018/ACT_HIGHEST_2018_FEB_24_2020.csv\">2017-18</a>,\n",
       " <a href=\"https://download.gosa.ga.gov/2017/ACT_HIGHEST_2017_FEB_24_2020.csv\">2016-17</a>,\n",
       " <a href=\"https://download.gosa.ga.gov/2016/ACT_HIGHEST_2016_FEB_24_2020.csv\">2015-16</a>,\n",
       " <a href=\"https://download.gosa.ga.gov/2015/ACT_HIGHEST_2015_FEB_24_2020.csv\">2014-15</a>,\n",
       " <a href=\"https://download.gosa.ga.gov/2014/ACT_HIGHEST_2014_FEB_24_2020.csv\">2013-14</a>,\n",
       " <a href=\"https://download.gosa.ga.gov/2013/ACT_HIGHEST_2013_FEB_24_2020.csv\">2012-13</a>,\n",
       " <a href=\"https://download.gosa.ga.gov/2012/ACT_HIGHEST_2012_FEB_24_2020.csv\">2011-12</a>,\n",
       " <a href=\"https://download.gosa.ga.gov/2011/ACT_HIGHEST_2011_FEB_24_2020.csv\">2010-11</a>]"
      ]
     },
     "execution_count": 12,
     "metadata": {},
     "output_type": "execute_result"
    }
   ],
   "source": [
    "# Isolate each link and year\n",
    "act_isolation = df['DATA AVAILABLE FOR DOWNLOAD'][0].find_all(\"a\", href=True)\n",
    "\n",
    "act_isolation"
   ]
  },
  {
   "cell_type": "code",
   "execution_count": 13,
   "id": "eaf4377e",
   "metadata": {},
   "outputs": [],
   "source": [
    "# Define a function to accomplish the task of making dictionaries for years and links\n",
    "def parse_year_url(df_row):\n",
    "    years = []\n",
    "    urls = []\n",
    "    url_dict = {}\n",
    "    \n",
    "    isolation = df['DATA AVAILABLE FOR DOWNLOAD'][df_row].find_all(\"a\", href=True)\n",
    "    \n",
    "    for entry in isolation:\n",
    "        years.append(entry.text)\n",
    "        urls.append(entry['href'])\n",
    "\n",
    "    for year in range(len(years)):\n",
    "        url_dict[years[year]] = urls[year]\n",
    "\n",
    "    df['DATA AVAILABLE FOR DOWNLOAD'][df_row] = url_dict"
   ]
  },
  {
   "cell_type": "code",
   "execution_count": 14,
   "id": "ca94bed6",
   "metadata": {},
   "outputs": [],
   "source": [
    "# Loop through each row in the dataframe to make the Data Available for Download column into dictionaries\n",
    "for row in range(len(df['DATA AVAILABLE FOR DOWNLOAD'])):\n",
    "    parse_year_url(row)"
   ]
  },
  {
   "cell_type": "code",
   "execution_count": 15,
   "id": "437360e1",
   "metadata": {},
   "outputs": [
    {
     "data": {
      "text/plain": [
       "{'2016-17': 'https://gosa.georgia.gov/sites/gosa.georgia.gov/files/related_files/site_page/ELL_Deferred_2017_DEC_1st_2017.csv',\n",
       " '2015-16': 'https://gosa.georgia.gov/sites/gosa.georgia.gov/files/related_files/site_page/ELL_Deferred_2016_DEC_1st_2017.csv',\n",
       " '2014-15': 'https://gosa.georgia.gov/sites/gosa.georgia.gov/files/related_files/site_page/ELL_Deffered_2015_Mar292016.csv',\n",
       " '2013-14': 'https://gosa.georgia.gov/sites/gosa.georgia.gov/files/related_files/site_page/ELL_Deffered_2014_Jan_15th_2015.csv',\n",
       " '2012-13': 'https://gosa.georgia.gov/sites/gosa.georgia.gov/files/related_files/site_page/ELL_New_by_County_2013.csv',\n",
       " '2011-12': 'https://gosa.georgia.gov/sites/gosa.georgia.gov/files/related_files/site_page/ELL_New_by_County_2012.csv',\n",
       " '2010-11': 'https://download.gosa.ga.gov/2011/ELL_Deferred_2011_MAR_23_2020.csv'}"
      ]
     },
     "execution_count": 15,
     "metadata": {},
     "output_type": "execute_result"
    }
   ],
   "source": [
    "# Test to confirm the rows worked\n",
    "df['DATA AVAILABLE FOR DOWNLOAD'][35]"
   ]
  },
  {
   "cell_type": "markdown",
   "id": "c2800af0",
   "metadata": {},
   "source": [
    "## Reformat the Data Category and Description Columns"
   ]
  },
  {
   "cell_type": "code",
   "execution_count": 16,
   "id": "f49172a5",
   "metadata": {},
   "outputs": [],
   "source": [
    "# Define function to convert row into text and strip '\\n'\n",
    "def strip_row(dataframe, col_name):\n",
    "    for row in range(len(dataframe[col_name])):\n",
    "        dataframe[col_name][row] = dataframe[col_name][row].text.strip('\\n')"
   ]
  },
  {
   "cell_type": "code",
   "execution_count": 17,
   "id": "1ad48e02",
   "metadata": {},
   "outputs": [],
   "source": [
    "# Call function for Data Category and Description columns\n",
    "strip_row(df, 'DATA CATEGORY')\n",
    "strip_row(df, 'DESCRIPTION')"
   ]
  },
  {
   "cell_type": "code",
   "execution_count": 18,
   "id": "fcb1d132",
   "metadata": {},
   "outputs": [
    {
     "data": {
      "text/plain": [
       "(54, 3)"
      ]
     },
     "execution_count": 18,
     "metadata": {},
     "output_type": "execute_result"
    }
   ],
   "source": [
    "df.shape"
   ]
  },
  {
   "cell_type": "markdown",
   "id": "964b0643",
   "metadata": {},
   "source": [
    "## Melt the Data Frame for Years and URL Columns"
   ]
  },
  {
   "cell_type": "code",
   "execution_count": 19,
   "id": "d187a687",
   "metadata": {},
   "outputs": [
    {
     "data": {
      "text/plain": [
       "(54, 18)"
      ]
     },
     "execution_count": 19,
     "metadata": {},
     "output_type": "execute_result"
    }
   ],
   "source": [
    "# Convert dictionary into df columns \n",
    "df_year_url = df['DATA AVAILABLE FOR DOWNLOAD'].apply(pd.Series)\n",
    "df_year_url.shape"
   ]
  },
  {
   "cell_type": "code",
   "execution_count": 20,
   "id": "b4cdf33e",
   "metadata": {},
   "outputs": [],
   "source": [
    "# Since no common column, create temporary columns\n",
    "df['tmp'] = 1\n",
    "df_year_url['tmp'] = 1\n",
    "\n",
    "# Merge\n",
    "df_years = pd.merge(df, df_year_url, on=['tmp'])\n",
    "\n",
    "# Drop temp column\n",
    "df_years = df_years.drop('tmp', axis=1)\n"
   ]
  },
  {
   "cell_type": "code",
   "execution_count": 21,
   "id": "33fc90bf",
   "metadata": {},
   "outputs": [],
   "source": [
    "# Merge dataframes\n",
    "df_years_long = pd.melt(df_years, id_vars = ['DATA CATEGORY', 'DESCRIPTION', 'DATA AVAILABLE FOR DOWNLOAD'],\n",
    "                       value_vars = ['2019-20', '2018-19', '2017-18', '2016-17', '2015-16', '2014-15',\n",
    "                                     '2013-14', '2012-13', '2011-12', '2010-11', '2020', '2017', '2018',\n",
    "                                     '2019', '\\n2019-20\\n', '2015-2016', '\\n2018-19\\n'],\n",
    "                       var_name = 'Year', value_name = 'URL')"
   ]
  },
  {
   "cell_type": "code",
   "execution_count": 22,
   "id": "fec15ffc",
   "metadata": {},
   "outputs": [],
   "source": [
    "# Drop all rows with NaN\n",
    "df_years_long = df_years_long.dropna().reset_index()"
   ]
  },
  {
   "cell_type": "code",
   "execution_count": 23,
   "id": "ecb7fc92",
   "metadata": {},
   "outputs": [
    {
     "name": "stderr",
     "output_type": "stream",
     "text": [
      "<ipython-input-23-32f3b3762ba6>:3: SettingWithCopyWarning: \n",
      "A value is trying to be set on a copy of a slice from a DataFrame\n",
      "\n",
      "See the caveats in the documentation: https://pandas.pydata.org/pandas-docs/stable/user_guide/indexing.html#returning-a-view-versus-a-copy\n",
      "  df_years_long['Year'][row] = df_years_long['Year'][row].strip('\\n')\n"
     ]
    }
   ],
   "source": [
    "# Strip our all '\\n' from the Year column\n",
    "for row in range(len(df_years_long['Year'])):\n",
    "    df_years_long['Year'][row] = df_years_long['Year'][row].strip('\\n')"
   ]
  },
  {
   "cell_type": "code",
   "execution_count": 24,
   "id": "06ac2807",
   "metadata": {},
   "outputs": [
    {
     "data": {
      "text/html": [
       "<div>\n",
       "<style scoped>\n",
       "    .dataframe tbody tr th:only-of-type {\n",
       "        vertical-align: middle;\n",
       "    }\n",
       "\n",
       "    .dataframe tbody tr th {\n",
       "        vertical-align: top;\n",
       "    }\n",
       "\n",
       "    .dataframe thead th {\n",
       "        text-align: right;\n",
       "    }\n",
       "</style>\n",
       "<table border=\"1\" class=\"dataframe\">\n",
       "  <thead>\n",
       "    <tr style=\"text-align: right;\">\n",
       "      <th></th>\n",
       "      <th>index</th>\n",
       "      <th>DATA CATEGORY</th>\n",
       "      <th>DESCRIPTION</th>\n",
       "      <th>DATA AVAILABLE FOR DOWNLOAD</th>\n",
       "      <th>Year</th>\n",
       "      <th>URL</th>\n",
       "    </tr>\n",
       "  </thead>\n",
       "  <tbody>\n",
       "    <tr>\n",
       "      <th>0</th>\n",
       "      <td>0</td>\n",
       "      <td>ACT Scores (Highest)</td>\n",
       "      <td>ACT testing counts and average composite and s...</td>\n",
       "      <td>{'2019-20': 'https://download.gosa.ga.gov/2020...</td>\n",
       "      <td>2019-20</td>\n",
       "      <td>https://download.gosa.ga.gov/2020/ACT_HIGHEST_...</td>\n",
       "    </tr>\n",
       "    <tr>\n",
       "      <th>1</th>\n",
       "      <td>1</td>\n",
       "      <td>ACT Scores (Highest)</td>\n",
       "      <td>ACT testing counts and average composite and s...</td>\n",
       "      <td>{'2019-20': 'https://download.gosa.ga.gov/2020...</td>\n",
       "      <td>2019-20</td>\n",
       "      <td>https://download.gosa.ga.gov/2020/ACT_RECENT_2...</td>\n",
       "    </tr>\n",
       "    <tr>\n",
       "      <th>2</th>\n",
       "      <td>2</td>\n",
       "      <td>ACT Scores (Highest)</td>\n",
       "      <td>ACT testing counts and average composite and s...</td>\n",
       "      <td>{'2019-20': 'https://download.gosa.ga.gov/2020...</td>\n",
       "      <td>2019-20</td>\n",
       "      <td>https://download.gosa.ga.gov/2020/AP_2020_JUN_...</td>\n",
       "    </tr>\n",
       "    <tr>\n",
       "      <th>3</th>\n",
       "      <td>3</td>\n",
       "      <td>ACT Scores (Highest)</td>\n",
       "      <td>ACT testing counts and average composite and s...</td>\n",
       "      <td>{'2019-20': 'https://download.gosa.ga.gov/2020...</td>\n",
       "      <td>2019-20</td>\n",
       "      <td>https://download.gosa.ga.gov/2020/Attendance_2...</td>\n",
       "    </tr>\n",
       "    <tr>\n",
       "      <th>4</th>\n",
       "      <td>4</td>\n",
       "      <td>ACT Scores (Highest)</td>\n",
       "      <td>ACT testing counts and average composite and s...</td>\n",
       "      <td>{'2019-20': 'https://download.gosa.ga.gov/2020...</td>\n",
       "      <td>2019-20</td>\n",
       "      <td>https://download.gosa.ga.gov/2020/Certified_Pe...</td>\n",
       "    </tr>\n",
       "    <tr>\n",
       "      <th>...</th>\n",
       "      <td>...</td>\n",
       "      <td>...</td>\n",
       "      <td>...</td>\n",
       "      <td>...</td>\n",
       "      <td>...</td>\n",
       "      <td>...</td>\n",
       "    </tr>\n",
       "    <tr>\n",
       "      <th>17059</th>\n",
       "      <td>49452</td>\n",
       "      <td>Georgia Alternate Assessment (GAA) (Retired)</td>\n",
       "      <td>Number of students tested as well as totals an...</td>\n",
       "      <td>{'2017-18': 'https://download.gosa.ga.gov/2018...</td>\n",
       "      <td>2018-19</td>\n",
       "      <td>https://gosa.georgia.gov/document/document/201...</td>\n",
       "    </tr>\n",
       "    <tr>\n",
       "      <th>17060</th>\n",
       "      <td>49505</td>\n",
       "      <td>Georgia High School Graduation Test (GHSGT) (R...</td>\n",
       "      <td>Number of students tested as well as totals an...</td>\n",
       "      <td>{'2010-11': 'https://gosa.georgia.gov/sites/go...</td>\n",
       "      <td>2018-19</td>\n",
       "      <td>https://gosa.georgia.gov/document/document/201...</td>\n",
       "    </tr>\n",
       "    <tr>\n",
       "      <th>17061</th>\n",
       "      <td>49506</td>\n",
       "      <td>Georgia High School Graduation Test (GHSGT) (R...</td>\n",
       "      <td>Number of students tested as well as totals an...</td>\n",
       "      <td>{'2010-11': 'https://gosa.georgia.gov/sites/go...</td>\n",
       "      <td>2018-19</td>\n",
       "      <td>https://gosa.georgia.gov/document/document/201...</td>\n",
       "    </tr>\n",
       "    <tr>\n",
       "      <th>17062</th>\n",
       "      <td>49559</td>\n",
       "      <td>Georgia High School Writing Test (GHSWT) (Reti...</td>\n",
       "      <td>Number of students tested as well as totals an...</td>\n",
       "      <td>{'2014-15': 'https://gosa.georgia.gov/sites/go...</td>\n",
       "      <td>2018-19</td>\n",
       "      <td>https://gosa.georgia.gov/document/document/201...</td>\n",
       "    </tr>\n",
       "    <tr>\n",
       "      <th>17063</th>\n",
       "      <td>49560</td>\n",
       "      <td>Georgia High School Writing Test (GHSWT) (Reti...</td>\n",
       "      <td>Number of students tested as well as totals an...</td>\n",
       "      <td>{'2014-15': 'https://gosa.georgia.gov/sites/go...</td>\n",
       "      <td>2018-19</td>\n",
       "      <td>https://gosa.georgia.gov/document/document/201...</td>\n",
       "    </tr>\n",
       "  </tbody>\n",
       "</table>\n",
       "<p>17064 rows × 6 columns</p>\n",
       "</div>"
      ],
      "text/plain": [
       "       index                                      DATA CATEGORY  \\\n",
       "0          0                               ACT Scores (Highest)   \n",
       "1          1                               ACT Scores (Highest)   \n",
       "2          2                               ACT Scores (Highest)   \n",
       "3          3                               ACT Scores (Highest)   \n",
       "4          4                               ACT Scores (Highest)   \n",
       "...      ...                                                ...   \n",
       "17059  49452       Georgia Alternate Assessment (GAA) (Retired)   \n",
       "17060  49505  Georgia High School Graduation Test (GHSGT) (R...   \n",
       "17061  49506  Georgia High School Graduation Test (GHSGT) (R...   \n",
       "17062  49559  Georgia High School Writing Test (GHSWT) (Reti...   \n",
       "17063  49560  Georgia High School Writing Test (GHSWT) (Reti...   \n",
       "\n",
       "                                             DESCRIPTION  \\\n",
       "0      ACT testing counts and average composite and s...   \n",
       "1      ACT testing counts and average composite and s...   \n",
       "2      ACT testing counts and average composite and s...   \n",
       "3      ACT testing counts and average composite and s...   \n",
       "4      ACT testing counts and average composite and s...   \n",
       "...                                                  ...   \n",
       "17059  Number of students tested as well as totals an...   \n",
       "17060  Number of students tested as well as totals an...   \n",
       "17061  Number of students tested as well as totals an...   \n",
       "17062  Number of students tested as well as totals an...   \n",
       "17063  Number of students tested as well as totals an...   \n",
       "\n",
       "                             DATA AVAILABLE FOR DOWNLOAD     Year  \\\n",
       "0      {'2019-20': 'https://download.gosa.ga.gov/2020...  2019-20   \n",
       "1      {'2019-20': 'https://download.gosa.ga.gov/2020...  2019-20   \n",
       "2      {'2019-20': 'https://download.gosa.ga.gov/2020...  2019-20   \n",
       "3      {'2019-20': 'https://download.gosa.ga.gov/2020...  2019-20   \n",
       "4      {'2019-20': 'https://download.gosa.ga.gov/2020...  2019-20   \n",
       "...                                                  ...      ...   \n",
       "17059  {'2017-18': 'https://download.gosa.ga.gov/2018...  2018-19   \n",
       "17060  {'2010-11': 'https://gosa.georgia.gov/sites/go...  2018-19   \n",
       "17061  {'2010-11': 'https://gosa.georgia.gov/sites/go...  2018-19   \n",
       "17062  {'2014-15': 'https://gosa.georgia.gov/sites/go...  2018-19   \n",
       "17063  {'2014-15': 'https://gosa.georgia.gov/sites/go...  2018-19   \n",
       "\n",
       "                                                     URL  \n",
       "0      https://download.gosa.ga.gov/2020/ACT_HIGHEST_...  \n",
       "1      https://download.gosa.ga.gov/2020/ACT_RECENT_2...  \n",
       "2      https://download.gosa.ga.gov/2020/AP_2020_JUN_...  \n",
       "3      https://download.gosa.ga.gov/2020/Attendance_2...  \n",
       "4      https://download.gosa.ga.gov/2020/Certified_Pe...  \n",
       "...                                                  ...  \n",
       "17059  https://gosa.georgia.gov/document/document/201...  \n",
       "17060  https://gosa.georgia.gov/document/document/201...  \n",
       "17061  https://gosa.georgia.gov/document/document/201...  \n",
       "17062  https://gosa.georgia.gov/document/document/201...  \n",
       "17063  https://gosa.georgia.gov/document/document/201...  \n",
       "\n",
       "[17064 rows x 6 columns]"
      ]
     },
     "execution_count": 24,
     "metadata": {},
     "output_type": "execute_result"
    }
   ],
   "source": [
    "df_years_long"
   ]
  },
  {
   "cell_type": "code",
   "execution_count": null,
   "id": "011b25e9",
   "metadata": {},
   "outputs": [],
   "source": []
  }
 ],
 "metadata": {
  "kernelspec": {
   "display_name": "Python 3",
   "language": "python",
   "name": "python3"
  },
  "language_info": {
   "codemirror_mode": {
    "name": "ipython",
    "version": 3
   },
   "file_extension": ".py",
   "mimetype": "text/x-python",
   "name": "python",
   "nbconvert_exporter": "python",
   "pygments_lexer": "ipython3",
   "version": "3.8.8"
  },
  "toc": {
   "base_numbering": 1,
   "nav_menu": {},
   "number_sections": true,
   "sideBar": true,
   "skip_h1_title": false,
   "title_cell": "Table of Contents",
   "title_sidebar": "Contents",
   "toc_cell": false,
   "toc_position": {},
   "toc_section_display": true,
   "toc_window_display": true
  }
 },
 "nbformat": 4,
 "nbformat_minor": 5
}
