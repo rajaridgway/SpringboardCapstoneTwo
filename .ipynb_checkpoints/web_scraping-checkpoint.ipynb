{
 "cells": [
  {
   "cell_type": "markdown",
   "id": "db5f5911",
   "metadata": {},
   "source": [
    "# Webscraping Test"
   ]
  },
  {
   "cell_type": "markdown",
   "id": "0450f38a",
   "metadata": {},
   "source": [
    "The goal of webscraping the GOSA website is to retrieve the urls needed to download relevant datasets.\n",
    "\n",
    "The urls are located in the \"DATA AVAILABLE FOR DOWNLOAD\" column of the table on the GOSA Downloadable Data website."
   ]
  },
  {
   "cell_type": "code",
   "execution_count": 1,
   "id": "edf8cdfd",
   "metadata": {},
   "outputs": [],
   "source": [
    "# Import necessary packages (code adapated from https://towardsdatascience.com/web-scraping-scraping-table-data-1665b6b2271c)\n",
    "from bs4 import BeautifulSoup\n",
    "import requests\n",
    "import pandas as pd\n",
    "import re"
   ]
  },
  {
   "cell_type": "code",
   "execution_count": 2,
   "id": "cf9de962",
   "metadata": {},
   "outputs": [],
   "source": [
    "# GOSA Downloadable Data site URL\n",
    "url = 'https://gosa.georgia.gov/dashboards-data-report-card/downloadable-data'"
   ]
  },
  {
   "cell_type": "code",
   "execution_count": 3,
   "id": "3da3bd5d",
   "metadata": {},
   "outputs": [],
   "source": [
    "# Make a GET request to fetch the raw HTML content\n",
    "html_content = requests.get(url).text"
   ]
  },
  {
   "cell_type": "code",
   "execution_count": 4,
   "id": "22ec6697",
   "metadata": {},
   "outputs": [],
   "source": [
    "# Parse HTML code for the entire site\n",
    "soup = BeautifulSoup(html_content, \"lxml\")\n",
    "#print(soup.prettify()) # print the parsed data of html"
   ]
  },
  {
   "cell_type": "code",
   "execution_count": 5,
   "id": "fbc49617",
   "metadata": {},
   "outputs": [],
   "source": [
    "#print(soup.prettify())"
   ]
  },
  {
   "cell_type": "markdown",
   "id": "360e41b9",
   "metadata": {},
   "source": [
    "In reviewing the HTML above, it looks like the table class needed is \"stacked-row-plus\" and the columns needed are the first \"DATA CATEGORY\" and the third \"DATA AVAILABLE FOR DOWNLOAD\""
   ]
  },
  {
   "cell_type": "code",
   "execution_count": 6,
   "id": "d3a87cb6",
   "metadata": {},
   "outputs": [
    {
     "name": "stdout",
     "output_type": "stream",
     "text": [
      "Number of tables on site:  1\n"
     ]
    }
   ],
   "source": [
    "# On site there are 1 tables with the class \"stacked-row-plus\"\n",
    "# The following line will generate a list of HTML content for each table\n",
    "gdp = soup.find_all(\"table\", attrs={\"class\": \"stacked-row-plus\"})\n",
    "print(\"Number of tables on site: \",len(gdp))"
   ]
  },
  {
   "cell_type": "code",
   "execution_count": 7,
   "id": "c948a73b",
   "metadata": {},
   "outputs": [
    {
     "name": "stdout",
     "output_type": "stream",
     "text": [
      "['DATA CATEGORY', 'DESCRIPTION', 'DATA AVAILABLE FOR DOWNLOAD']\n"
     ]
    }
   ],
   "source": [
    "# Lets go ahead and scrape first table with HTML code gdp[0]\n",
    "table1 = gdp[0]\n",
    "# the head will form our column names\n",
    "body = table1.find_all(\"tr\")\n",
    "# Head values (Column names) are the first items of the body list\n",
    "head = body[0] # 0th item is the header row\n",
    "body_rows = body[1:] # All other items becomes the rest of the rows\n",
    "\n",
    "# Lets now iterate through the head HTML code and make list of clean headings\n",
    "\n",
    "# Declare empty list to keep Columns names\n",
    "headings = []\n",
    "for item in head.find_all(\"th\"): # loop through all th elements\n",
    "    # convert the th elements to text and strip \"\\n\"\n",
    "    item = (item.text).rstrip(\"\\n\")\n",
    "    # append the clean column name to headings\n",
    "    headings.append(item)\n",
    "print(headings)"
   ]
  },
  {
   "cell_type": "code",
   "execution_count": 8,
   "id": "58d4a3af",
   "metadata": {},
   "outputs": [],
   "source": [
    "# Loop through all body rows \n",
    "\n",
    "all_rows = [] #list for all body rows\n",
    "for row_num in range(len(body_rows)): # One row at a time\n",
    "    row = [] # this will old entries for one row\n",
    "    for row_item in body_rows[row_num].find_all(\"td\"): #loop through all row entries\n",
    "        aa = row_item \n",
    "        row.append(aa)\n",
    "    all_rows.append(row)"
   ]
  },
  {
   "cell_type": "code",
   "execution_count": 9,
   "id": "9c8fd3e8",
   "metadata": {},
   "outputs": [],
   "source": [
    "# Create a dataframe using the rows and three column headers\n",
    "df = pd.DataFrame(all_rows, columns=headings)"
   ]
  },
  {
   "cell_type": "code",
   "execution_count": 10,
   "id": "cfa3b770",
   "metadata": {},
   "outputs": [
    {
     "data": {
      "text/html": [
       "<div>\n",
       "<style scoped>\n",
       "    .dataframe tbody tr th:only-of-type {\n",
       "        vertical-align: middle;\n",
       "    }\n",
       "\n",
       "    .dataframe tbody tr th {\n",
       "        vertical-align: top;\n",
       "    }\n",
       "\n",
       "    .dataframe thead th {\n",
       "        text-align: right;\n",
       "    }\n",
       "</style>\n",
       "<table border=\"1\" class=\"dataframe\">\n",
       "  <thead>\n",
       "    <tr style=\"text-align: right;\">\n",
       "      <th></th>\n",
       "      <th>DATA CATEGORY</th>\n",
       "      <th>DESCRIPTION</th>\n",
       "      <th>DATA AVAILABLE FOR DOWNLOAD</th>\n",
       "    </tr>\n",
       "  </thead>\n",
       "  <tbody>\n",
       "    <tr>\n",
       "      <th>0</th>\n",
       "      <td>[\\n, [[ACT Scores (Highest)]], \\n]</td>\n",
       "      <td>[\\n, [ACT testing counts and average composite...</td>\n",
       "      <td>[\\n, [ ], \\n, [[2019-20], [], [2018-19],  , []...</td>\n",
       "    </tr>\n",
       "    <tr>\n",
       "      <th>1</th>\n",
       "      <td>[[ACT Scores (Recent)]]</td>\n",
       "      <td>[\\n, [ACT testing counts and average composite...</td>\n",
       "      <td>[[2019-20]]</td>\n",
       "    </tr>\n",
       "    <tr>\n",
       "      <th>2</th>\n",
       "      <td>[[Advanced Placement (AP) Scores]]</td>\n",
       "      <td>[\\n, [Number of students tested, number of AP ...</td>\n",
       "      <td>[\\n, [ ], \\n, [[2019-20], [], [2018-19],  , []...</td>\n",
       "    </tr>\n",
       "    <tr>\n",
       "      <th>3</th>\n",
       "      <td>[[Attendance]]</td>\n",
       "      <td>[\\n, [Collected from the Student Record showin...</td>\n",
       "      <td>[\\n, [ ], \\n, [[2019-20], [], [2018-19], [], [...</td>\n",
       "    </tr>\n",
       "    <tr>\n",
       "      <th>4</th>\n",
       "      <td>[[Certified Personnel]]</td>\n",
       "      <td>[Certified Personnel data are compiled from in...</td>\n",
       "      <td>[\\n, [ ], \\n, [[2019-20], [], [2018-19], [], [...</td>\n",
       "    </tr>\n",
       "  </tbody>\n",
       "</table>\n",
       "</div>"
      ],
      "text/plain": [
       "                        DATA CATEGORY  \\\n",
       "0  [\\n, [[ACT Scores (Highest)]], \\n]   \n",
       "1             [[ACT Scores (Recent)]]   \n",
       "2  [[Advanced Placement (AP) Scores]]   \n",
       "3                      [[Attendance]]   \n",
       "4             [[Certified Personnel]]   \n",
       "\n",
       "                                         DESCRIPTION  \\\n",
       "0  [\\n, [ACT testing counts and average composite...   \n",
       "1  [\\n, [ACT testing counts and average composite...   \n",
       "2  [\\n, [Number of students tested, number of AP ...   \n",
       "3  [\\n, [Collected from the Student Record showin...   \n",
       "4  [Certified Personnel data are compiled from in...   \n",
       "\n",
       "                         DATA AVAILABLE FOR DOWNLOAD  \n",
       "0  [\\n, [ ], \\n, [[2019-20], [], [2018-19],  , []...  \n",
       "1                                        [[2019-20]]  \n",
       "2  [\\n, [ ], \\n, [[2019-20], [], [2018-19],  , []...  \n",
       "3  [\\n, [ ], \\n, [[2019-20], [], [2018-19], [], [...  \n",
       "4  [\\n, [ ], \\n, [[2019-20], [], [2018-19], [], [...  "
      ]
     },
     "execution_count": 10,
     "metadata": {},
     "output_type": "execute_result"
    }
   ],
   "source": [
    "# Review the dataframe\n",
    "df.head()"
   ]
  },
  {
   "cell_type": "code",
   "execution_count": 11,
   "id": "e8354d37",
   "metadata": {},
   "outputs": [
    {
     "data": {
      "text/plain": [
       "<td>\n",
       "<p> </p>\n",
       "<p><a href=\"https://download.gosa.ga.gov/2020/ACT_HIGHEST_2020_JUN_21_2021.csv\">2019-20</a><br/><a href=\"https://download.gosa.ga.gov/2019/ACT_HIGHEST_2019_FEB_24_2020.csv\">2018-19</a> <br/><a href=\"https://download.gosa.ga.gov/2018/ACT_HIGHEST_2018_FEB_24_2020.csv\">2017-18</a><br/><a href=\"https://download.gosa.ga.gov/2017/ACT_HIGHEST_2017_FEB_24_2020.csv\">2016-17</a><br/><a href=\"https://download.gosa.ga.gov/2016/ACT_HIGHEST_2016_FEB_24_2020.csv\">2015-16</a><br/><a href=\"https://download.gosa.ga.gov/2015/ACT_HIGHEST_2015_FEB_24_2020.csv\">2014-15</a><br/><a href=\"https://download.gosa.ga.gov/2014/ACT_HIGHEST_2014_FEB_24_2020.csv\">2013-14</a><br/><a href=\"https://download.gosa.ga.gov/2013/ACT_HIGHEST_2013_FEB_24_2020.csv\">2012-13</a><br/><a href=\"https://download.gosa.ga.gov/2012/ACT_HIGHEST_2012_FEB_24_2020.csv\">2011-12</a><br/><a href=\"https://download.gosa.ga.gov/2011/ACT_HIGHEST_2011_FEB_24_2020.csv\">2010-11</a></p>\n",
       "<p> </p>\n",
       "</td>"
      ]
     },
     "execution_count": 11,
     "metadata": {},
     "output_type": "execute_result"
    }
   ],
   "source": [
    "# Check to see what is available in the data for download column\n",
    "df['DATA AVAILABLE FOR DOWNLOAD'][0]"
   ]
  },
  {
   "cell_type": "code",
   "execution_count": 12,
   "id": "fe57115f",
   "metadata": {},
   "outputs": [
    {
     "data": {
      "text/plain": [
       "[<a href=\"https://download.gosa.ga.gov/2020/ACT_HIGHEST_2020_JUN_21_2021.csv\">2019-20</a>,\n",
       " <a href=\"https://download.gosa.ga.gov/2019/ACT_HIGHEST_2019_FEB_24_2020.csv\">2018-19</a>,\n",
       " <a href=\"https://download.gosa.ga.gov/2018/ACT_HIGHEST_2018_FEB_24_2020.csv\">2017-18</a>,\n",
       " <a href=\"https://download.gosa.ga.gov/2017/ACT_HIGHEST_2017_FEB_24_2020.csv\">2016-17</a>,\n",
       " <a href=\"https://download.gosa.ga.gov/2016/ACT_HIGHEST_2016_FEB_24_2020.csv\">2015-16</a>,\n",
       " <a href=\"https://download.gosa.ga.gov/2015/ACT_HIGHEST_2015_FEB_24_2020.csv\">2014-15</a>,\n",
       " <a href=\"https://download.gosa.ga.gov/2014/ACT_HIGHEST_2014_FEB_24_2020.csv\">2013-14</a>,\n",
       " <a href=\"https://download.gosa.ga.gov/2013/ACT_HIGHEST_2013_FEB_24_2020.csv\">2012-13</a>,\n",
       " <a href=\"https://download.gosa.ga.gov/2012/ACT_HIGHEST_2012_FEB_24_2020.csv\">2011-12</a>,\n",
       " <a href=\"https://download.gosa.ga.gov/2011/ACT_HIGHEST_2011_FEB_24_2020.csv\">2010-11</a>]"
      ]
     },
     "execution_count": 12,
     "metadata": {},
     "output_type": "execute_result"
    }
   ],
   "source": [
    "# TODO: reformat the Data Available for Download column\n",
    "\n",
    "# Isolate each link and year\n",
    "act_isolation = df['DATA AVAILABLE FOR DOWNLOAD'][0].find_all(\"a\", href=True)\n",
    "\n",
    "act_isolation"
   ]
  },
  {
   "cell_type": "code",
   "execution_count": 13,
   "id": "abfeb71d",
   "metadata": {},
   "outputs": [
    {
     "data": {
      "text/plain": [
       "{'2019-20': 'https://download.gosa.ga.gov/2020/ACT_HIGHEST_2020_JUN_21_2021.csv',\n",
       " '2018-19': 'https://download.gosa.ga.gov/2019/ACT_HIGHEST_2019_FEB_24_2020.csv',\n",
       " '2017-18': 'https://download.gosa.ga.gov/2018/ACT_HIGHEST_2018_FEB_24_2020.csv',\n",
       " '2016-17': 'https://download.gosa.ga.gov/2017/ACT_HIGHEST_2017_FEB_24_2020.csv',\n",
       " '2015-16': 'https://download.gosa.ga.gov/2016/ACT_HIGHEST_2016_FEB_24_2020.csv',\n",
       " '2014-15': 'https://download.gosa.ga.gov/2015/ACT_HIGHEST_2015_FEB_24_2020.csv',\n",
       " '2013-14': 'https://download.gosa.ga.gov/2014/ACT_HIGHEST_2014_FEB_24_2020.csv',\n",
       " '2012-13': 'https://download.gosa.ga.gov/2013/ACT_HIGHEST_2013_FEB_24_2020.csv',\n",
       " '2011-12': 'https://download.gosa.ga.gov/2012/ACT_HIGHEST_2012_FEB_24_2020.csv',\n",
       " '2010-11': 'https://download.gosa.ga.gov/2011/ACT_HIGHEST_2011_FEB_24_2020.csv'}"
      ]
     },
     "execution_count": 13,
     "metadata": {},
     "output_type": "execute_result"
    }
   ],
   "source": [
    "# Create a dictionary of the years and links\n",
    "years = []\n",
    "urls = []\n",
    "url_dict = {}\n",
    "for entry in act_isolation:\n",
    "    years.append(entry.text)\n",
    "    urls.append(entry['href'])\n",
    "\n",
    "for year in range(len(years)):\n",
    "    url_dict[years[year]] = urls[year]\n",
    "\n",
    "url_dict"
   ]
  },
  {
   "cell_type": "code",
   "execution_count": 14,
   "id": "bff144dc",
   "metadata": {},
   "outputs": [],
   "source": [
    "# Replace the data available for download entry with the dictionary of years and links\n",
    "#df['DATA AVAILABLE FOR DOWNLOAD'][0] = url_dict"
   ]
  },
  {
   "cell_type": "code",
   "execution_count": 15,
   "id": "2eb06c10",
   "metadata": {},
   "outputs": [
    {
     "data": {
      "text/html": [
       "<div>\n",
       "<style scoped>\n",
       "    .dataframe tbody tr th:only-of-type {\n",
       "        vertical-align: middle;\n",
       "    }\n",
       "\n",
       "    .dataframe tbody tr th {\n",
       "        vertical-align: top;\n",
       "    }\n",
       "\n",
       "    .dataframe thead th {\n",
       "        text-align: right;\n",
       "    }\n",
       "</style>\n",
       "<table border=\"1\" class=\"dataframe\">\n",
       "  <thead>\n",
       "    <tr style=\"text-align: right;\">\n",
       "      <th></th>\n",
       "      <th>DATA CATEGORY</th>\n",
       "      <th>DESCRIPTION</th>\n",
       "      <th>DATA AVAILABLE FOR DOWNLOAD</th>\n",
       "    </tr>\n",
       "  </thead>\n",
       "  <tbody>\n",
       "    <tr>\n",
       "      <th>0</th>\n",
       "      <td>[\\n, [[ACT Scores (Highest)]], \\n]</td>\n",
       "      <td>[\\n, [ACT testing counts and average composite...</td>\n",
       "      <td>[\\n, [ ], \\n, [[2019-20], [], [2018-19],  , []...</td>\n",
       "    </tr>\n",
       "    <tr>\n",
       "      <th>1</th>\n",
       "      <td>[[ACT Scores (Recent)]]</td>\n",
       "      <td>[\\n, [ACT testing counts and average composite...</td>\n",
       "      <td>[[2019-20]]</td>\n",
       "    </tr>\n",
       "    <tr>\n",
       "      <th>2</th>\n",
       "      <td>[[Advanced Placement (AP) Scores]]</td>\n",
       "      <td>[\\n, [Number of students tested, number of AP ...</td>\n",
       "      <td>[\\n, [ ], \\n, [[2019-20], [], [2018-19],  , []...</td>\n",
       "    </tr>\n",
       "    <tr>\n",
       "      <th>3</th>\n",
       "      <td>[[Attendance]]</td>\n",
       "      <td>[\\n, [Collected from the Student Record showin...</td>\n",
       "      <td>[\\n, [ ], \\n, [[2019-20], [], [2018-19], [], [...</td>\n",
       "    </tr>\n",
       "    <tr>\n",
       "      <th>4</th>\n",
       "      <td>[[Certified Personnel]]</td>\n",
       "      <td>[Certified Personnel data are compiled from in...</td>\n",
       "      <td>[\\n, [ ], \\n, [[2019-20], [], [2018-19], [], [...</td>\n",
       "    </tr>\n",
       "  </tbody>\n",
       "</table>\n",
       "</div>"
      ],
      "text/plain": [
       "                        DATA CATEGORY  \\\n",
       "0  [\\n, [[ACT Scores (Highest)]], \\n]   \n",
       "1             [[ACT Scores (Recent)]]   \n",
       "2  [[Advanced Placement (AP) Scores]]   \n",
       "3                      [[Attendance]]   \n",
       "4             [[Certified Personnel]]   \n",
       "\n",
       "                                         DESCRIPTION  \\\n",
       "0  [\\n, [ACT testing counts and average composite...   \n",
       "1  [\\n, [ACT testing counts and average composite...   \n",
       "2  [\\n, [Number of students tested, number of AP ...   \n",
       "3  [\\n, [Collected from the Student Record showin...   \n",
       "4  [Certified Personnel data are compiled from in...   \n",
       "\n",
       "                         DATA AVAILABLE FOR DOWNLOAD  \n",
       "0  [\\n, [ ], \\n, [[2019-20], [], [2018-19],  , []...  \n",
       "1                                        [[2019-20]]  \n",
       "2  [\\n, [ ], \\n, [[2019-20], [], [2018-19],  , []...  \n",
       "3  [\\n, [ ], \\n, [[2019-20], [], [2018-19], [], [...  \n",
       "4  [\\n, [ ], \\n, [[2019-20], [], [2018-19], [], [...  "
      ]
     },
     "execution_count": 15,
     "metadata": {},
     "output_type": "execute_result"
    }
   ],
   "source": [
    "df.head()"
   ]
  },
  {
   "cell_type": "code",
   "execution_count": 18,
   "id": "71b9b66e",
   "metadata": {},
   "outputs": [],
   "source": [
    "# TODO: Reproduce the urls for each entry in the dataframe\n",
    "for i in range(len(df['DATA AVAILABLE FOR DOWNLOAD'])):\n",
    "    isolation = df['DATA AVAILABLE FOR DOWNLOAD'][i].find_all(\"a\", href=True)"
   ]
  },
  {
   "cell_type": "code",
   "execution_count": 19,
   "id": "7e3ccaa3",
   "metadata": {},
   "outputs": [],
   "source": [
    "# Define a function to accomplish the task of making dictionaries for years and links\n",
    "def parse_year_url(df_row):\n",
    "    years = []\n",
    "    urls = []\n",
    "    url_dict = {}\n",
    "    \n",
    "    isolation = df['DATA AVAILABLE FOR DOWNLOAD'][df_row].find_all(\"a\", href=True)\n",
    "    \n",
    "    for entry in isolation:\n",
    "        years.append(entry.text)\n",
    "        urls.append(entry['href'])\n",
    "\n",
    "    for year in range(len(years)):\n",
    "        url_dict[years[year]] = urls[year]\n",
    "\n",
    "    df['DATA AVAILABLE FOR DOWNLOAD'][df_row] = url_dict"
   ]
  },
  {
   "cell_type": "code",
   "execution_count": null,
   "id": "6f11807e",
   "metadata": {},
   "outputs": [],
   "source": []
  },
  {
   "cell_type": "code",
   "execution_count": 17,
   "id": "c20ce76b",
   "metadata": {},
   "outputs": [],
   "source": [
    "# TODO: Remove all the html from the text in the Data Category and Description columns"
   ]
  }
 ],
 "metadata": {
  "kernelspec": {
   "display_name": "Python 3",
   "language": "python",
   "name": "python3"
  },
  "language_info": {
   "codemirror_mode": {
    "name": "ipython",
    "version": 3
   },
   "file_extension": ".py",
   "mimetype": "text/x-python",
   "name": "python",
   "nbconvert_exporter": "python",
   "pygments_lexer": "ipython3",
   "version": "3.8.8"
  },
  "toc": {
   "base_numbering": 1,
   "nav_menu": {},
   "number_sections": true,
   "sideBar": true,
   "skip_h1_title": false,
   "title_cell": "Table of Contents",
   "title_sidebar": "Contents",
   "toc_cell": false,
   "toc_position": {},
   "toc_section_display": true,
   "toc_window_display": false
  }
 },
 "nbformat": 4,
 "nbformat_minor": 5
}
